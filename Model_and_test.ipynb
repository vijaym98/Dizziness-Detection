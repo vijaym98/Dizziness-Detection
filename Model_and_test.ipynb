{
  "nbformat": 4,
  "nbformat_minor": 0,
  "metadata": {
    "colab": {
      "name": "Model_and_test.ipynb",
      "provenance": [],
      "toc_visible": true
    },
    "kernelspec": {
      "name": "python3",
      "display_name": "Python 3"
    }
  },
  "cells": [
    {
      "cell_type": "code",
      "metadata": {
        "id": "LMyvL0ZOXUyR",
        "colab_type": "code",
        "colab": {}
      },
      "source": [
        "import pandas as pd\n",
        "import numpy as np\n",
        "from sklearn.model_selection import train_test_split"
      ],
      "execution_count": 0,
      "outputs": []
    },
    {
      "cell_type": "code",
      "metadata": {
        "id": "o0zQ0GITXndF",
        "colab_type": "code",
        "colab": {}
      },
      "source": [
        "df = pd.read_csv('/content/dataset1.csv')\n",
        "df = df.drop([\"Unnamed: 0\"], axis=1)"
      ],
      "execution_count": 0,
      "outputs": []
    },
    {
      "cell_type": "code",
      "metadata": {
        "id": "zNgbd8mPZMfB",
        "colab_type": "code",
        "colab": {}
      },
      "source": [
        "X = df.drop([\"y\"], axis = 1)\n",
        "y = df[\"y\"]"
      ],
      "execution_count": 0,
      "outputs": []
    },
    {
      "cell_type": "code",
      "metadata": {
        "id": "_5jWEOAecS5G",
        "colab_type": "code",
        "colab": {}
      },
      "source": [
        "for i in range(len(y)):\n",
        "  if y[i] == 10: y[i]=1"
      ],
      "execution_count": 0,
      "outputs": []
    },
    {
      "cell_type": "code",
      "metadata": {
        "id": "AV8yE3LWcwM8",
        "colab_type": "code",
        "outputId": "f34f774d-ed32-417c-9202-6072ce073427",
        "colab": {
          "base_uri": "https://localhost:8080/",
          "height": 221
        }
      },
      "source": [
        "y"
      ],
      "execution_count": 5,
      "outputs": [
        {
          "output_type": "execute_result",
          "data": {
            "text/plain": [
              "0       0.0\n",
              "1       0.0\n",
              "2       0.0\n",
              "3       0.0\n",
              "4       0.0\n",
              "       ... \n",
              "5711    1.0\n",
              "5712    1.0\n",
              "5713    1.0\n",
              "5714    1.0\n",
              "5715    1.0\n",
              "Name: y, Length: 5716, dtype: float64"
            ]
          },
          "metadata": {
            "tags": []
          },
          "execution_count": 5
        }
      ]
    },
    {
      "cell_type": "code",
      "metadata": {
        "id": "s3o-DUOyc0cz",
        "colab_type": "code",
        "colab": {}
      },
      "source": [
        "X_train, X_a, y_train, y_a = train_test_split(X,y,test_size = 2/12)"
      ],
      "execution_count": 0,
      "outputs": []
    },
    {
      "cell_type": "code",
      "metadata": {
        "id": "XghemU7WxcJA",
        "colab_type": "code",
        "colab": {}
      },
      "source": [
        "X_b,X_test,y_b,y_test = train_test_split(X_a,y_a,test_size = 1/2)"
      ],
      "execution_count": 0,
      "outputs": []
    },
    {
      "cell_type": "code",
      "metadata": {
        "id": "AcXtnVwIayhn",
        "colab_type": "code",
        "colab": {}
      },
      "source": [
        "X_train_shaped = np.expand_dims(X_train, axis=2)\n",
        "X_test_shaped = np.expand_dims(X_test, axis=2)"
      ],
      "execution_count": 0,
      "outputs": []
    },
    {
      "cell_type": "markdown",
      "metadata": {
        "id": "1wCNpxSn4G9O",
        "colab_type": "text"
      },
      "source": [
        "# CNN Model\n"
      ]
    },
    {
      "cell_type": "code",
      "metadata": {
        "id": "rmstcRI_ZkiU",
        "colab_type": "code",
        "outputId": "6e29fdc0-3c82-4a7c-f15a-74300ff727d0",
        "colab": {
          "base_uri": "https://localhost:8080/",
          "height": 80
        }
      },
      "source": [
        "from keras.models import Sequential\n",
        "from keras.layers import Dense, Flatten\n",
        "from keras.layers.convolutional import Conv1D\n",
        "from keras.optimizers import Adam, RMSprop\n",
        "from keras.layers import Dropout"
      ],
      "execution_count": 9,
      "outputs": [
        {
          "output_type": "stream",
          "text": [
            "Using TensorFlow backend.\n"
          ],
          "name": "stderr"
        },
        {
          "output_type": "display_data",
          "data": {
            "text/html": [
              "<p style=\"color: red;\">\n",
              "The default version of TensorFlow in Colab will soon switch to TensorFlow 2.x.<br>\n",
              "We recommend you <a href=\"https://www.tensorflow.org/guide/migrate\" target=\"_blank\">upgrade</a> now \n",
              "or ensure your notebook will continue to use TensorFlow 1.x via the <code>%tensorflow_version 1.x</code> magic:\n",
              "<a href=\"https://colab.research.google.com/notebooks/tensorflow_version.ipynb\" target=\"_blank\">more info</a>.</p>\n"
            ],
            "text/plain": [
              "<IPython.core.display.HTML object>"
            ]
          },
          "metadata": {
            "tags": []
          }
        }
      ]
    },
    {
      "cell_type": "code",
      "metadata": {
        "id": "GcAzHYRibIX8",
        "colab_type": "code",
        "outputId": "2bdd1e8f-876e-497e-ac8c-58bbdeec009a",
        "colab": {
          "base_uri": "https://localhost:8080/",
          "height": 34
        }
      },
      "source": [
        "X_train.shape"
      ],
      "execution_count": 10,
      "outputs": [
        {
          "output_type": "execute_result",
          "data": {
            "text/plain": [
              "(4763, 4)"
            ]
          },
          "metadata": {
            "tags": []
          },
          "execution_count": 10
        }
      ]
    },
    {
      "cell_type": "code",
      "metadata": {
        "id": "agxywlDhZl6w",
        "colab_type": "code",
        "outputId": "402f35db-b798-45e8-d17c-41f3133fec0b",
        "colab": {
          "base_uri": "https://localhost:8080/",
          "height": 224
        }
      },
      "source": [
        "model = Sequential()\n",
        "\n",
        "model.add(Conv1D(64, kernel_size = 3, activation = 'relu', input_shape = (4,1)))\n",
        "model.add(Flatten())\n",
        "model.add(Dense(32, activation='relu'))\n",
        "model.add(Dense(16, activation = 'relu'))\n",
        "model.add(Dropout(0.4))\n",
        "model.add(Dense(1,activation = 'sigmoid'))"
      ],
      "execution_count": 11,
      "outputs": [
        {
          "output_type": "stream",
          "text": [
            "WARNING:tensorflow:From /usr/local/lib/python3.6/dist-packages/keras/backend/tensorflow_backend.py:66: The name tf.get_default_graph is deprecated. Please use tf.compat.v1.get_default_graph instead.\n",
            "\n",
            "WARNING:tensorflow:From /usr/local/lib/python3.6/dist-packages/keras/backend/tensorflow_backend.py:541: The name tf.placeholder is deprecated. Please use tf.compat.v1.placeholder instead.\n",
            "\n",
            "WARNING:tensorflow:From /usr/local/lib/python3.6/dist-packages/keras/backend/tensorflow_backend.py:4432: The name tf.random_uniform is deprecated. Please use tf.random.uniform instead.\n",
            "\n",
            "WARNING:tensorflow:From /usr/local/lib/python3.6/dist-packages/keras/backend/tensorflow_backend.py:148: The name tf.placeholder_with_default is deprecated. Please use tf.compat.v1.placeholder_with_default instead.\n",
            "\n",
            "WARNING:tensorflow:From /usr/local/lib/python3.6/dist-packages/keras/backend/tensorflow_backend.py:3733: calling dropout (from tensorflow.python.ops.nn_ops) with keep_prob is deprecated and will be removed in a future version.\n",
            "Instructions for updating:\n",
            "Please use `rate` instead of `keep_prob`. Rate should be set to `rate = 1 - keep_prob`.\n"
          ],
          "name": "stdout"
        }
      ]
    },
    {
      "cell_type": "code",
      "metadata": {
        "id": "StusOevBaoJi",
        "colab_type": "code",
        "outputId": "de33f03e-04e6-43b1-8157-c254fc870977",
        "colab": {
          "base_uri": "https://localhost:8080/",
          "height": 156
        }
      },
      "source": [
        "optimizer = Adam(lr=0.00001)\n",
        "model.compile(loss='binary_crossentropy', optimizer=optimizer, metrics=['accuracy'])"
      ],
      "execution_count": 12,
      "outputs": [
        {
          "output_type": "stream",
          "text": [
            "WARNING:tensorflow:From /usr/local/lib/python3.6/dist-packages/keras/optimizers.py:793: The name tf.train.Optimizer is deprecated. Please use tf.compat.v1.train.Optimizer instead.\n",
            "\n",
            "WARNING:tensorflow:From /usr/local/lib/python3.6/dist-packages/keras/backend/tensorflow_backend.py:3657: The name tf.log is deprecated. Please use tf.math.log instead.\n",
            "\n",
            "WARNING:tensorflow:From /tensorflow-1.15.0/python3.6/tensorflow_core/python/ops/nn_impl.py:183: where (from tensorflow.python.ops.array_ops) is deprecated and will be removed in a future version.\n",
            "Instructions for updating:\n",
            "Use tf.where in 2.0, which has the same broadcast rule as np.where\n"
          ],
          "name": "stdout"
        }
      ]
    },
    {
      "cell_type": "code",
      "metadata": {
        "id": "3N_1vx3HasvJ",
        "colab_type": "code",
        "outputId": "24998702-1aaa-4b38-c0fb-dc8b347bbe5c",
        "colab": {
          "base_uri": "https://localhost:8080/",
          "height": 1000
        }
      },
      "source": [
        "history = model.fit(X_train_shaped, y_train, validation_data = (X_test_shaped,y_test), epochs = 100)"
      ],
      "execution_count": 13,
      "outputs": [
        {
          "output_type": "stream",
          "text": [
            "WARNING:tensorflow:From /usr/local/lib/python3.6/dist-packages/keras/backend/tensorflow_backend.py:1033: The name tf.assign_add is deprecated. Please use tf.compat.v1.assign_add instead.\n",
            "\n",
            "WARNING:tensorflow:From /usr/local/lib/python3.6/dist-packages/keras/backend/tensorflow_backend.py:1020: The name tf.assign is deprecated. Please use tf.compat.v1.assign instead.\n",
            "\n",
            "WARNING:tensorflow:From /usr/local/lib/python3.6/dist-packages/keras/backend/tensorflow_backend.py:3005: The name tf.Session is deprecated. Please use tf.compat.v1.Session instead.\n",
            "\n",
            "Train on 4763 samples, validate on 477 samples\n",
            "Epoch 1/100\n",
            "WARNING:tensorflow:From /usr/local/lib/python3.6/dist-packages/keras/backend/tensorflow_backend.py:190: The name tf.get_default_session is deprecated. Please use tf.compat.v1.get_default_session instead.\n",
            "\n",
            "WARNING:tensorflow:From /usr/local/lib/python3.6/dist-packages/keras/backend/tensorflow_backend.py:197: The name tf.ConfigProto is deprecated. Please use tf.compat.v1.ConfigProto instead.\n",
            "\n",
            "WARNING:tensorflow:From /usr/local/lib/python3.6/dist-packages/keras/backend/tensorflow_backend.py:207: The name tf.global_variables is deprecated. Please use tf.compat.v1.global_variables instead.\n",
            "\n",
            "WARNING:tensorflow:From /usr/local/lib/python3.6/dist-packages/keras/backend/tensorflow_backend.py:216: The name tf.is_variable_initialized is deprecated. Please use tf.compat.v1.is_variable_initialized instead.\n",
            "\n",
            "WARNING:tensorflow:From /usr/local/lib/python3.6/dist-packages/keras/backend/tensorflow_backend.py:223: The name tf.variables_initializer is deprecated. Please use tf.compat.v1.variables_initializer instead.\n",
            "\n",
            "4763/4763 [==============================] - 1s 125us/step - loss: 0.9472 - acc: 0.5062 - val_loss: 0.9014 - val_acc: 0.4906\n",
            "Epoch 2/100\n",
            "4763/4763 [==============================] - 0s 51us/step - loss: 0.9222 - acc: 0.5062 - val_loss: 0.8747 - val_acc: 0.4969\n",
            "Epoch 3/100\n",
            "4763/4763 [==============================] - 0s 53us/step - loss: 0.9096 - acc: 0.5112 - val_loss: 0.8503 - val_acc: 0.5052\n",
            "Epoch 4/100\n",
            "4763/4763 [==============================] - 0s 53us/step - loss: 0.8879 - acc: 0.5159 - val_loss: 0.8289 - val_acc: 0.5241\n",
            "Epoch 5/100\n",
            "4763/4763 [==============================] - 0s 49us/step - loss: 0.8620 - acc: 0.5339 - val_loss: 0.8099 - val_acc: 0.5535\n",
            "Epoch 6/100\n",
            "4763/4763 [==============================] - 0s 50us/step - loss: 0.8540 - acc: 0.5289 - val_loss: 0.7888 - val_acc: 0.5597\n",
            "Epoch 7/100\n",
            "4763/4763 [==============================] - 0s 51us/step - loss: 0.8055 - acc: 0.5413 - val_loss: 0.7701 - val_acc: 0.5639\n",
            "Epoch 8/100\n",
            "4763/4763 [==============================] - 0s 50us/step - loss: 0.8007 - acc: 0.5379 - val_loss: 0.7514 - val_acc: 0.5702\n",
            "Epoch 9/100\n",
            "4763/4763 [==============================] - 0s 49us/step - loss: 0.7668 - acc: 0.5543 - val_loss: 0.7365 - val_acc: 0.5891\n",
            "Epoch 10/100\n",
            "4763/4763 [==============================] - 0s 50us/step - loss: 0.7642 - acc: 0.5488 - val_loss: 0.7230 - val_acc: 0.6164\n",
            "Epoch 11/100\n",
            "4763/4763 [==============================] - 0s 52us/step - loss: 0.7500 - acc: 0.5696 - val_loss: 0.7109 - val_acc: 0.6247\n",
            "Epoch 12/100\n",
            "4763/4763 [==============================] - 0s 50us/step - loss: 0.7321 - acc: 0.5646 - val_loss: 0.6990 - val_acc: 0.6268\n",
            "Epoch 13/100\n",
            "4763/4763 [==============================] - 0s 52us/step - loss: 0.7187 - acc: 0.5748 - val_loss: 0.6897 - val_acc: 0.6289\n",
            "Epoch 14/100\n",
            "4763/4763 [==============================] - 0s 51us/step - loss: 0.7080 - acc: 0.5816 - val_loss: 0.6816 - val_acc: 0.6247\n",
            "Epoch 15/100\n",
            "4763/4763 [==============================] - 0s 50us/step - loss: 0.6939 - acc: 0.5860 - val_loss: 0.6753 - val_acc: 0.6289\n",
            "Epoch 16/100\n",
            "4763/4763 [==============================] - 0s 50us/step - loss: 0.6829 - acc: 0.5933 - val_loss: 0.6689 - val_acc: 0.6310\n",
            "Epoch 17/100\n",
            "4763/4763 [==============================] - 0s 50us/step - loss: 0.6790 - acc: 0.6009 - val_loss: 0.6645 - val_acc: 0.6247\n",
            "Epoch 18/100\n",
            "4763/4763 [==============================] - 0s 52us/step - loss: 0.6666 - acc: 0.6024 - val_loss: 0.6601 - val_acc: 0.6289\n",
            "Epoch 19/100\n",
            "4763/4763 [==============================] - 0s 55us/step - loss: 0.6635 - acc: 0.5982 - val_loss: 0.6576 - val_acc: 0.6310\n",
            "Epoch 20/100\n",
            "4763/4763 [==============================] - 0s 52us/step - loss: 0.6600 - acc: 0.6063 - val_loss: 0.6545 - val_acc: 0.6268\n",
            "Epoch 21/100\n",
            "4763/4763 [==============================] - 0s 51us/step - loss: 0.6513 - acc: 0.6139 - val_loss: 0.6533 - val_acc: 0.6310\n",
            "Epoch 22/100\n",
            "4763/4763 [==============================] - 0s 54us/step - loss: 0.6434 - acc: 0.6196 - val_loss: 0.6514 - val_acc: 0.6310\n",
            "Epoch 23/100\n",
            "4763/4763 [==============================] - 0s 51us/step - loss: 0.6469 - acc: 0.6126 - val_loss: 0.6494 - val_acc: 0.6331\n",
            "Epoch 24/100\n",
            "4763/4763 [==============================] - 0s 52us/step - loss: 0.6465 - acc: 0.6244 - val_loss: 0.6490 - val_acc: 0.6331\n",
            "Epoch 25/100\n",
            "4763/4763 [==============================] - 0s 50us/step - loss: 0.6508 - acc: 0.6097 - val_loss: 0.6477 - val_acc: 0.6331\n",
            "Epoch 26/100\n",
            "4763/4763 [==============================] - 0s 51us/step - loss: 0.6421 - acc: 0.6210 - val_loss: 0.6449 - val_acc: 0.6415\n",
            "Epoch 27/100\n",
            "4763/4763 [==============================] - 0s 53us/step - loss: 0.6413 - acc: 0.6194 - val_loss: 0.6432 - val_acc: 0.6310\n",
            "Epoch 28/100\n",
            "4763/4763 [==============================] - 0s 50us/step - loss: 0.6399 - acc: 0.6206 - val_loss: 0.6418 - val_acc: 0.6352\n",
            "Epoch 29/100\n",
            "4763/4763 [==============================] - 0s 52us/step - loss: 0.6372 - acc: 0.6254 - val_loss: 0.6408 - val_acc: 0.6373\n",
            "Epoch 30/100\n",
            "4763/4763 [==============================] - 0s 59us/step - loss: 0.6390 - acc: 0.6244 - val_loss: 0.6398 - val_acc: 0.6331\n",
            "Epoch 31/100\n",
            "4763/4763 [==============================] - 0s 50us/step - loss: 0.6367 - acc: 0.6236 - val_loss: 0.6390 - val_acc: 0.6331\n",
            "Epoch 32/100\n",
            "4763/4763 [==============================] - 0s 49us/step - loss: 0.6408 - acc: 0.6133 - val_loss: 0.6378 - val_acc: 0.6373\n",
            "Epoch 33/100\n",
            "4763/4763 [==============================] - 0s 51us/step - loss: 0.6325 - acc: 0.6267 - val_loss: 0.6376 - val_acc: 0.6352\n",
            "Epoch 34/100\n",
            "4763/4763 [==============================] - 0s 51us/step - loss: 0.6362 - acc: 0.6309 - val_loss: 0.6363 - val_acc: 0.6352\n",
            "Epoch 35/100\n",
            "4763/4763 [==============================] - 0s 51us/step - loss: 0.6331 - acc: 0.6196 - val_loss: 0.6349 - val_acc: 0.6352\n",
            "Epoch 36/100\n",
            "4763/4763 [==============================] - 0s 50us/step - loss: 0.6253 - acc: 0.6399 - val_loss: 0.6353 - val_acc: 0.6373\n",
            "Epoch 37/100\n",
            "4763/4763 [==============================] - 0s 49us/step - loss: 0.6349 - acc: 0.6328 - val_loss: 0.6347 - val_acc: 0.6373\n",
            "Epoch 38/100\n",
            "4763/4763 [==============================] - 0s 51us/step - loss: 0.6289 - acc: 0.6334 - val_loss: 0.6336 - val_acc: 0.6373\n",
            "Epoch 39/100\n",
            "4763/4763 [==============================] - 0s 50us/step - loss: 0.6300 - acc: 0.6357 - val_loss: 0.6327 - val_acc: 0.6331\n",
            "Epoch 40/100\n",
            "4763/4763 [==============================] - 0s 49us/step - loss: 0.6260 - acc: 0.6376 - val_loss: 0.6320 - val_acc: 0.6331\n",
            "Epoch 41/100\n",
            "4763/4763 [==============================] - 0s 51us/step - loss: 0.6283 - acc: 0.6366 - val_loss: 0.6318 - val_acc: 0.6331\n",
            "Epoch 42/100\n",
            "4763/4763 [==============================] - 0s 51us/step - loss: 0.6272 - acc: 0.6296 - val_loss: 0.6301 - val_acc: 0.6331\n",
            "Epoch 43/100\n",
            "4763/4763 [==============================] - 0s 51us/step - loss: 0.6269 - acc: 0.6305 - val_loss: 0.6297 - val_acc: 0.6373\n",
            "Epoch 44/100\n",
            "4763/4763 [==============================] - 0s 50us/step - loss: 0.6207 - acc: 0.6456 - val_loss: 0.6290 - val_acc: 0.6436\n",
            "Epoch 45/100\n",
            "4763/4763 [==============================] - 0s 50us/step - loss: 0.6218 - acc: 0.6378 - val_loss: 0.6281 - val_acc: 0.6373\n",
            "Epoch 46/100\n",
            "4763/4763 [==============================] - 0s 50us/step - loss: 0.6216 - acc: 0.6425 - val_loss: 0.6275 - val_acc: 0.6352\n",
            "Epoch 47/100\n",
            "4763/4763 [==============================] - 0s 52us/step - loss: 0.6279 - acc: 0.6376 - val_loss: 0.6270 - val_acc: 0.6352\n",
            "Epoch 48/100\n",
            "4763/4763 [==============================] - 0s 51us/step - loss: 0.6193 - acc: 0.6494 - val_loss: 0.6264 - val_acc: 0.6373\n",
            "Epoch 49/100\n",
            "4763/4763 [==============================] - 0s 50us/step - loss: 0.6163 - acc: 0.6513 - val_loss: 0.6257 - val_acc: 0.6394\n",
            "Epoch 50/100\n",
            "4763/4763 [==============================] - 0s 49us/step - loss: 0.6231 - acc: 0.6473 - val_loss: 0.6254 - val_acc: 0.6373\n",
            "Epoch 51/100\n",
            "4763/4763 [==============================] - 0s 49us/step - loss: 0.6175 - acc: 0.6590 - val_loss: 0.6244 - val_acc: 0.6352\n",
            "Epoch 52/100\n",
            "4763/4763 [==============================] - 0s 51us/step - loss: 0.6179 - acc: 0.6584 - val_loss: 0.6238 - val_acc: 0.6394\n",
            "Epoch 53/100\n",
            "4763/4763 [==============================] - 0s 51us/step - loss: 0.6219 - acc: 0.6492 - val_loss: 0.6238 - val_acc: 0.6436\n",
            "Epoch 54/100\n",
            "4763/4763 [==============================] - 0s 50us/step - loss: 0.6154 - acc: 0.6620 - val_loss: 0.6234 - val_acc: 0.6394\n",
            "Epoch 55/100\n",
            "4763/4763 [==============================] - 0s 50us/step - loss: 0.6232 - acc: 0.6513 - val_loss: 0.6232 - val_acc: 0.6415\n",
            "Epoch 56/100\n",
            "4763/4763 [==============================] - 0s 51us/step - loss: 0.6141 - acc: 0.6580 - val_loss: 0.6228 - val_acc: 0.6373\n",
            "Epoch 57/100\n",
            "4763/4763 [==============================] - 0s 50us/step - loss: 0.6178 - acc: 0.6588 - val_loss: 0.6220 - val_acc: 0.6394\n",
            "Epoch 58/100\n",
            "4763/4763 [==============================] - 0s 49us/step - loss: 0.6158 - acc: 0.6601 - val_loss: 0.6211 - val_acc: 0.6394\n",
            "Epoch 59/100\n",
            "4763/4763 [==============================] - 0s 51us/step - loss: 0.6137 - acc: 0.6643 - val_loss: 0.6209 - val_acc: 0.6373\n",
            "Epoch 60/100\n",
            "4763/4763 [==============================] - 0s 51us/step - loss: 0.6155 - acc: 0.6574 - val_loss: 0.6209 - val_acc: 0.6394\n",
            "Epoch 61/100\n",
            "4763/4763 [==============================] - 0s 49us/step - loss: 0.6122 - acc: 0.6620 - val_loss: 0.6199 - val_acc: 0.6415\n",
            "Epoch 62/100\n",
            "4763/4763 [==============================] - 0s 51us/step - loss: 0.6108 - acc: 0.6609 - val_loss: 0.6191 - val_acc: 0.6415\n",
            "Epoch 63/100\n",
            "4763/4763 [==============================] - 0s 54us/step - loss: 0.6093 - acc: 0.6666 - val_loss: 0.6188 - val_acc: 0.6373\n",
            "Epoch 64/100\n",
            "4763/4763 [==============================] - 0s 49us/step - loss: 0.6126 - acc: 0.6622 - val_loss: 0.6177 - val_acc: 0.6457\n",
            "Epoch 65/100\n",
            "4763/4763 [==============================] - 0s 50us/step - loss: 0.6142 - acc: 0.6571 - val_loss: 0.6178 - val_acc: 0.6457\n",
            "Epoch 66/100\n",
            "4763/4763 [==============================] - 0s 51us/step - loss: 0.6127 - acc: 0.6649 - val_loss: 0.6175 - val_acc: 0.6457\n",
            "Epoch 67/100\n",
            "4763/4763 [==============================] - 0s 49us/step - loss: 0.6076 - acc: 0.6618 - val_loss: 0.6166 - val_acc: 0.6478\n",
            "Epoch 68/100\n",
            "4763/4763 [==============================] - 0s 49us/step - loss: 0.6096 - acc: 0.6655 - val_loss: 0.6157 - val_acc: 0.6520\n",
            "Epoch 69/100\n",
            "4763/4763 [==============================] - 0s 52us/step - loss: 0.6043 - acc: 0.6714 - val_loss: 0.6154 - val_acc: 0.6499\n",
            "Epoch 70/100\n",
            "4763/4763 [==============================] - 0s 50us/step - loss: 0.6061 - acc: 0.6695 - val_loss: 0.6156 - val_acc: 0.6457\n",
            "Epoch 71/100\n",
            "4763/4763 [==============================] - 0s 54us/step - loss: 0.6060 - acc: 0.6647 - val_loss: 0.6151 - val_acc: 0.6499\n",
            "Epoch 72/100\n",
            "4763/4763 [==============================] - 0s 49us/step - loss: 0.6070 - acc: 0.6674 - val_loss: 0.6146 - val_acc: 0.6541\n",
            "Epoch 73/100\n",
            "4763/4763 [==============================] - 0s 53us/step - loss: 0.6091 - acc: 0.6691 - val_loss: 0.6140 - val_acc: 0.6562\n",
            "Epoch 74/100\n",
            "4763/4763 [==============================] - 0s 51us/step - loss: 0.6024 - acc: 0.6771 - val_loss: 0.6134 - val_acc: 0.6583\n",
            "Epoch 75/100\n",
            "4763/4763 [==============================] - 0s 49us/step - loss: 0.6069 - acc: 0.6704 - val_loss: 0.6133 - val_acc: 0.6604\n",
            "Epoch 76/100\n",
            "4763/4763 [==============================] - 0s 51us/step - loss: 0.6033 - acc: 0.6807 - val_loss: 0.6129 - val_acc: 0.6583\n",
            "Epoch 77/100\n",
            "4763/4763 [==============================] - 0s 49us/step - loss: 0.6032 - acc: 0.6769 - val_loss: 0.6121 - val_acc: 0.6604\n",
            "Epoch 78/100\n",
            "4763/4763 [==============================] - 0s 56us/step - loss: 0.6046 - acc: 0.6727 - val_loss: 0.6118 - val_acc: 0.6583\n",
            "Epoch 79/100\n",
            "4763/4763 [==============================] - 0s 59us/step - loss: 0.6014 - acc: 0.6805 - val_loss: 0.6111 - val_acc: 0.6604\n",
            "Epoch 80/100\n",
            "4763/4763 [==============================] - 0s 50us/step - loss: 0.6088 - acc: 0.6637 - val_loss: 0.6106 - val_acc: 0.6646\n",
            "Epoch 81/100\n",
            "4763/4763 [==============================] - 0s 51us/step - loss: 0.6026 - acc: 0.6689 - val_loss: 0.6105 - val_acc: 0.6646\n",
            "Epoch 82/100\n",
            "4763/4763 [==============================] - 0s 51us/step - loss: 0.6026 - acc: 0.6769 - val_loss: 0.6104 - val_acc: 0.6646\n",
            "Epoch 83/100\n",
            "4763/4763 [==============================] - 0s 50us/step - loss: 0.6021 - acc: 0.6710 - val_loss: 0.6100 - val_acc: 0.6667\n",
            "Epoch 84/100\n",
            "4763/4763 [==============================] - 0s 51us/step - loss: 0.5980 - acc: 0.6828 - val_loss: 0.6092 - val_acc: 0.6688\n",
            "Epoch 85/100\n",
            "4763/4763 [==============================] - 0s 52us/step - loss: 0.6017 - acc: 0.6737 - val_loss: 0.6088 - val_acc: 0.6688\n",
            "Epoch 86/100\n",
            "4763/4763 [==============================] - 0s 51us/step - loss: 0.6024 - acc: 0.6773 - val_loss: 0.6083 - val_acc: 0.6709\n",
            "Epoch 87/100\n",
            "4763/4763 [==============================] - 0s 50us/step - loss: 0.5982 - acc: 0.6763 - val_loss: 0.6076 - val_acc: 0.6730\n",
            "Epoch 88/100\n",
            "4763/4763 [==============================] - 0s 52us/step - loss: 0.6011 - acc: 0.6763 - val_loss: 0.6077 - val_acc: 0.6751\n",
            "Epoch 89/100\n",
            "4763/4763 [==============================] - 0s 50us/step - loss: 0.5992 - acc: 0.6733 - val_loss: 0.6073 - val_acc: 0.6751\n",
            "Epoch 90/100\n",
            "4763/4763 [==============================] - 0s 50us/step - loss: 0.5956 - acc: 0.6805 - val_loss: 0.6066 - val_acc: 0.6730\n",
            "Epoch 91/100\n",
            "4763/4763 [==============================] - 0s 51us/step - loss: 0.6014 - acc: 0.6710 - val_loss: 0.6061 - val_acc: 0.6771\n",
            "Epoch 92/100\n",
            "4763/4763 [==============================] - 0s 52us/step - loss: 0.6010 - acc: 0.6729 - val_loss: 0.6058 - val_acc: 0.6813\n",
            "Epoch 93/100\n",
            "4763/4763 [==============================] - 0s 51us/step - loss: 0.5977 - acc: 0.6830 - val_loss: 0.6053 - val_acc: 0.6813\n",
            "Epoch 94/100\n",
            "4763/4763 [==============================] - 0s 48us/step - loss: 0.5930 - acc: 0.6872 - val_loss: 0.6051 - val_acc: 0.6792\n",
            "Epoch 95/100\n",
            "4763/4763 [==============================] - 0s 50us/step - loss: 0.5954 - acc: 0.6828 - val_loss: 0.6048 - val_acc: 0.6771\n",
            "Epoch 96/100\n",
            "4763/4763 [==============================] - 0s 50us/step - loss: 0.5964 - acc: 0.6834 - val_loss: 0.6044 - val_acc: 0.6771\n",
            "Epoch 97/100\n",
            "4763/4763 [==============================] - 0s 48us/step - loss: 0.5918 - acc: 0.6878 - val_loss: 0.6045 - val_acc: 0.6792\n",
            "Epoch 98/100\n",
            "4763/4763 [==============================] - 0s 51us/step - loss: 0.5985 - acc: 0.6775 - val_loss: 0.6041 - val_acc: 0.6813\n",
            "Epoch 99/100\n",
            "4763/4763 [==============================] - 0s 53us/step - loss: 0.5958 - acc: 0.6832 - val_loss: 0.6037 - val_acc: 0.6813\n",
            "Epoch 100/100\n",
            "4763/4763 [==============================] - 0s 52us/step - loss: 0.5912 - acc: 0.6859 - val_loss: 0.6034 - val_acc: 0.6834\n"
          ],
          "name": "stdout"
        }
      ]
    },
    {
      "cell_type": "code",
      "metadata": {
        "id": "8Yvisgs6dXst",
        "colab_type": "code",
        "outputId": "09966017-6d9a-412a-d747-6cc8882c7be9",
        "colab": {
          "base_uri": "https://localhost:8080/",
          "height": 357
        }
      },
      "source": [
        "model.summary()"
      ],
      "execution_count": 14,
      "outputs": [
        {
          "output_type": "stream",
          "text": [
            "Model: \"sequential_1\"\n",
            "_________________________________________________________________\n",
            "Layer (type)                 Output Shape              Param #   \n",
            "=================================================================\n",
            "conv1d_1 (Conv1D)            (None, 2, 64)             256       \n",
            "_________________________________________________________________\n",
            "flatten_1 (Flatten)          (None, 128)               0         \n",
            "_________________________________________________________________\n",
            "dense_1 (Dense)              (None, 32)                4128      \n",
            "_________________________________________________________________\n",
            "dense_2 (Dense)              (None, 16)                528       \n",
            "_________________________________________________________________\n",
            "dropout_1 (Dropout)          (None, 16)                0         \n",
            "_________________________________________________________________\n",
            "dense_3 (Dense)              (None, 1)                 17        \n",
            "=================================================================\n",
            "Total params: 4,929\n",
            "Trainable params: 4,929\n",
            "Non-trainable params: 0\n",
            "_________________________________________________________________\n"
          ],
          "name": "stdout"
        }
      ]
    },
    {
      "cell_type": "code",
      "metadata": {
        "id": "TW5XV2mCdj2n",
        "colab_type": "code",
        "colab": {}
      },
      "source": [
        "X_b_shaped = np.expand_dims(X_b, axis=2)\n",
        "count=0\n",
        "test_pred = model.predict_classes(X_b_shaped)\n",
        "k1 = np.array(test_pred[:,0])\n",
        "k2 = np.array(y_b)\n",
        "for i in range(len(y_b)):\n",
        "  if k1[i] == k2[i]:\n",
        "    count = count+1\n",
        "accuracy = (count*100)/len(y_b)"
      ],
      "execution_count": 0,
      "outputs": []
    },
    {
      "cell_type": "code",
      "metadata": {
        "id": "M0csklytfHvZ",
        "colab_type": "code",
        "outputId": "1e375e39-082e-4a86-cd72-37c155845258",
        "colab": {
          "base_uri": "https://localhost:8080/",
          "height": 34
        }
      },
      "source": [
        "accuracy"
      ],
      "execution_count": 16,
      "outputs": [
        {
          "output_type": "execute_result",
          "data": {
            "text/plain": [
              "69.74789915966386"
            ]
          },
          "metadata": {
            "tags": []
          },
          "execution_count": 16
        }
      ]
    },
    {
      "cell_type": "code",
      "metadata": {
        "id": "jgABEtsU0uGo",
        "colab_type": "code",
        "colab": {}
      },
      "source": [
        "import matplotlib.pyplot as plt"
      ],
      "execution_count": 0,
      "outputs": []
    },
    {
      "cell_type": "code",
      "metadata": {
        "id": "0PQUGJ0omWd-",
        "colab_type": "code",
        "colab": {}
      },
      "source": [
        "plt.plot(history.history['acc'])\n",
        "plt.plot(history.history['val_acc'])\n",
        "plt.title('Model accuracy')\n",
        "plt.ylabel('Accuracy')\n",
        "plt.xlabel('Epoch')\n",
        "plt.legend(['Train', 'Test'], loc='upper left')\n",
        "plt.show()\n",
        "\n",
        "# Plot training & validation loss values\n",
        "plt.plot(history.history['loss'])\n",
        "plt.plot(history.history['val_loss'])\n",
        "plt.title('Model loss')\n",
        "plt.ylabel('Loss')\n",
        "plt.xlabel('Epoch')\n",
        "plt.legend(['Train', 'Test'], loc='upper left')\n",
        "plt.show()"
      ],
      "execution_count": 0,
      "outputs": []
    },
    {
      "cell_type": "code",
      "metadata": {
        "id": "A6JZCHx4mxHd",
        "colab_type": "code",
        "colab": {}
      },
      "source": [
        "from sklearn.metrics import roc_curve, roc_auc_score, f1_score\n",
        "from sklearn.metrics import accuracy_score\n",
        "from sklearn.metrics import confusion_matrix"
      ],
      "execution_count": 0,
      "outputs": []
    },
    {
      "cell_type": "code",
      "metadata": {
        "id": "Bi2-05mNo7hR",
        "colab_type": "code",
        "outputId": "fe78b92a-daeb-459b-e7ac-371cc6438808",
        "colab": {
          "base_uri": "https://localhost:8080/",
          "height": 119
        }
      },
      "source": [
        "acc = accuracy_score(k2, k1)\n",
        "f1 = f1_score(k2, test_pred[:,0])\n",
        "y_score = model.predict_proba(X_b_shaped)\n",
        "roc = roc_auc_score(k2, y_score)\n",
        "print('The accuracy of this model is ' + str(acc))\n",
        "print('The f1 score of this model is ' + str(f1))\n",
        "print('The area under curve of this model is ' + str(roc))\n",
        "print('The confusion matrix is as follows:')\n",
        "print(confusion_matrix(y_b, test_pred[:,0]))"
      ],
      "execution_count": 20,
      "outputs": [
        {
          "output_type": "stream",
          "text": [
            "The accuracy of this model is 0.6974789915966386\n",
            "The f1 score of this model is 0.6785714285714285\n",
            "The area under curve of this model is 0.7801885460066379\n",
            "The confusion matrix is as follows:\n",
            "[[180  58]\n",
            " [ 86 152]]\n"
          ],
          "name": "stdout"
        }
      ]
    },
    {
      "cell_type": "code",
      "metadata": {
        "id": "oYlVfkgoqItD",
        "colab_type": "code",
        "outputId": "997bd6d7-e1ec-453d-8cb0-9146f4149dbe",
        "colab": {
          "base_uri": "https://localhost:8080/",
          "height": 312
        }
      },
      "source": [
        "fpr, tpr,x = roc_curve( k2, y_score)\n",
        "plt.plot(fpr, tpr)\n",
        "plt.title('ROC Curve')\n",
        "plt.xlabel('False Positive Rate')\n",
        "plt.ylabel('True Positive Rate')"
      ],
      "execution_count": 21,
      "outputs": [
        {
          "output_type": "execute_result",
          "data": {
            "text/plain": [
              "Text(0, 0.5, 'True Positive Rate')"
            ]
          },
          "metadata": {
            "tags": []
          },
          "execution_count": 21
        },
        {
          "output_type": "display_data",
          "data": {
            "image/png": "[encoded data removed]",
            "text/plain": [
              "<Figure size 432x288 with 1 Axes>"
            ]
          },
          "metadata": {
            "tags": []
          }
        }
      ]
    },
    {
      "cell_type": "markdown",
      "metadata": {
        "id": "-T6QWIg74RwY",
        "colab_type": "text"
      },
      "source": [
        "# Testing on New files"
      ]
    },
    {
      "cell_type": "code",
      "metadata": {
        "id": "UCQlypEUDitX",
        "colab_type": "code",
        "colab": {}
      },
      "source": [
        "import numpy as np\n",
        "import math\n",
        "import cv2"
      ],
      "execution_count": 0,
      "outputs": []
    },
    {
      "cell_type": "code",
      "metadata": {
        "id": "-TJStSOTDdf8",
        "colab_type": "code",
        "colab": {}
      },
      "source": [
        "from scipy.spatial import distance\n",
        "from mlxtend.image import extract_face_landmarks"
      ],
      "execution_count": 0,
      "outputs": []
    },
    {
      "cell_type": "code",
      "metadata": {
        "id": "I2L1fBaYDXHD",
        "colab_type": "code",
        "colab": {}
      },
      "source": [
        "def images(x):\n",
        "    vc.set(cv2.CAP_PROP_POS_MSEC, x)\n",
        "    result,image = vc.read()\n",
        "    return result, image"
      ],
      "execution_count": 0,
      "outputs": []
    },
    {
      "cell_type": "code",
      "metadata": {
        "id": "3IQbusxCC8Cu",
        "colab_type": "code",
        "colab": {}
      },
      "source": [
        "path = '/content/drive/My Drive/Untitled folder/Video/'\n",
        "filename = 'test5.mp4'"
      ],
      "execution_count": 0,
      "outputs": []
    },
    {
      "cell_type": "code",
      "metadata": {
        "id": "H_BvncH-DEEr",
        "colab_type": "code",
        "colab": {
          "base_uri": "https://localhost:8080/",
          "height": 374
        },
        "outputId": "f4871ea6-52e8-4618-c6da-a9b5257a0ff8"
      },
      "source": [
        "lm =[]\n",
        "frames_max = 300 #number of frames needed per video\n",
        "vc = cv2.VideoCapture(path + filename)\n",
        "tim = 0\n",
        "result, image  = images(tim)\n",
        "count = 0\n",
        "while result and count < frames_max: \n",
        "    landmarks = extract_face_landmarks(image)\n",
        "    if sum(sum(landmarks)) != 0:\n",
        "        lm.append(landmarks)\n",
        "        tim +=600 \n",
        "        result, image = images(tim)\n",
        "        count += 1\n",
        "        if count%10 == 0: print('Extracted face landmarks from '+str(count)+' frames')\n",
        "    else:  \n",
        "        tim += 600\n",
        "        result, image = images(tim)\n",
        "        print('Face not detected in this frame, till now extracted from '+str(count)+' frames')\n",
        "lm = np.array(lm)"
      ],
      "execution_count": 179,
      "outputs": [
        {
          "output_type": "stream",
          "text": [
            "Extracted face landmarks from 10 frames\n",
            "Extracted face landmarks from 20 frames\n",
            "Extracted face landmarks from 30 frames\n",
            "Extracted face landmarks from 40 frames\n",
            "Extracted face landmarks from 50 frames\n",
            "Extracted face landmarks from 60 frames\n",
            "Extracted face landmarks from 70 frames\n",
            "Extracted face landmarks from 80 frames\n",
            "Extracted face landmarks from 90 frames\n",
            "Extracted face landmarks from 100 frames\n",
            "Extracted face landmarks from 110 frames\n",
            "Extracted face landmarks from 120 frames\n",
            "Extracted face landmarks from 130 frames\n",
            "Extracted face landmarks from 140 frames\n",
            "Extracted face landmarks from 150 frames\n",
            "Extracted face landmarks from 160 frames\n",
            "Extracted face landmarks from 170 frames\n",
            "Extracted face landmarks from 180 frames\n",
            "Extracted face landmarks from 190 frames\n",
            "Extracted face landmarks from 200 frames\n",
            "Extracted face landmarks from 210 frames\n"
          ],
          "name": "stdout"
        }
      ]
    },
    {
      "cell_type": "code",
      "metadata": {
        "id": "ovH38VkL2tZC",
        "colab_type": "code",
        "colab": {}
      },
      "source": [
        "def EAR(arr):\n",
        "\tx1,x2,x3 = distance.euclidean(arr[1], arr[5]),distance.euclidean(arr[2], arr[4]),distance.euclidean(arr[0], arr[3])\n",
        "\tfrac = (x1+ x2) / (2.0 * x3)\n",
        "\treturn frac\n",
        "\n",
        "def MAR(arr):\n",
        "    x1,x2 = distance.euclidean(arr[14], arr[18]), distance.euclidean(arr[12], arr[16])\n",
        "    frac = x1/x2\n",
        "    return frac\n",
        "\n",
        "def PUC(arr):\n",
        "    r = distance.euclidean(arr[1], arr[4])/2.0\n",
        "    area = math.pi*(r**2)\n",
        "    peri = 0\n",
        "    for i in range(0,5):\n",
        "      peri = peri + distance.euclidean(arr[i], arr[i+1])\n",
        "    peri = peri + distance.euclidean(arr[5], arr[0])\n",
        "    return 4 * math.pi * area /(peri**2)"
      ],
      "execution_count": 0,
      "outputs": []
    },
    {
      "cell_type": "code",
      "metadata": {
        "id": "AtE4Dv3vDRw7",
        "colab_type": "code",
        "colab": {}
      },
      "source": [
        "features = []\n",
        "for l in lm:\n",
        "  mainMarks = l[36:68]\n",
        "  x1, x2, x3 = EAR(mainMarks), MAR(mainMarks), PUC(mainMarks)\n",
        "  features.append([x1, x2, x3, x2/x1])\n",
        "features = np.array(features)"
      ],
      "execution_count": 0,
      "outputs": []
    },
    {
      "cell_type": "code",
      "metadata": {
        "id": "JhFwITqPDyC2",
        "colab_type": "code",
        "colab": {}
      },
      "source": [
        "np.savetxt(\"test5.csv\", features, delimiter = \",\")"
      ],
      "execution_count": 0,
      "outputs": []
    },
    {
      "cell_type": "code",
      "metadata": {
        "id": "R2aikOVCD6XW",
        "colab_type": "code",
        "colab": {}
      },
      "source": [
        "import pandas as pd"
      ],
      "execution_count": 0,
      "outputs": []
    },
    {
      "cell_type": "code",
      "metadata": {
        "id": "t2jWUjF1EmsQ",
        "colab_type": "code",
        "colab": {}
      },
      "source": [
        "df=pd.read_csv('/content/test5.csv')"
      ],
      "execution_count": 0,
      "outputs": []
    },
    {
      "cell_type": "code",
      "metadata": {
        "id": "VQrd9Lh3Ex0T",
        "colab_type": "code",
        "colab": {}
      },
      "source": [
        "df.columns = ['x1','x2','x3','x4']"
      ],
      "execution_count": 0,
      "outputs": []
    },
    {
      "cell_type": "code",
      "metadata": {
        "id": "UnqitYkWGyGc",
        "colab_type": "code",
        "colab": {}
      },
      "source": [
        "df_temp = df.iloc[0:3, :]\n",
        "df_mean = df_temp.mean()\n",
        "df_std = df_temp.std()\n",
        "df[\"x1_norm\"]=(df[\"x1\"]-df_mean[\"x1\"])/df_std[\"x1\"]\n",
        "df[\"x2_norm\"]=(df[\"x2\"]-df_mean[\"x2\"])/df_std[\"x2\"]\n",
        "df[\"x3_norm\"]=(df[\"x3\"]-df_mean[\"x3\"])/df_std[\"x3\"]\n",
        "df[\"x4_norm\"]=(df[\"x4\"]-df_mean[\"x4\"])/df_std[\"x4\"]"
      ],
      "execution_count": 0,
      "outputs": []
    },
    {
      "cell_type": "code",
      "metadata": {
        "id": "v-Gh6VhBHCKm",
        "colab_type": "code",
        "colab": {
          "base_uri": "https://localhost:8080/",
          "height": 419
        },
        "outputId": "eeae9934-6084-47ea-ed22-1ce174a5fed9"
      },
      "source": [
        "df"
      ],
      "execution_count": 239,
      "outputs": [
        {
          "output_type": "execute_result",
          "data": {
            "text/html": [
              "<div>\n",
              "<style scoped>\n",
              "    .dataframe tbody tr th:only-of-type {\n",
              "        vertical-align: middle;\n",
              "    }\n",
              "\n",
              "    .dataframe tbody tr th {\n",
              "        vertical-align: top;\n",
              "    }\n",
              "\n",
              "    .dataframe thead th {\n",
              "        text-align: right;\n",
              "    }\n",
              "</style>\n",
              "<table border=\"1\" class=\"dataframe\">\n",
              "  <thead>\n",
              "    <tr style=\"text-align: right;\">\n",
              "      <th></th>\n",
              "      <th>x1</th>\n",
              "      <th>x2</th>\n",
              "      <th>x3</th>\n",
              "      <th>x4</th>\n",
              "      <th>x1_norm</th>\n",
              "      <th>x2_norm</th>\n",
              "      <th>x3_norm</th>\n",
              "      <th>x4_norm</th>\n",
              "    </tr>\n",
              "  </thead>\n",
              "  <tbody>\n",
              "    <tr>\n",
              "      <th>0</th>\n",
              "      <td>0.299626</td>\n",
              "      <td>0.970143</td>\n",
              "      <td>0.431116</td>\n",
              "      <td>3.237848</td>\n",
              "      <td>-0.854937</td>\n",
              "      <td>-0.966736</td>\n",
              "      <td>-1.113662</td>\n",
              "      <td>0.870440</td>\n",
              "    </tr>\n",
              "    <tr>\n",
              "      <th>1</th>\n",
              "      <td>0.315353</td>\n",
              "      <td>0.977050</td>\n",
              "      <td>0.467124</td>\n",
              "      <td>3.098273</td>\n",
              "      <td>-0.244701</td>\n",
              "      <td>-0.063502</td>\n",
              "      <td>0.292600</td>\n",
              "      <td>0.221857</td>\n",
              "    </tr>\n",
              "    <tr>\n",
              "      <th>2</th>\n",
              "      <td>0.350000</td>\n",
              "      <td>0.985414</td>\n",
              "      <td>0.480655</td>\n",
              "      <td>2.815469</td>\n",
              "      <td>1.099638</td>\n",
              "      <td>1.030238</td>\n",
              "      <td>0.821062</td>\n",
              "      <td>-1.092297</td>\n",
              "    </tr>\n",
              "    <tr>\n",
              "      <th>3</th>\n",
              "      <td>0.333333</td>\n",
              "      <td>0.987916</td>\n",
              "      <td>0.507924</td>\n",
              "      <td>2.963749</td>\n",
              "      <td>0.452954</td>\n",
              "      <td>1.357455</td>\n",
              "      <td>1.886043</td>\n",
              "      <td>-0.403259</td>\n",
              "    </tr>\n",
              "    <tr>\n",
              "      <th>4</th>\n",
              "      <td>0.302069</td>\n",
              "      <td>0.959827</td>\n",
              "      <td>0.437804</td>\n",
              "      <td>3.177507</td>\n",
              "      <td>-0.760132</td>\n",
              "      <td>-2.315702</td>\n",
              "      <td>-0.852469</td>\n",
              "      <td>0.590044</td>\n",
              "    </tr>\n",
              "    <tr>\n",
              "      <th>...</th>\n",
              "      <td>...</td>\n",
              "      <td>...</td>\n",
              "      <td>...</td>\n",
              "      <td>...</td>\n",
              "      <td>...</td>\n",
              "      <td>...</td>\n",
              "      <td>...</td>\n",
              "      <td>...</td>\n",
              "    </tr>\n",
              "    <tr>\n",
              "      <th>117</th>\n",
              "      <td>0.122859</td>\n",
              "      <td>1.591693</td>\n",
              "      <td>0.236961</td>\n",
              "      <td>12.955444</td>\n",
              "      <td>-7.713667</td>\n",
              "      <td>80.310241</td>\n",
              "      <td>-8.696348</td>\n",
              "      <td>46.026725</td>\n",
              "    </tr>\n",
              "    <tr>\n",
              "      <th>118</th>\n",
              "      <td>0.186052</td>\n",
              "      <td>1.490875</td>\n",
              "      <td>0.397950</td>\n",
              "      <td>8.013211</td>\n",
              "      <td>-5.261710</td>\n",
              "      <td>67.126726</td>\n",
              "      <td>-2.408936</td>\n",
              "      <td>23.060871</td>\n",
              "    </tr>\n",
              "    <tr>\n",
              "      <th>119</th>\n",
              "      <td>0.217061</td>\n",
              "      <td>1.547742</td>\n",
              "      <td>0.390329</td>\n",
              "      <td>7.130455</td>\n",
              "      <td>-4.058541</td>\n",
              "      <td>74.562980</td>\n",
              "      <td>-2.706572</td>\n",
              "      <td>18.958829</td>\n",
              "    </tr>\n",
              "    <tr>\n",
              "      <th>120</th>\n",
              "      <td>0.218750</td>\n",
              "      <td>1.413513</td>\n",
              "      <td>0.397307</td>\n",
              "      <td>6.461775</td>\n",
              "      <td>-3.992998</td>\n",
              "      <td>57.010571</td>\n",
              "      <td>-2.434059</td>\n",
              "      <td>15.851570</td>\n",
              "    </tr>\n",
              "    <tr>\n",
              "      <th>121</th>\n",
              "      <td>0.314980</td>\n",
              "      <td>1.542633</td>\n",
              "      <td>0.408557</td>\n",
              "      <td>4.897563</td>\n",
              "      <td>-0.259183</td>\n",
              "      <td>73.894907</td>\n",
              "      <td>-1.994707</td>\n",
              "      <td>8.582898</td>\n",
              "    </tr>\n",
              "  </tbody>\n",
              "</table>\n",
              "<p>122 rows × 8 columns</p>\n",
              "</div>"
            ],
            "text/plain": [
              "           x1        x2        x3  ...    x2_norm   x3_norm    x4_norm\n",
              "0    0.299626  0.970143  0.431116  ...  -0.966736 -1.113662   0.870440\n",
              "1    0.315353  0.977050  0.467124  ...  -0.063502  0.292600   0.221857\n",
              "2    0.350000  0.985414  0.480655  ...   1.030238  0.821062  -1.092297\n",
              "3    0.333333  0.987916  0.507924  ...   1.357455  1.886043  -0.403259\n",
              "4    0.302069  0.959827  0.437804  ...  -2.315702 -0.852469   0.590044\n",
              "..        ...       ...       ...  ...        ...       ...        ...\n",
              "117  0.122859  1.591693  0.236961  ...  80.310241 -8.696348  46.026725\n",
              "118  0.186052  1.490875  0.397950  ...  67.126726 -2.408936  23.060871\n",
              "119  0.217061  1.547742  0.390329  ...  74.562980 -2.706572  18.958829\n",
              "120  0.218750  1.413513  0.397307  ...  57.010571 -2.434059  15.851570\n",
              "121  0.314980  1.542633  0.408557  ...  73.894907 -1.994707   8.582898\n",
              "\n",
              "[122 rows x 8 columns]"
            ]
          },
          "metadata": {
            "tags": []
          },
          "execution_count": 239
        }
      ]
    },
    {
      "cell_type": "code",
      "metadata": {
        "id": "lzWABLjNHFi3",
        "colab_type": "code",
        "colab": {}
      },
      "source": [
        "df = df.drop([\"x1\",\"x2\",\"x3\",\"x4\"],axis=1)"
      ],
      "execution_count": 0,
      "outputs": []
    },
    {
      "cell_type": "code",
      "metadata": {
        "id": "MJXt3OTwHUyU",
        "colab_type": "code",
        "colab": {
          "base_uri": "https://localhost:8080/",
          "height": 419
        },
        "outputId": "200b5528-64ec-41b3-8f30-283e9aaa4b63"
      },
      "source": [
        "df"
      ],
      "execution_count": 241,
      "outputs": [
        {
          "output_type": "execute_result",
          "data": {
            "text/html": [
              "<div>\n",
              "<style scoped>\n",
              "    .dataframe tbody tr th:only-of-type {\n",
              "        vertical-align: middle;\n",
              "    }\n",
              "\n",
              "    .dataframe tbody tr th {\n",
              "        vertical-align: top;\n",
              "    }\n",
              "\n",
              "    .dataframe thead th {\n",
              "        text-align: right;\n",
              "    }\n",
              "</style>\n",
              "<table border=\"1\" class=\"dataframe\">\n",
              "  <thead>\n",
              "    <tr style=\"text-align: right;\">\n",
              "      <th></th>\n",
              "      <th>x1_norm</th>\n",
              "      <th>x2_norm</th>\n",
              "      <th>x3_norm</th>\n",
              "      <th>x4_norm</th>\n",
              "    </tr>\n",
              "  </thead>\n",
              "  <tbody>\n",
              "    <tr>\n",
              "      <th>0</th>\n",
              "      <td>-0.854937</td>\n",
              "      <td>-0.966736</td>\n",
              "      <td>-1.113662</td>\n",
              "      <td>0.870440</td>\n",
              "    </tr>\n",
              "    <tr>\n",
              "      <th>1</th>\n",
              "      <td>-0.244701</td>\n",
              "      <td>-0.063502</td>\n",
              "      <td>0.292600</td>\n",
              "      <td>0.221857</td>\n",
              "    </tr>\n",
              "    <tr>\n",
              "      <th>2</th>\n",
              "      <td>1.099638</td>\n",
              "      <td>1.030238</td>\n",
              "      <td>0.821062</td>\n",
              "      <td>-1.092297</td>\n",
              "    </tr>\n",
              "    <tr>\n",
              "      <th>3</th>\n",
              "      <td>0.452954</td>\n",
              "      <td>1.357455</td>\n",
              "      <td>1.886043</td>\n",
              "      <td>-0.403259</td>\n",
              "    </tr>\n",
              "    <tr>\n",
              "      <th>4</th>\n",
              "      <td>-0.760132</td>\n",
              "      <td>-2.315702</td>\n",
              "      <td>-0.852469</td>\n",
              "      <td>0.590044</td>\n",
              "    </tr>\n",
              "    <tr>\n",
              "      <th>...</th>\n",
              "      <td>...</td>\n",
              "      <td>...</td>\n",
              "      <td>...</td>\n",
              "      <td>...</td>\n",
              "    </tr>\n",
              "    <tr>\n",
              "      <th>117</th>\n",
              "      <td>-7.713667</td>\n",
              "      <td>80.310241</td>\n",
              "      <td>-8.696348</td>\n",
              "      <td>46.026725</td>\n",
              "    </tr>\n",
              "    <tr>\n",
              "      <th>118</th>\n",
              "      <td>-5.261710</td>\n",
              "      <td>67.126726</td>\n",
              "      <td>-2.408936</td>\n",
              "      <td>23.060871</td>\n",
              "    </tr>\n",
              "    <tr>\n",
              "      <th>119</th>\n",
              "      <td>-4.058541</td>\n",
              "      <td>74.562980</td>\n",
              "      <td>-2.706572</td>\n",
              "      <td>18.958829</td>\n",
              "    </tr>\n",
              "    <tr>\n",
              "      <th>120</th>\n",
              "      <td>-3.992998</td>\n",
              "      <td>57.010571</td>\n",
              "      <td>-2.434059</td>\n",
              "      <td>15.851570</td>\n",
              "    </tr>\n",
              "    <tr>\n",
              "      <th>121</th>\n",
              "      <td>-0.259183</td>\n",
              "      <td>73.894907</td>\n",
              "      <td>-1.994707</td>\n",
              "      <td>8.582898</td>\n",
              "    </tr>\n",
              "  </tbody>\n",
              "</table>\n",
              "<p>122 rows × 4 columns</p>\n",
              "</div>"
            ],
            "text/plain": [
              "      x1_norm    x2_norm   x3_norm    x4_norm\n",
              "0   -0.854937  -0.966736 -1.113662   0.870440\n",
              "1   -0.244701  -0.063502  0.292600   0.221857\n",
              "2    1.099638   1.030238  0.821062  -1.092297\n",
              "3    0.452954   1.357455  1.886043  -0.403259\n",
              "4   -0.760132  -2.315702 -0.852469   0.590044\n",
              "..        ...        ...       ...        ...\n",
              "117 -7.713667  80.310241 -8.696348  46.026725\n",
              "118 -5.261710  67.126726 -2.408936  23.060871\n",
              "119 -4.058541  74.562980 -2.706572  18.958829\n",
              "120 -3.992998  57.010571 -2.434059  15.851570\n",
              "121 -0.259183  73.894907 -1.994707   8.582898\n",
              "\n",
              "[122 rows x 4 columns]"
            ]
          },
          "metadata": {
            "tags": []
          },
          "execution_count": 241
        }
      ]
    },
    {
      "cell_type": "code",
      "metadata": {
        "id": "iD15M1QbHVVS",
        "colab_type": "code",
        "colab": {}
      },
      "source": [
        "df = np.expand_dims(df, axis=2)\n",
        "tp = model.predict_classes(df)"
      ],
      "execution_count": 0,
      "outputs": []
    },
    {
      "cell_type": "code",
      "metadata": {
        "id": "BWCd1GdWITkK",
        "colab_type": "code",
        "colab": {}
      },
      "source": [
        "tp = np.array(tp)"
      ],
      "execution_count": 0,
      "outputs": []
    },
    {
      "cell_type": "code",
      "metadata": {
        "id": "cuMmguW1IUNd",
        "colab_type": "code",
        "colab": {}
      },
      "source": [
        "val = []\n",
        "for i in range(len(tp)): val.append(tp[i][0])"
      ],
      "execution_count": 0,
      "outputs": []
    },
    {
      "cell_type": "markdown",
      "metadata": {
        "id": "6WqupK6X4jYt",
        "colab_type": "text"
      },
      "source": [
        "# Output graph"
      ]
    },
    {
      "cell_type": "code",
      "metadata": {
        "id": "aRF-Qw-UIjzW",
        "colab_type": "code",
        "colab": {
          "base_uri": "https://localhost:8080/",
          "height": 312
        },
        "outputId": "4a0b00a5-cbfb-48f9-a0ad-40a767918369"
      },
      "source": [
        "x = np.arange(0,(len(val)*0.6)-1,0.6)\n",
        "plt.plot(x,val[:len(val)-1])\n",
        "plt.xlabel('time (in seconds)')\n",
        "plt.ylabel('states (state = 1 means the person feels dizzy)')\n",
        "plt.title('label vs time')"
      ],
      "execution_count": 245,
      "outputs": [
        {
          "output_type": "execute_result",
          "data": {
            "text/plain": [
              "Text(0.5, 1.0, 'label vs time')"
            ]
          },
          "metadata": {
            "tags": []
          },
          "execution_count": 245
        },
        {
          "output_type": "display_data",
          "data": {
            "image/png": "[encoded data removed]",
            "text/plain": [
              "<Figure size 432x288 with 1 Axes>"
            ]
          },
          "metadata": {
            "tags": []
          }
        }
      ]
    },
    {
      "cell_type": "markdown",
      "metadata": {
        "id": "8J9W2KqV4tSJ",
        "colab_type": "text"
      },
      "source": [
        "# Generating JSON file"
      ]
    },
    {
      "cell_type": "code",
      "metadata": {
        "id": "tuGH_aGKnpp0",
        "colab_type": "code",
        "colab": {}
      },
      "source": [
        "fin=[]\n",
        "for i in range(len(val)):\n",
        "  fin.append([str(i*0.6),str(val[i])])"
      ],
      "execution_count": 0,
      "outputs": []
    },
    {
      "cell_type": "code",
      "metadata": {
        "id": "amBMM2Z0zSK7",
        "colab_type": "code",
        "colab": {}
      },
      "source": [
        "dt = {}\n",
        "dt['dizzy']=fin"
      ],
      "execution_count": 0,
      "outputs": []
    },
    {
      "cell_type": "code",
      "metadata": {
        "id": "5nlWdBo5XnoU",
        "colab_type": "code",
        "colab": {}
      },
      "source": [
        "import json"
      ],
      "execution_count": 0,
      "outputs": []
    },
    {
      "cell_type": "code",
      "metadata": {
        "id": "k9SO7CUny9w5",
        "colab_type": "code",
        "colab": {}
      },
      "source": [
        "with open('test5.json', 'w') as f:\n",
        "    json.dump(dt, f)"
      ],
      "execution_count": 0,
      "outputs": []
    }
  ]
}