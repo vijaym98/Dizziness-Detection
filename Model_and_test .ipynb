{
  "nbformat": 4,
  "nbformat_minor": 0,
  "metadata": {
    "colab": {
      "name": "Model_and_test.ipynb",
      "provenance": [],
      "toc_visible": true
    },
    "kernelspec": {
      "name": "python3",
      "display_name": "Python 3"
    }
  },
  "cells": [
    {
      "cell_type": "code",
      "metadata": {
        "id": "LMyvL0ZOXUyR",
        "colab_type": "code",
        "colab": {}
      },
      "source": [
        "import pandas as pd\n",
        "import numpy as np\n",
        "from sklearn.model_selection import train_test_split"
      ],
      "execution_count": 0,
      "outputs": []
    },
    {
      "cell_type": "code",
      "metadata": {
        "id": "o0zQ0GITXndF",
        "colab_type": "code",
        "colab": {}
      },
      "source": [
        "df = pd.read_csv('/content/dataset1.csv')\n",
        "df = df.drop([\"Unnamed: 0\"], axis=1)"
      ],
      "execution_count": 0,
      "outputs": []
    },
    {
      "cell_type": "code",
      "metadata": {
        "id": "zNgbd8mPZMfB",
        "colab_type": "code",
        "colab": {}
      },
      "source": [
        "X = df.drop([\"y\"], axis = 1)\n",
        "y = df[\"y\"]"
      ],
      "execution_count": 0,
      "outputs": []
    },
    {
      "cell_type": "code",
      "metadata": {
        "id": "_5jWEOAecS5G",
        "colab_type": "code",
        "colab": {}
      },
      "source": [
        "for i in range(len(y)):\n",
        "  if y[i] == 10: y[i]=1"
      ],
      "execution_count": 0,
      "outputs": []
    },
    {
      "cell_type": "code",
      "metadata": {
        "id": "AV8yE3LWcwM8",
        "colab_type": "code",
        "outputId": "b972a23a-9280-4ee4-bb18-faefa7150756",
        "colab": {
          "base_uri": "https://localhost:8080/",
          "height": 221
        }
      },
      "source": [
        "y"
      ],
      "execution_count": 5,
      "outputs": [
        {
          "output_type": "execute_result",
          "data": {
            "text/plain": [
              "0       0.0\n",
              "1       0.0\n",
              "2       0.0\n",
              "3       0.0\n",
              "4       0.0\n",
              "       ... \n",
              "5711    1.0\n",
              "5712    1.0\n",
              "5713    1.0\n",
              "5714    1.0\n",
              "5715    1.0\n",
              "Name: y, Length: 5716, dtype: float64"
            ]
          },
          "metadata": {
            "tags": []
          },
          "execution_count": 5
        }
      ]
    },
    {
      "cell_type": "code",
      "metadata": {
        "id": "s3o-DUOyc0cz",
        "colab_type": "code",
        "colab": {}
      },
      "source": [
        "X_train, X_a, y_train, y_a = train_test_split(X,y,test_size = 2/12)"
      ],
      "execution_count": 0,
      "outputs": []
    },
    {
      "cell_type": "code",
      "metadata": {
        "id": "XghemU7WxcJA",
        "colab_type": "code",
        "colab": {}
      },
      "source": [
        "X_b,X_test,y_b,y_test = train_test_split(X_a,y_a,test_size = 1/2)"
      ],
      "execution_count": 0,
      "outputs": []
    },
    {
      "cell_type": "code",
      "metadata": {
        "id": "AcXtnVwIayhn",
        "colab_type": "code",
        "colab": {}
      },
      "source": [
        "X_train_shaped = np.expand_dims(X_train, axis=2)\n",
        "X_a = np.expand_dims(X_a, axis=2)\n",
        "X_test_shaped = np.expand_dims(X_test, axis=2)"
      ],
      "execution_count": 0,
      "outputs": []
    },
    {
      "cell_type": "code",
      "metadata": {
        "id": "5JRD_mGuLts9",
        "colab_type": "code",
        "outputId": "dd9dda66-264e-44df-9bd7-1351370134ba",
        "colab": {
          "base_uri": "https://localhost:8080/",
          "height": 34
        }
      },
      "source": [
        "X_a.shape"
      ],
      "execution_count": 9,
      "outputs": [
        {
          "output_type": "execute_result",
          "data": {
            "text/plain": [
              "(953, 4, 1)"
            ]
          },
          "metadata": {
            "tags": []
          },
          "execution_count": 9
        }
      ]
    },
    {
      "cell_type": "markdown",
      "metadata": {
        "id": "1wCNpxSn4G9O",
        "colab_type": "text"
      },
      "source": [
        "# CNN Model\n"
      ]
    },
    {
      "cell_type": "code",
      "metadata": {
        "id": "rmstcRI_ZkiU",
        "colab_type": "code",
        "colab": {}
      },
      "source": [
        "from tensorflow.keras.models import Sequential\n",
        "from tensorflow.keras.layers import Dense, Flatten\n",
        "from tensorflow.keras.layers import Conv1D\n",
        "from tensorflow.keras.optimizers import Adam, RMSprop\n",
        "from tensorflow.keras.layers import Dropout"
      ],
      "execution_count": 0,
      "outputs": []
    },
    {
      "cell_type": "code",
      "metadata": {
        "id": "agxywlDhZl6w",
        "colab_type": "code",
        "colab": {}
      },
      "source": [
        "model = Sequential()\n",
        "\n",
        "model.add(Conv1D(64, kernel_size = 3, activation = 'relu', input_shape = (4,1)))\n",
        "model.add(Flatten())\n",
        "model.add(Dense(32, activation='relu'))\n",
        "model.add(Dense(16, activation = 'relu'))\n",
        "model.add(Dropout(0.4))\n",
        "model.add(Dense(1,activation = 'sigmoid'))"
      ],
      "execution_count": 0,
      "outputs": []
    },
    {
      "cell_type": "code",
      "metadata": {
        "id": "StusOevBaoJi",
        "colab_type": "code",
        "colab": {}
      },
      "source": [
        "optimizer = Adam(lr=0.00001)\n",
        "model.compile(loss='binary_crossentropy', optimizer=optimizer, metrics=['accuracy'])"
      ],
      "execution_count": 0,
      "outputs": []
    },
    {
      "cell_type": "code",
      "metadata": {
        "id": "3N_1vx3HasvJ",
        "colab_type": "code",
        "outputId": "30b9ceff-fe1f-436b-dba6-093718fa6e76",
        "colab": {
          "base_uri": "https://localhost:8080/",
          "height": 1000
        }
      },
      "source": [
        "history = model.fit(X_train_shaped, y_train, validation_data = (X_a,y_a), epochs = 200, batch_size= 32)"
      ],
      "execution_count": 21,
      "outputs": [
        {
          "output_type": "stream",
          "text": [
            "Epoch 1/200\n",
            "149/149 [==============================] - 1s 3ms/step - loss: 0.9486 - accuracy: 0.4871 - val_loss: 0.7971 - val_accuracy: 0.4806\n",
            "Epoch 2/200\n",
            "149/149 [==============================] - 0s 2ms/step - loss: 0.8770 - accuracy: 0.4814 - val_loss: 0.7778 - val_accuracy: 0.4806\n",
            "Epoch 3/200\n",
            "149/149 [==============================] - 0s 2ms/step - loss: 0.8839 - accuracy: 0.4944 - val_loss: 0.7658 - val_accuracy: 0.4806\n",
            "Epoch 4/200\n",
            "149/149 [==============================] - 0s 2ms/step - loss: 0.8881 - accuracy: 0.4854 - val_loss: 0.7516 - val_accuracy: 0.4827\n",
            "Epoch 5/200\n",
            "149/149 [==============================] - 0s 2ms/step - loss: 0.8350 - accuracy: 0.4974 - val_loss: 0.7402 - val_accuracy: 0.4848\n",
            "Epoch 6/200\n",
            "149/149 [==============================] - 0s 2ms/step - loss: 0.8202 - accuracy: 0.5039 - val_loss: 0.7287 - val_accuracy: 0.4911\n",
            "Epoch 7/200\n",
            "149/149 [==============================] - 0s 2ms/step - loss: 0.7953 - accuracy: 0.5047 - val_loss: 0.7202 - val_accuracy: 0.4942\n",
            "Epoch 8/200\n",
            "149/149 [==============================] - 0s 2ms/step - loss: 0.7882 - accuracy: 0.5083 - val_loss: 0.7138 - val_accuracy: 0.4974\n",
            "Epoch 9/200\n",
            "149/149 [==============================] - 0s 2ms/step - loss: 0.7828 - accuracy: 0.5045 - val_loss: 0.7050 - val_accuracy: 0.5005\n",
            "Epoch 10/200\n",
            "149/149 [==============================] - 0s 2ms/step - loss: 0.7638 - accuracy: 0.5249 - val_loss: 0.6984 - val_accuracy: 0.5037\n",
            "Epoch 11/200\n",
            "149/149 [==============================] - 0s 2ms/step - loss: 0.7636 - accuracy: 0.5274 - val_loss: 0.6942 - val_accuracy: 0.5100\n",
            "Epoch 12/200\n",
            "149/149 [==============================] - 0s 2ms/step - loss: 0.7475 - accuracy: 0.5238 - val_loss: 0.6889 - val_accuracy: 0.5194\n",
            "Epoch 13/200\n",
            "149/149 [==============================] - 0s 2ms/step - loss: 0.7430 - accuracy: 0.5308 - val_loss: 0.6842 - val_accuracy: 0.5257\n",
            "Epoch 14/200\n",
            "149/149 [==============================] - 0s 2ms/step - loss: 0.7530 - accuracy: 0.5354 - val_loss: 0.6790 - val_accuracy: 0.5268\n",
            "Epoch 15/200\n",
            "149/149 [==============================] - 0s 2ms/step - loss: 0.7294 - accuracy: 0.5536 - val_loss: 0.6759 - val_accuracy: 0.5331\n",
            "Epoch 16/200\n",
            "149/149 [==============================] - 0s 2ms/step - loss: 0.7083 - accuracy: 0.5457 - val_loss: 0.6721 - val_accuracy: 0.5414\n",
            "Epoch 17/200\n",
            "149/149 [==============================] - 0s 2ms/step - loss: 0.7275 - accuracy: 0.5494 - val_loss: 0.6693 - val_accuracy: 0.5477\n",
            "Epoch 18/200\n",
            "149/149 [==============================] - 0s 2ms/step - loss: 0.7138 - accuracy: 0.5660 - val_loss: 0.6659 - val_accuracy: 0.5561\n",
            "Epoch 19/200\n",
            "149/149 [==============================] - 0s 2ms/step - loss: 0.6870 - accuracy: 0.5675 - val_loss: 0.6630 - val_accuracy: 0.5656\n",
            "Epoch 20/200\n",
            "149/149 [==============================] - 0s 2ms/step - loss: 0.7091 - accuracy: 0.5610 - val_loss: 0.6589 - val_accuracy: 0.5687\n",
            "Epoch 21/200\n",
            "149/149 [==============================] - 0s 2ms/step - loss: 0.6876 - accuracy: 0.5841 - val_loss: 0.6576 - val_accuracy: 0.5782\n",
            "Epoch 22/200\n",
            "149/149 [==============================] - 0s 2ms/step - loss: 0.6822 - accuracy: 0.5700 - val_loss: 0.6554 - val_accuracy: 0.5855\n",
            "Epoch 23/200\n",
            "149/149 [==============================] - 0s 2ms/step - loss: 0.6828 - accuracy: 0.5898 - val_loss: 0.6543 - val_accuracy: 0.5939\n",
            "Epoch 24/200\n",
            "149/149 [==============================] - 0s 2ms/step - loss: 0.6823 - accuracy: 0.5740 - val_loss: 0.6509 - val_accuracy: 0.5908\n",
            "Epoch 25/200\n",
            "149/149 [==============================] - 0s 2ms/step - loss: 0.6684 - accuracy: 0.5885 - val_loss: 0.6484 - val_accuracy: 0.6002\n",
            "Epoch 26/200\n",
            "149/149 [==============================] - 0s 2ms/step - loss: 0.6725 - accuracy: 0.5912 - val_loss: 0.6469 - val_accuracy: 0.6034\n",
            "Epoch 27/200\n",
            "149/149 [==============================] - 0s 2ms/step - loss: 0.6778 - accuracy: 0.5860 - val_loss: 0.6442 - val_accuracy: 0.6055\n",
            "Epoch 28/200\n",
            "149/149 [==============================] - 0s 2ms/step - loss: 0.6734 - accuracy: 0.5904 - val_loss: 0.6420 - val_accuracy: 0.6212\n",
            "Epoch 29/200\n",
            "149/149 [==============================] - 0s 2ms/step - loss: 0.6676 - accuracy: 0.5908 - val_loss: 0.6387 - val_accuracy: 0.6285\n",
            "Epoch 30/200\n",
            "149/149 [==============================] - 0s 2ms/step - loss: 0.6595 - accuracy: 0.6124 - val_loss: 0.6374 - val_accuracy: 0.6464\n",
            "Epoch 31/200\n",
            "149/149 [==============================] - 0s 2ms/step - loss: 0.6672 - accuracy: 0.6030 - val_loss: 0.6363 - val_accuracy: 0.6516\n",
            "Epoch 32/200\n",
            "149/149 [==============================] - 0s 2ms/step - loss: 0.6658 - accuracy: 0.6053 - val_loss: 0.6336 - val_accuracy: 0.6537\n",
            "Epoch 33/200\n",
            "149/149 [==============================] - 0s 2ms/step - loss: 0.6599 - accuracy: 0.6097 - val_loss: 0.6326 - val_accuracy: 0.6600\n",
            "Epoch 34/200\n",
            "149/149 [==============================] - 0s 2ms/step - loss: 0.6578 - accuracy: 0.6087 - val_loss: 0.6317 - val_accuracy: 0.6663\n",
            "Epoch 35/200\n",
            "149/149 [==============================] - 0s 2ms/step - loss: 0.6529 - accuracy: 0.6179 - val_loss: 0.6298 - val_accuracy: 0.6747\n",
            "Epoch 36/200\n",
            "149/149 [==============================] - 0s 2ms/step - loss: 0.6513 - accuracy: 0.6286 - val_loss: 0.6281 - val_accuracy: 0.6758\n",
            "Epoch 37/200\n",
            "149/149 [==============================] - 0s 2ms/step - loss: 0.6515 - accuracy: 0.6170 - val_loss: 0.6258 - val_accuracy: 0.6789\n",
            "Epoch 38/200\n",
            "149/149 [==============================] - 0s 2ms/step - loss: 0.6516 - accuracy: 0.6156 - val_loss: 0.6238 - val_accuracy: 0.6831\n",
            "Epoch 39/200\n",
            "149/149 [==============================] - 0s 2ms/step - loss: 0.6495 - accuracy: 0.6254 - val_loss: 0.6230 - val_accuracy: 0.6852\n",
            "Epoch 40/200\n",
            "149/149 [==============================] - 0s 2ms/step - loss: 0.6435 - accuracy: 0.6273 - val_loss: 0.6204 - val_accuracy: 0.6936\n",
            "Epoch 41/200\n",
            "149/149 [==============================] - 0s 2ms/step - loss: 0.6423 - accuracy: 0.6271 - val_loss: 0.6185 - val_accuracy: 0.6957\n",
            "Epoch 42/200\n",
            "149/149 [==============================] - 0s 2ms/step - loss: 0.6441 - accuracy: 0.6290 - val_loss: 0.6176 - val_accuracy: 0.6967\n",
            "Epoch 43/200\n",
            "149/149 [==============================] - 0s 2ms/step - loss: 0.6404 - accuracy: 0.6345 - val_loss: 0.6162 - val_accuracy: 0.6946\n",
            "Epoch 44/200\n",
            "149/149 [==============================] - 0s 2ms/step - loss: 0.6431 - accuracy: 0.6259 - val_loss: 0.6143 - val_accuracy: 0.6988\n",
            "Epoch 45/200\n",
            "149/149 [==============================] - 0s 2ms/step - loss: 0.6392 - accuracy: 0.6320 - val_loss: 0.6130 - val_accuracy: 0.6988\n",
            "Epoch 46/200\n",
            "149/149 [==============================] - 0s 2ms/step - loss: 0.6402 - accuracy: 0.6296 - val_loss: 0.6115 - val_accuracy: 0.7009\n",
            "Epoch 47/200\n",
            "149/149 [==============================] - 0s 2ms/step - loss: 0.6384 - accuracy: 0.6305 - val_loss: 0.6105 - val_accuracy: 0.7030\n",
            "Epoch 48/200\n",
            "149/149 [==============================] - 0s 2ms/step - loss: 0.6359 - accuracy: 0.6414 - val_loss: 0.6093 - val_accuracy: 0.7051\n",
            "Epoch 49/200\n",
            "149/149 [==============================] - 0s 2ms/step - loss: 0.6359 - accuracy: 0.6324 - val_loss: 0.6082 - val_accuracy: 0.7072\n",
            "Epoch 50/200\n",
            "149/149 [==============================] - 0s 2ms/step - loss: 0.6290 - accuracy: 0.6431 - val_loss: 0.6071 - val_accuracy: 0.7051\n",
            "Epoch 51/200\n",
            "149/149 [==============================] - 0s 2ms/step - loss: 0.6332 - accuracy: 0.6345 - val_loss: 0.6059 - val_accuracy: 0.7072\n",
            "Epoch 52/200\n",
            "149/149 [==============================] - 0s 2ms/step - loss: 0.6351 - accuracy: 0.6328 - val_loss: 0.6050 - val_accuracy: 0.7062\n",
            "Epoch 53/200\n",
            "149/149 [==============================] - 0s 2ms/step - loss: 0.6321 - accuracy: 0.6389 - val_loss: 0.6037 - val_accuracy: 0.7072\n",
            "Epoch 54/200\n",
            "149/149 [==============================] - 0s 2ms/step - loss: 0.6279 - accuracy: 0.6441 - val_loss: 0.6034 - val_accuracy: 0.7114\n",
            "Epoch 55/200\n",
            "149/149 [==============================] - 0s 2ms/step - loss: 0.6299 - accuracy: 0.6410 - val_loss: 0.6021 - val_accuracy: 0.7083\n",
            "Epoch 56/200\n",
            "149/149 [==============================] - 0s 2ms/step - loss: 0.6275 - accuracy: 0.6410 - val_loss: 0.6016 - val_accuracy: 0.7083\n",
            "Epoch 57/200\n",
            "149/149 [==============================] - 0s 2ms/step - loss: 0.6251 - accuracy: 0.6418 - val_loss: 0.6001 - val_accuracy: 0.7051\n",
            "Epoch 58/200\n",
            "149/149 [==============================] - 0s 2ms/step - loss: 0.6224 - accuracy: 0.6406 - val_loss: 0.5993 - val_accuracy: 0.7093\n",
            "Epoch 59/200\n",
            "149/149 [==============================] - 0s 2ms/step - loss: 0.6321 - accuracy: 0.6414 - val_loss: 0.5984 - val_accuracy: 0.7083\n",
            "Epoch 60/200\n",
            "149/149 [==============================] - 0s 2ms/step - loss: 0.6250 - accuracy: 0.6418 - val_loss: 0.5977 - val_accuracy: 0.7083\n",
            "Epoch 61/200\n",
            "149/149 [==============================] - 0s 2ms/step - loss: 0.6241 - accuracy: 0.6509 - val_loss: 0.5981 - val_accuracy: 0.7146\n",
            "Epoch 62/200\n",
            "149/149 [==============================] - 0s 2ms/step - loss: 0.6234 - accuracy: 0.6513 - val_loss: 0.5963 - val_accuracy: 0.7135\n",
            "Epoch 63/200\n",
            "149/149 [==============================] - 0s 2ms/step - loss: 0.6202 - accuracy: 0.6521 - val_loss: 0.5955 - val_accuracy: 0.7114\n",
            "Epoch 64/200\n",
            "149/149 [==============================] - 0s 2ms/step - loss: 0.6226 - accuracy: 0.6483 - val_loss: 0.5951 - val_accuracy: 0.7114\n",
            "Epoch 65/200\n",
            "149/149 [==============================] - 0s 2ms/step - loss: 0.6172 - accuracy: 0.6473 - val_loss: 0.5941 - val_accuracy: 0.7093\n",
            "Epoch 66/200\n",
            "149/149 [==============================] - 0s 2ms/step - loss: 0.6167 - accuracy: 0.6488 - val_loss: 0.5933 - val_accuracy: 0.7093\n",
            "Epoch 67/200\n",
            "149/149 [==============================] - 0s 2ms/step - loss: 0.6212 - accuracy: 0.6462 - val_loss: 0.5925 - val_accuracy: 0.7114\n",
            "Epoch 68/200\n",
            "149/149 [==============================] - 0s 2ms/step - loss: 0.6149 - accuracy: 0.6479 - val_loss: 0.5921 - val_accuracy: 0.7125\n",
            "Epoch 69/200\n",
            "149/149 [==============================] - 0s 2ms/step - loss: 0.6216 - accuracy: 0.6391 - val_loss: 0.5914 - val_accuracy: 0.7125\n",
            "Epoch 70/200\n",
            "149/149 [==============================] - 0s 2ms/step - loss: 0.6125 - accuracy: 0.6469 - val_loss: 0.5904 - val_accuracy: 0.7125\n",
            "Epoch 71/200\n",
            "149/149 [==============================] - 0s 2ms/step - loss: 0.6143 - accuracy: 0.6458 - val_loss: 0.5896 - val_accuracy: 0.7156\n",
            "Epoch 72/200\n",
            "149/149 [==============================] - 0s 2ms/step - loss: 0.6156 - accuracy: 0.6555 - val_loss: 0.5894 - val_accuracy: 0.7177\n",
            "Epoch 73/200\n",
            "149/149 [==============================] - 0s 2ms/step - loss: 0.6176 - accuracy: 0.6532 - val_loss: 0.5880 - val_accuracy: 0.7156\n",
            "Epoch 74/200\n",
            "149/149 [==============================] - 0s 2ms/step - loss: 0.6142 - accuracy: 0.6544 - val_loss: 0.5874 - val_accuracy: 0.7146\n",
            "Epoch 75/200\n",
            "149/149 [==============================] - 0s 2ms/step - loss: 0.6149 - accuracy: 0.6536 - val_loss: 0.5872 - val_accuracy: 0.7125\n",
            "Epoch 76/200\n",
            "149/149 [==============================] - 0s 2ms/step - loss: 0.6101 - accuracy: 0.6504 - val_loss: 0.5868 - val_accuracy: 0.7125\n",
            "Epoch 77/200\n",
            "149/149 [==============================] - 0s 2ms/step - loss: 0.6127 - accuracy: 0.6590 - val_loss: 0.5857 - val_accuracy: 0.7135\n",
            "Epoch 78/200\n",
            "149/149 [==============================] - 0s 2ms/step - loss: 0.6114 - accuracy: 0.6626 - val_loss: 0.5852 - val_accuracy: 0.7167\n",
            "Epoch 79/200\n",
            "149/149 [==============================] - 0s 2ms/step - loss: 0.6120 - accuracy: 0.6580 - val_loss: 0.5851 - val_accuracy: 0.7177\n",
            "Epoch 80/200\n",
            "149/149 [==============================] - 0s 2ms/step - loss: 0.6104 - accuracy: 0.6584 - val_loss: 0.5843 - val_accuracy: 0.7167\n",
            "Epoch 81/200\n",
            "149/149 [==============================] - 0s 2ms/step - loss: 0.6076 - accuracy: 0.6576 - val_loss: 0.5836 - val_accuracy: 0.7198\n",
            "Epoch 82/200\n",
            "149/149 [==============================] - 0s 2ms/step - loss: 0.6082 - accuracy: 0.6630 - val_loss: 0.5831 - val_accuracy: 0.7188\n",
            "Epoch 83/200\n",
            "149/149 [==============================] - 0s 2ms/step - loss: 0.6081 - accuracy: 0.6592 - val_loss: 0.5824 - val_accuracy: 0.7198\n",
            "Epoch 84/200\n",
            "149/149 [==============================] - 0s 2ms/step - loss: 0.6050 - accuracy: 0.6616 - val_loss: 0.5817 - val_accuracy: 0.7209\n",
            "Epoch 85/200\n",
            "149/149 [==============================] - 0s 2ms/step - loss: 0.6099 - accuracy: 0.6557 - val_loss: 0.5810 - val_accuracy: 0.7198\n",
            "Epoch 86/200\n",
            "149/149 [==============================] - 0s 2ms/step - loss: 0.6088 - accuracy: 0.6681 - val_loss: 0.5804 - val_accuracy: 0.7219\n",
            "Epoch 87/200\n",
            "149/149 [==============================] - 0s 2ms/step - loss: 0.6038 - accuracy: 0.6628 - val_loss: 0.5800 - val_accuracy: 0.7198\n",
            "Epoch 88/200\n",
            "149/149 [==============================] - 0s 2ms/step - loss: 0.6044 - accuracy: 0.6620 - val_loss: 0.5794 - val_accuracy: 0.7219\n",
            "Epoch 89/200\n",
            "149/149 [==============================] - 0s 2ms/step - loss: 0.6094 - accuracy: 0.6553 - val_loss: 0.5786 - val_accuracy: 0.7251\n",
            "Epoch 90/200\n",
            "149/149 [==============================] - 0s 2ms/step - loss: 0.5986 - accuracy: 0.6708 - val_loss: 0.5781 - val_accuracy: 0.7251\n",
            "Epoch 91/200\n",
            "149/149 [==============================] - 0s 2ms/step - loss: 0.6042 - accuracy: 0.6655 - val_loss: 0.5776 - val_accuracy: 0.7251\n",
            "Epoch 92/200\n",
            "149/149 [==============================] - 0s 2ms/step - loss: 0.6076 - accuracy: 0.6590 - val_loss: 0.5771 - val_accuracy: 0.7240\n",
            "Epoch 93/200\n",
            "149/149 [==============================] - 0s 2ms/step - loss: 0.6016 - accuracy: 0.6643 - val_loss: 0.5764 - val_accuracy: 0.7219\n",
            "Epoch 94/200\n",
            "149/149 [==============================] - 0s 2ms/step - loss: 0.6057 - accuracy: 0.6679 - val_loss: 0.5759 - val_accuracy: 0.7251\n",
            "Epoch 95/200\n",
            "149/149 [==============================] - 0s 2ms/step - loss: 0.6026 - accuracy: 0.6679 - val_loss: 0.5756 - val_accuracy: 0.7251\n",
            "Epoch 96/200\n",
            "149/149 [==============================] - 0s 2ms/step - loss: 0.6054 - accuracy: 0.6643 - val_loss: 0.5756 - val_accuracy: 0.7272\n",
            "Epoch 97/200\n",
            "149/149 [==============================] - 0s 2ms/step - loss: 0.5982 - accuracy: 0.6679 - val_loss: 0.5744 - val_accuracy: 0.7251\n",
            "Epoch 98/200\n",
            "149/149 [==============================] - 0s 2ms/step - loss: 0.6034 - accuracy: 0.6721 - val_loss: 0.5736 - val_accuracy: 0.7261\n",
            "Epoch 99/200\n",
            "149/149 [==============================] - 0s 2ms/step - loss: 0.5988 - accuracy: 0.6647 - val_loss: 0.5731 - val_accuracy: 0.7261\n",
            "Epoch 100/200\n",
            "149/149 [==============================] - 0s 2ms/step - loss: 0.5996 - accuracy: 0.6708 - val_loss: 0.5730 - val_accuracy: 0.7272\n",
            "Epoch 101/200\n",
            "149/149 [==============================] - 0s 2ms/step - loss: 0.5999 - accuracy: 0.6693 - val_loss: 0.5726 - val_accuracy: 0.7272\n",
            "Epoch 102/200\n",
            "149/149 [==============================] - 0s 2ms/step - loss: 0.5973 - accuracy: 0.6767 - val_loss: 0.5721 - val_accuracy: 0.7261\n",
            "Epoch 103/200\n",
            "149/149 [==============================] - 0s 2ms/step - loss: 0.5994 - accuracy: 0.6685 - val_loss: 0.5720 - val_accuracy: 0.7303\n",
            "Epoch 104/200\n",
            "149/149 [==============================] - 0s 2ms/step - loss: 0.5970 - accuracy: 0.6756 - val_loss: 0.5710 - val_accuracy: 0.7282\n",
            "Epoch 105/200\n",
            "149/149 [==============================] - 0s 2ms/step - loss: 0.5983 - accuracy: 0.6737 - val_loss: 0.5705 - val_accuracy: 0.7272\n",
            "Epoch 106/200\n",
            "149/149 [==============================] - 0s 2ms/step - loss: 0.6000 - accuracy: 0.6731 - val_loss: 0.5703 - val_accuracy: 0.7293\n",
            "Epoch 107/200\n",
            "149/149 [==============================] - 0s 2ms/step - loss: 0.6015 - accuracy: 0.6750 - val_loss: 0.5699 - val_accuracy: 0.7293\n",
            "Epoch 108/200\n",
            "149/149 [==============================] - 0s 2ms/step - loss: 0.5975 - accuracy: 0.6704 - val_loss: 0.5693 - val_accuracy: 0.7251\n",
            "Epoch 109/200\n",
            "149/149 [==============================] - 0s 2ms/step - loss: 0.5983 - accuracy: 0.6727 - val_loss: 0.5688 - val_accuracy: 0.7314\n",
            "Epoch 110/200\n",
            "149/149 [==============================] - 0s 2ms/step - loss: 0.5968 - accuracy: 0.6727 - val_loss: 0.5683 - val_accuracy: 0.7293\n",
            "Epoch 111/200\n",
            "149/149 [==============================] - 0s 2ms/step - loss: 0.5955 - accuracy: 0.6811 - val_loss: 0.5681 - val_accuracy: 0.7303\n",
            "Epoch 112/200\n",
            "149/149 [==============================] - 0s 2ms/step - loss: 0.5957 - accuracy: 0.6744 - val_loss: 0.5677 - val_accuracy: 0.7303\n",
            "Epoch 113/200\n",
            "149/149 [==============================] - 0s 2ms/step - loss: 0.5942 - accuracy: 0.6809 - val_loss: 0.5674 - val_accuracy: 0.7335\n",
            "Epoch 114/200\n",
            "149/149 [==============================] - 0s 2ms/step - loss: 0.5950 - accuracy: 0.6792 - val_loss: 0.5665 - val_accuracy: 0.7345\n",
            "Epoch 115/200\n",
            "149/149 [==============================] - 0s 2ms/step - loss: 0.5943 - accuracy: 0.6777 - val_loss: 0.5665 - val_accuracy: 0.7345\n",
            "Epoch 116/200\n",
            "149/149 [==============================] - 0s 2ms/step - loss: 0.5958 - accuracy: 0.6733 - val_loss: 0.5668 - val_accuracy: 0.7335\n",
            "Epoch 117/200\n",
            "149/149 [==============================] - 0s 2ms/step - loss: 0.5931 - accuracy: 0.6781 - val_loss: 0.5661 - val_accuracy: 0.7345\n",
            "Epoch 118/200\n",
            "149/149 [==============================] - 0s 2ms/step - loss: 0.5928 - accuracy: 0.6771 - val_loss: 0.5651 - val_accuracy: 0.7335\n",
            "Epoch 119/200\n",
            "149/149 [==============================] - 0s 2ms/step - loss: 0.5936 - accuracy: 0.6838 - val_loss: 0.5648 - val_accuracy: 0.7303\n",
            "Epoch 120/200\n",
            "149/149 [==============================] - 0s 2ms/step - loss: 0.5879 - accuracy: 0.6817 - val_loss: 0.5646 - val_accuracy: 0.7356\n",
            "Epoch 121/200\n",
            "149/149 [==============================] - 0s 2ms/step - loss: 0.5899 - accuracy: 0.6758 - val_loss: 0.5639 - val_accuracy: 0.7356\n",
            "Epoch 122/200\n",
            "149/149 [==============================] - 0s 2ms/step - loss: 0.5922 - accuracy: 0.6744 - val_loss: 0.5637 - val_accuracy: 0.7398\n",
            "Epoch 123/200\n",
            "149/149 [==============================] - 0s 2ms/step - loss: 0.5923 - accuracy: 0.6792 - val_loss: 0.5632 - val_accuracy: 0.7387\n",
            "Epoch 124/200\n",
            "149/149 [==============================] - 0s 2ms/step - loss: 0.5873 - accuracy: 0.6882 - val_loss: 0.5625 - val_accuracy: 0.7398\n",
            "Epoch 125/200\n",
            "149/149 [==============================] - 0s 2ms/step - loss: 0.5900 - accuracy: 0.6817 - val_loss: 0.5621 - val_accuracy: 0.7408\n",
            "Epoch 126/200\n",
            "149/149 [==============================] - 0s 2ms/step - loss: 0.5902 - accuracy: 0.6813 - val_loss: 0.5619 - val_accuracy: 0.7408\n",
            "Epoch 127/200\n",
            "149/149 [==============================] - 0s 2ms/step - loss: 0.5907 - accuracy: 0.6840 - val_loss: 0.5614 - val_accuracy: 0.7408\n",
            "Epoch 128/200\n",
            "149/149 [==============================] - 0s 2ms/step - loss: 0.5894 - accuracy: 0.6802 - val_loss: 0.5612 - val_accuracy: 0.7408\n",
            "Epoch 129/200\n",
            "149/149 [==============================] - 0s 2ms/step - loss: 0.5930 - accuracy: 0.6775 - val_loss: 0.5607 - val_accuracy: 0.7398\n",
            "Epoch 130/200\n",
            "149/149 [==============================] - 0s 2ms/step - loss: 0.5903 - accuracy: 0.6847 - val_loss: 0.5604 - val_accuracy: 0.7398\n",
            "Epoch 131/200\n",
            "149/149 [==============================] - 0s 2ms/step - loss: 0.5883 - accuracy: 0.6926 - val_loss: 0.5598 - val_accuracy: 0.7408\n",
            "Epoch 132/200\n",
            "149/149 [==============================] - 0s 2ms/step - loss: 0.5870 - accuracy: 0.6878 - val_loss: 0.5589 - val_accuracy: 0.7408\n",
            "Epoch 133/200\n",
            "149/149 [==============================] - 0s 2ms/step - loss: 0.5878 - accuracy: 0.6926 - val_loss: 0.5587 - val_accuracy: 0.7419\n",
            "Epoch 134/200\n",
            "149/149 [==============================] - 0s 2ms/step - loss: 0.5898 - accuracy: 0.6855 - val_loss: 0.5588 - val_accuracy: 0.7450\n",
            "Epoch 135/200\n",
            "149/149 [==============================] - 0s 2ms/step - loss: 0.5897 - accuracy: 0.6897 - val_loss: 0.5586 - val_accuracy: 0.7461\n",
            "Epoch 136/200\n",
            "149/149 [==============================] - 0s 2ms/step - loss: 0.5853 - accuracy: 0.6891 - val_loss: 0.5586 - val_accuracy: 0.7440\n",
            "Epoch 137/200\n",
            "149/149 [==============================] - 0s 2ms/step - loss: 0.5839 - accuracy: 0.6870 - val_loss: 0.5575 - val_accuracy: 0.7492\n",
            "Epoch 138/200\n",
            "149/149 [==============================] - 0s 2ms/step - loss: 0.5888 - accuracy: 0.6830 - val_loss: 0.5574 - val_accuracy: 0.7482\n",
            "Epoch 139/200\n",
            "149/149 [==============================] - 0s 2ms/step - loss: 0.5864 - accuracy: 0.6876 - val_loss: 0.5568 - val_accuracy: 0.7482\n",
            "Epoch 140/200\n",
            "149/149 [==============================] - 0s 2ms/step - loss: 0.5856 - accuracy: 0.6870 - val_loss: 0.5569 - val_accuracy: 0.7471\n",
            "Epoch 141/200\n",
            "149/149 [==============================] - 0s 2ms/step - loss: 0.5844 - accuracy: 0.6876 - val_loss: 0.5561 - val_accuracy: 0.7492\n",
            "Epoch 142/200\n",
            "149/149 [==============================] - 0s 2ms/step - loss: 0.5868 - accuracy: 0.6884 - val_loss: 0.5560 - val_accuracy: 0.7555\n",
            "Epoch 143/200\n",
            "149/149 [==============================] - 0s 2ms/step - loss: 0.5819 - accuracy: 0.6910 - val_loss: 0.5550 - val_accuracy: 0.7524\n",
            "Epoch 144/200\n",
            "149/149 [==============================] - 0s 2ms/step - loss: 0.5842 - accuracy: 0.6918 - val_loss: 0.5549 - val_accuracy: 0.7513\n",
            "Epoch 145/200\n",
            "149/149 [==============================] - 0s 2ms/step - loss: 0.5812 - accuracy: 0.6928 - val_loss: 0.5548 - val_accuracy: 0.7545\n",
            "Epoch 146/200\n",
            "149/149 [==============================] - 0s 2ms/step - loss: 0.5829 - accuracy: 0.6849 - val_loss: 0.5544 - val_accuracy: 0.7555\n",
            "Epoch 147/200\n",
            "149/149 [==============================] - 0s 2ms/step - loss: 0.5840 - accuracy: 0.6970 - val_loss: 0.5538 - val_accuracy: 0.7534\n",
            "Epoch 148/200\n",
            "149/149 [==============================] - 0s 2ms/step - loss: 0.5837 - accuracy: 0.6903 - val_loss: 0.5536 - val_accuracy: 0.7513\n",
            "Epoch 149/200\n",
            "149/149 [==============================] - 0s 2ms/step - loss: 0.5804 - accuracy: 0.6916 - val_loss: 0.5533 - val_accuracy: 0.7555\n",
            "Epoch 150/200\n",
            "149/149 [==============================] - 0s 2ms/step - loss: 0.5840 - accuracy: 0.6928 - val_loss: 0.5532 - val_accuracy: 0.7534\n",
            "Epoch 151/200\n",
            "149/149 [==============================] - 0s 2ms/step - loss: 0.5854 - accuracy: 0.6941 - val_loss: 0.5523 - val_accuracy: 0.7524\n",
            "Epoch 152/200\n",
            "149/149 [==============================] - 0s 2ms/step - loss: 0.5797 - accuracy: 0.6926 - val_loss: 0.5519 - val_accuracy: 0.7545\n",
            "Epoch 153/200\n",
            "149/149 [==============================] - 0s 3ms/step - loss: 0.5774 - accuracy: 0.6970 - val_loss: 0.5514 - val_accuracy: 0.7524\n",
            "Epoch 154/200\n",
            "149/149 [==============================] - 0s 2ms/step - loss: 0.5814 - accuracy: 0.6905 - val_loss: 0.5509 - val_accuracy: 0.7524\n",
            "Epoch 155/200\n",
            "149/149 [==============================] - 0s 2ms/step - loss: 0.5803 - accuracy: 0.6993 - val_loss: 0.5507 - val_accuracy: 0.7545\n",
            "Epoch 156/200\n",
            "149/149 [==============================] - 0s 2ms/step - loss: 0.5786 - accuracy: 0.6996 - val_loss: 0.5502 - val_accuracy: 0.7566\n",
            "Epoch 157/200\n",
            "149/149 [==============================] - 0s 2ms/step - loss: 0.5806 - accuracy: 0.7031 - val_loss: 0.5499 - val_accuracy: 0.7555\n",
            "Epoch 158/200\n",
            "149/149 [==============================] - 0s 2ms/step - loss: 0.5797 - accuracy: 0.6996 - val_loss: 0.5493 - val_accuracy: 0.7555\n",
            "Epoch 159/200\n",
            "149/149 [==============================] - 0s 2ms/step - loss: 0.5794 - accuracy: 0.6960 - val_loss: 0.5492 - val_accuracy: 0.7545\n",
            "Epoch 160/200\n",
            "149/149 [==============================] - 0s 2ms/step - loss: 0.5791 - accuracy: 0.6960 - val_loss: 0.5488 - val_accuracy: 0.7534\n",
            "Epoch 161/200\n",
            "149/149 [==============================] - 0s 2ms/step - loss: 0.5793 - accuracy: 0.6954 - val_loss: 0.5483 - val_accuracy: 0.7534\n",
            "Epoch 162/200\n",
            "149/149 [==============================] - 0s 2ms/step - loss: 0.5771 - accuracy: 0.7008 - val_loss: 0.5482 - val_accuracy: 0.7555\n",
            "Epoch 163/200\n",
            "149/149 [==============================] - 0s 2ms/step - loss: 0.5759 - accuracy: 0.7069 - val_loss: 0.5477 - val_accuracy: 0.7576\n",
            "Epoch 164/200\n",
            "149/149 [==============================] - 0s 2ms/step - loss: 0.5769 - accuracy: 0.7012 - val_loss: 0.5472 - val_accuracy: 0.7566\n",
            "Epoch 165/200\n",
            "149/149 [==============================] - 0s 2ms/step - loss: 0.5755 - accuracy: 0.6998 - val_loss: 0.5471 - val_accuracy: 0.7545\n",
            "Epoch 166/200\n",
            "149/149 [==============================] - 0s 2ms/step - loss: 0.5765 - accuracy: 0.6954 - val_loss: 0.5470 - val_accuracy: 0.7587\n",
            "Epoch 167/200\n",
            "149/149 [==============================] - 0s 2ms/step - loss: 0.5767 - accuracy: 0.6993 - val_loss: 0.5462 - val_accuracy: 0.7608\n",
            "Epoch 168/200\n",
            "149/149 [==============================] - 0s 2ms/step - loss: 0.5768 - accuracy: 0.6947 - val_loss: 0.5461 - val_accuracy: 0.7566\n",
            "Epoch 169/200\n",
            "149/149 [==============================] - 0s 2ms/step - loss: 0.5774 - accuracy: 0.6985 - val_loss: 0.5458 - val_accuracy: 0.7566\n",
            "Epoch 170/200\n",
            "149/149 [==============================] - 0s 2ms/step - loss: 0.5768 - accuracy: 0.6972 - val_loss: 0.5453 - val_accuracy: 0.7545\n",
            "Epoch 171/200\n",
            "149/149 [==============================] - 0s 2ms/step - loss: 0.5737 - accuracy: 0.7054 - val_loss: 0.5448 - val_accuracy: 0.7555\n",
            "Epoch 172/200\n",
            "149/149 [==============================] - 0s 2ms/step - loss: 0.5787 - accuracy: 0.6920 - val_loss: 0.5445 - val_accuracy: 0.7566\n",
            "Epoch 173/200\n",
            "149/149 [==============================] - 0s 2ms/step - loss: 0.5744 - accuracy: 0.7021 - val_loss: 0.5440 - val_accuracy: 0.7566\n",
            "Epoch 174/200\n",
            "149/149 [==============================] - 0s 2ms/step - loss: 0.5756 - accuracy: 0.7019 - val_loss: 0.5437 - val_accuracy: 0.7597\n",
            "Epoch 175/200\n",
            "149/149 [==============================] - 0s 2ms/step - loss: 0.5760 - accuracy: 0.7019 - val_loss: 0.5436 - val_accuracy: 0.7555\n",
            "Epoch 176/200\n",
            "149/149 [==============================] - 0s 2ms/step - loss: 0.5733 - accuracy: 0.7038 - val_loss: 0.5434 - val_accuracy: 0.7576\n",
            "Epoch 177/200\n",
            "149/149 [==============================] - 0s 2ms/step - loss: 0.5731 - accuracy: 0.7012 - val_loss: 0.5428 - val_accuracy: 0.7576\n",
            "Epoch 178/200\n",
            "149/149 [==============================] - 0s 2ms/step - loss: 0.5724 - accuracy: 0.7002 - val_loss: 0.5426 - val_accuracy: 0.7608\n",
            "Epoch 179/200\n",
            "149/149 [==============================] - 0s 2ms/step - loss: 0.5715 - accuracy: 0.7023 - val_loss: 0.5420 - val_accuracy: 0.7597\n",
            "Epoch 180/200\n",
            "149/149 [==============================] - 0s 2ms/step - loss: 0.5734 - accuracy: 0.6943 - val_loss: 0.5420 - val_accuracy: 0.7587\n",
            "Epoch 181/200\n",
            "149/149 [==============================] - 0s 2ms/step - loss: 0.5709 - accuracy: 0.7050 - val_loss: 0.5415 - val_accuracy: 0.7587\n",
            "Epoch 182/200\n",
            "149/149 [==============================] - 0s 2ms/step - loss: 0.5710 - accuracy: 0.7040 - val_loss: 0.5410 - val_accuracy: 0.7566\n",
            "Epoch 183/200\n",
            "149/149 [==============================] - 0s 2ms/step - loss: 0.5701 - accuracy: 0.7151 - val_loss: 0.5405 - val_accuracy: 0.7597\n",
            "Epoch 184/200\n",
            "149/149 [==============================] - 0s 2ms/step - loss: 0.5683 - accuracy: 0.7075 - val_loss: 0.5401 - val_accuracy: 0.7608\n",
            "Epoch 185/200\n",
            "149/149 [==============================] - 0s 2ms/step - loss: 0.5726 - accuracy: 0.7052 - val_loss: 0.5398 - val_accuracy: 0.7597\n",
            "Epoch 186/200\n",
            "149/149 [==============================] - 0s 2ms/step - loss: 0.5756 - accuracy: 0.6975 - val_loss: 0.5393 - val_accuracy: 0.7576\n",
            "Epoch 187/200\n",
            "149/149 [==============================] - 0s 2ms/step - loss: 0.5732 - accuracy: 0.7038 - val_loss: 0.5392 - val_accuracy: 0.7587\n",
            "Epoch 188/200\n",
            "149/149 [==============================] - 0s 2ms/step - loss: 0.5700 - accuracy: 0.7042 - val_loss: 0.5391 - val_accuracy: 0.7587\n",
            "Epoch 189/200\n",
            "149/149 [==============================] - 0s 2ms/step - loss: 0.5681 - accuracy: 0.7052 - val_loss: 0.5389 - val_accuracy: 0.7587\n",
            "Epoch 190/200\n",
            "149/149 [==============================] - 0s 2ms/step - loss: 0.5755 - accuracy: 0.7012 - val_loss: 0.5388 - val_accuracy: 0.7587\n",
            "Epoch 191/200\n",
            "149/149 [==============================] - 0s 2ms/step - loss: 0.5662 - accuracy: 0.7105 - val_loss: 0.5381 - val_accuracy: 0.7587\n",
            "Epoch 192/200\n",
            "149/149 [==============================] - 0s 2ms/step - loss: 0.5696 - accuracy: 0.7027 - val_loss: 0.5380 - val_accuracy: 0.7566\n",
            "Epoch 193/200\n",
            "149/149 [==============================] - 0s 2ms/step - loss: 0.5699 - accuracy: 0.7080 - val_loss: 0.5374 - val_accuracy: 0.7597\n",
            "Epoch 194/200\n",
            "149/149 [==============================] - 0s 2ms/step - loss: 0.5745 - accuracy: 0.7038 - val_loss: 0.5372 - val_accuracy: 0.7576\n",
            "Epoch 195/200\n",
            "149/149 [==============================] - 0s 2ms/step - loss: 0.5645 - accuracy: 0.7084 - val_loss: 0.5366 - val_accuracy: 0.7597\n",
            "Epoch 196/200\n",
            "149/149 [==============================] - 0s 2ms/step - loss: 0.5689 - accuracy: 0.7008 - val_loss: 0.5364 - val_accuracy: 0.7597\n",
            "Epoch 197/200\n",
            "149/149 [==============================] - 0s 2ms/step - loss: 0.5671 - accuracy: 0.7119 - val_loss: 0.5363 - val_accuracy: 0.7608\n",
            "Epoch 198/200\n",
            "149/149 [==============================] - 0s 2ms/step - loss: 0.5707 - accuracy: 0.7080 - val_loss: 0.5360 - val_accuracy: 0.7608\n",
            "Epoch 199/200\n",
            "149/149 [==============================] - 0s 2ms/step - loss: 0.5670 - accuracy: 0.7082 - val_loss: 0.5357 - val_accuracy: 0.7597\n",
            "Epoch 200/200\n",
            "149/149 [==============================] - 0s 2ms/step - loss: 0.5672 - accuracy: 0.7092 - val_loss: 0.5354 - val_accuracy: 0.7629\n"
          ],
          "name": "stdout"
        }
      ]
    },
    {
      "cell_type": "code",
      "metadata": {
        "id": "8Yvisgs6dXst",
        "colab_type": "code",
        "outputId": "03c9c94e-68e7-442a-f6bc-b334eda0779a",
        "colab": {
          "base_uri": "https://localhost:8080/",
          "height": 357
        }
      },
      "source": [
        "model.summary()"
      ],
      "execution_count": 22,
      "outputs": [
        {
          "output_type": "stream",
          "text": [
            "Model: \"sequential\"\n",
            "_________________________________________________________________\n",
            "Layer (type)                 Output Shape              Param #   \n",
            "=================================================================\n",
            "conv1d (Conv1D)              (None, 2, 64)             256       \n",
            "_________________________________________________________________\n",
            "flatten (Flatten)            (None, 128)               0         \n",
            "_________________________________________________________________\n",
            "dense (Dense)                (None, 32)                4128      \n",
            "_________________________________________________________________\n",
            "dense_1 (Dense)              (None, 16)                528       \n",
            "_________________________________________________________________\n",
            "dropout (Dropout)            (None, 16)                0         \n",
            "_________________________________________________________________\n",
            "dense_2 (Dense)              (None, 1)                 17        \n",
            "=================================================================\n",
            "Total params: 4,929\n",
            "Trainable params: 4,929\n",
            "Non-trainable params: 0\n",
            "_________________________________________________________________\n"
          ],
          "name": "stdout"
        }
      ]
    },
    {
      "cell_type": "code",
      "metadata": {
        "id": "z46N7s9XhyRZ",
        "colab_type": "code",
        "outputId": "c14a4383-9191-4b21-b5b6-37fb1a1e832e",
        "colab": {
          "base_uri": "https://localhost:8080/",
          "height": 34
        }
      },
      "source": [
        "X_train_shaped.shape"
      ],
      "execution_count": 23,
      "outputs": [
        {
          "output_type": "execute_result",
          "data": {
            "text/plain": [
              "(4763, 4, 1)"
            ]
          },
          "metadata": {
            "tags": []
          },
          "execution_count": 23
        }
      ]
    },
    {
      "cell_type": "code",
      "metadata": {
        "id": "VQZt4OtQY9Xp",
        "colab_type": "code",
        "outputId": "bcc0022f-75bd-4170-ee68-a687f706e59b",
        "colab": {
          "base_uri": "https://localhost:8080/",
          "height": 34
        }
      },
      "source": [
        "score = model.evaluate(X_test_shaped, y_test, verbose=0)\n",
        "print(f'Test loss: {score[0]} / Test accuracy: {score[1]}')"
      ],
      "execution_count": 24,
      "outputs": [
        {
          "output_type": "stream",
          "text": [
            "Test loss: 0.5470690131187439 / Test accuracy: 0.74842768907547\n"
          ],
          "name": "stdout"
        }
      ]
    },
    {
      "cell_type": "code",
      "metadata": {
        "id": "Zfcy9dnvYebT",
        "colab_type": "code",
        "outputId": "8c3ddc90-b25e-464d-9cad-ce413fc1b227",
        "colab": {
          "base_uri": "https://localhost:8080/",
          "height": 754
        }
      },
      "source": [
        "from tensorflow.keras.utils import plot_model\n",
        "plot_model(model, to_file='model.png', show_shapes= True)"
      ],
      "execution_count": 26,
      "outputs": [
        {
          "output_type": "execute_result",
          "data": {
            "image/png": "[encoded data removed]",
            "text/plain": [
              "<IPython.core.display.Image object>"
            ]
          },
          "metadata": {
            "tags": []
          },
          "execution_count": 26
        }
      ]
    },
    {
      "cell_type": "code",
      "metadata": {
        "id": "TW5XV2mCdj2n",
        "colab_type": "code",
        "colab": {
          "base_uri": "https://localhost:8080/",
          "height": 88
        },
        "outputId": "3f447e4b-2785-40aa-fc51-514872d0c957"
      },
      "source": [
        "X_b_shaped = np.expand_dims(X_b, axis=2)\n",
        "count=0\n",
        "test_pred = model.predict_classes(X_b_shaped)\n",
        "k1 = np.array(test_pred[:,0])\n",
        "k2 = np.array(y_b)\n",
        "for i in range(len(y_b)):\n",
        "  if k1[i] == k2[i]:\n",
        "    count = count+1\n",
        "accuracy = (count*100)/len(y_b)"
      ],
      "execution_count": 27,
      "outputs": [
        {
          "output_type": "stream",
          "text": [
            "WARNING:tensorflow:From <ipython-input-27-1813ddd0e27c>:3: Sequential.predict_classes (from tensorflow.python.keras.engine.sequential) is deprecated and will be removed after 2021-01-01.\n",
            "Instructions for updating:\n",
            "Please use instead:* `np.argmax(model.predict(x), axis=-1)`,   if your model does multi-class classification   (e.g. if it uses a `softmax` last-layer activation).* `(model.predict(x) > 0.5).astype(\"int32\")`,   if your model does binary classification   (e.g. if it uses a `sigmoid` last-layer activation).\n"
          ],
          "name": "stdout"
        }
      ]
    },
    {
      "cell_type": "code",
      "metadata": {
        "id": "OQINnboUhhUr",
        "colab_type": "code",
        "outputId": "98972236-73d7-4cca-8e88-07d5d933752d",
        "colab": {
          "base_uri": "https://localhost:8080/",
          "height": 357
        }
      },
      "source": [
        "model.summary()"
      ],
      "execution_count": 28,
      "outputs": [
        {
          "output_type": "stream",
          "text": [
            "Model: \"sequential\"\n",
            "_________________________________________________________________\n",
            "Layer (type)                 Output Shape              Param #   \n",
            "=================================================================\n",
            "conv1d (Conv1D)              (None, 2, 64)             256       \n",
            "_________________________________________________________________\n",
            "flatten (Flatten)            (None, 128)               0         \n",
            "_________________________________________________________________\n",
            "dense (Dense)                (None, 32)                4128      \n",
            "_________________________________________________________________\n",
            "dense_1 (Dense)              (None, 16)                528       \n",
            "_________________________________________________________________\n",
            "dropout (Dropout)            (None, 16)                0         \n",
            "_________________________________________________________________\n",
            "dense_2 (Dense)              (None, 1)                 17        \n",
            "=================================================================\n",
            "Total params: 4,929\n",
            "Trainable params: 4,929\n",
            "Non-trainable params: 0\n",
            "_________________________________________________________________\n"
          ],
          "name": "stdout"
        }
      ]
    },
    {
      "cell_type": "code",
      "metadata": {
        "id": "M0csklytfHvZ",
        "colab_type": "code",
        "colab": {}
      },
      "source": [
        "accuracy"
      ],
      "execution_count": 0,
      "outputs": []
    },
    {
      "cell_type": "code",
      "metadata": {
        "id": "jgABEtsU0uGo",
        "colab_type": "code",
        "colab": {}
      },
      "source": [
        "import matplotlib.pyplot as plt"
      ],
      "execution_count": 0,
      "outputs": []
    },
    {
      "cell_type": "code",
      "metadata": {
        "id": "xCUmGBssXwxH",
        "colab_type": "code",
        "colab": {
          "base_uri": "https://localhost:8080/",
          "height": 1000
        },
        "outputId": "0bf4b3c0-2c09-411b-b98e-dcbc473b48a9"
      },
      "source": [
        "history.history"
      ],
      "execution_count": 35,
      "outputs": [
        {
          "output_type": "execute_result",
          "data": {
            "text/plain": [
              "{'accuracy': [0.4870879650115967,\n",
              "  0.48141926527023315,\n",
              "  0.4944362938404083,\n",
              "  0.48540836572647095,\n",
              "  0.49737560749053955,\n",
              "  0.5038840770721436,\n",
              "  0.5047239065170288,\n",
              "  0.508293092250824,\n",
              "  0.5045139789581299,\n",
              "  0.5248792767524719,\n",
              "  0.5273987054824829,\n",
              "  0.5238295197486877,\n",
              "  0.5307579040527344,\n",
              "  0.5353768467903137,\n",
              "  0.5536426901817322,\n",
              "  0.5456644892692566,\n",
              "  0.5494436025619507,\n",
              "  0.5660297870635986,\n",
              "  0.5674994587898254,\n",
              "  0.5609909892082214,\n",
              "  0.5840856432914734,\n",
              "  0.5700188875198364,\n",
              "  0.5897543430328369,\n",
              "  0.5740079879760742,\n",
              "  0.5884946584701538,\n",
              "  0.5912240147590637,\n",
              "  0.5859752297401428,\n",
              "  0.5903841853141785,\n",
              "  0.5908041000366211,\n",
              "  0.612429141998291,\n",
              "  0.6029813289642334,\n",
              "  0.6052907705307007,\n",
              "  0.6096997857093811,\n",
              "  0.6086500287055969,\n",
              "  0.6178879141807556,\n",
              "  0.6285954117774963,\n",
              "  0.6170480847358704,\n",
              "  0.6155784130096436,\n",
              "  0.6254461407661438,\n",
              "  0.6273357272148132,\n",
              "  0.6271257400512695,\n",
              "  0.629015326499939,\n",
              "  0.6344740986824036,\n",
              "  0.6258660554885864,\n",
              "  0.6319546699523926,\n",
              "  0.6296451687812805,\n",
              "  0.6304849982261658,\n",
              "  0.6414024829864502,\n",
              "  0.6323745250701904,\n",
              "  0.6430820822715759,\n",
              "  0.6344740986824036,\n",
              "  0.6327944397926331,\n",
              "  0.6388830542564392,\n",
              "  0.6441318392753601,\n",
              "  0.6409825682640076,\n",
              "  0.6409825682640076,\n",
              "  0.6418223977088928,\n",
              "  0.6405626535415649,\n",
              "  0.6414024829864502,\n",
              "  0.6418223977088928,\n",
              "  0.6508502960205078,\n",
              "  0.6512702107429504,\n",
              "  0.6521100401878357,\n",
              "  0.6483308672904968,\n",
              "  0.6472811102867126,\n",
              "  0.6487507820129395,\n",
              "  0.6462313532829285,\n",
              "  0.6479109525680542,\n",
              "  0.6390929818153381,\n",
              "  0.64686119556427,\n",
              "  0.6458114385604858,\n",
              "  0.6554692387580872,\n",
              "  0.6531597971916199,\n",
              "  0.654419481754303,\n",
              "  0.6535796523094177,\n",
              "  0.6504303812980652,\n",
              "  0.6590384244918823,\n",
              "  0.6626076102256775,\n",
              "  0.6579886674880981,\n",
              "  0.6584085822105408,\n",
              "  0.6575687527656555,\n",
              "  0.6630275249481201,\n",
              "  0.6592483520507812,\n",
              "  0.6615578532218933,\n",
              "  0.6556791663169861,\n",
              "  0.6680663228034973,\n",
              "  0.6628175377845764,\n",
              "  0.6619777679443359,\n",
              "  0.6552593111991882,\n",
              "  0.670795738697052,\n",
              "  0.6655469536781311,\n",
              "  0.6590384244918823,\n",
              "  0.6642872095108032,\n",
              "  0.6678563952445984,\n",
              "  0.6678563952445984,\n",
              "  0.6642872095108032,\n",
              "  0.6678563952445984,\n",
              "  0.6720554232597351,\n",
              "  0.6647071242332458,\n",
              "  0.670795738697052,\n",
              "  0.6693260669708252,\n",
              "  0.6766743659973145,\n",
              "  0.6684862375259399,\n",
              "  0.6756246089935303,\n",
              "  0.6737350225448608,\n",
              "  0.6731051802635193,\n",
              "  0.6749947667121887,\n",
              "  0.6703758239746094,\n",
              "  0.6726852655410767,\n",
              "  0.6726852655410767,\n",
              "  0.6810833215713501,\n",
              "  0.6743649244308472,\n",
              "  0.6808733940124512,\n",
              "  0.6791937947273254,\n",
              "  0.6777241230010986,\n",
              "  0.6733151078224182,\n",
              "  0.6781440377235413,\n",
              "  0.6770942807197571,\n",
              "  0.6838127374649048,\n",
              "  0.6817132234573364,\n",
              "  0.6758345365524292,\n",
              "  0.6743649244308472,\n",
              "  0.6791937947273254,\n",
              "  0.6882216930389404,\n",
              "  0.6817132234573364,\n",
              "  0.6812933087348938,\n",
              "  0.6840226650238037,\n",
              "  0.6802435517311096,\n",
              "  0.6775141954421997,\n",
              "  0.6846525073051453,\n",
              "  0.6926307082176208,\n",
              "  0.6878017783164978,\n",
              "  0.6926307082176208,\n",
              "  0.6854923367500305,\n",
              "  0.6896913647651672,\n",
              "  0.6890615224838257,\n",
              "  0.6869620084762573,\n",
              "  0.6829729080200195,\n",
              "  0.6875918507575989,\n",
              "  0.6869620084762573,\n",
              "  0.6875918507575989,\n",
              "  0.6884316802024841,\n",
              "  0.6909511089324951,\n",
              "  0.6917908787727356,\n",
              "  0.6928406357765198,\n",
              "  0.684862494468689,\n",
              "  0.6970396637916565,\n",
              "  0.6903212070465088,\n",
              "  0.6915809512138367,\n",
              "  0.6928406357765198,\n",
              "  0.6941003799438477,\n",
              "  0.6926307082176208,\n",
              "  0.6970396637916565,\n",
              "  0.6905311942100525,\n",
              "  0.6993491649627686,\n",
              "  0.6995590925216675,\n",
              "  0.7031282782554626,\n",
              "  0.6995590925216675,\n",
              "  0.6959899067878723,\n",
              "  0.6959899067878723,\n",
              "  0.6953600645065308,\n",
              "  0.7008188366889954,\n",
              "  0.7069073915481567,\n",
              "  0.7012386918067932,\n",
              "  0.6997690796852112,\n",
              "  0.6953600645065308,\n",
              "  0.6993491649627686,\n",
              "  0.6947302222251892,\n",
              "  0.6985093355178833,\n",
              "  0.6972496509552002,\n",
              "  0.7054377198219299,\n",
              "  0.6920008659362793,\n",
              "  0.7020785212516785,\n",
              "  0.7018685936927795,\n",
              "  0.7018685936927795,\n",
              "  0.7037581205368042,\n",
              "  0.7012386918067932,\n",
              "  0.700188934803009,\n",
              "  0.7022884488105774,\n",
              "  0.6943103075027466,\n",
              "  0.7050178647041321,\n",
              "  0.7039681077003479,\n",
              "  0.7150955200195312,\n",
              "  0.7075372934341431,\n",
              "  0.705227792263031,\n",
              "  0.6974595785140991,\n",
              "  0.7037581205368042,\n",
              "  0.7041780352592468,\n",
              "  0.705227792263031,\n",
              "  0.7012386918067932,\n",
              "  0.7104765772819519,\n",
              "  0.70270836353302,\n",
              "  0.7079571485519409,\n",
              "  0.7037581205368042,\n",
              "  0.7083770632743835,\n",
              "  0.7008188366889954,\n",
              "  0.7119462490081787,\n",
              "  0.7079571485519409,\n",
              "  0.7081671357154846,\n",
              "  0.7092168927192688],\n",
              " 'loss': [0.9485679268836975,\n",
              "  0.8770033121109009,\n",
              "  0.8838943243026733,\n",
              "  0.8881027698516846,\n",
              "  0.8349747061729431,\n",
              "  0.8201785087585449,\n",
              "  0.7952805757522583,\n",
              "  0.7882307767868042,\n",
              "  0.7828433513641357,\n",
              "  0.7637988328933716,\n",
              "  0.7636380195617676,\n",
              "  0.7475146651268005,\n",
              "  0.7430122494697571,\n",
              "  0.7530328035354614,\n",
              "  0.7293891906738281,\n",
              "  0.7082954049110413,\n",
              "  0.7275062203407288,\n",
              "  0.7137505412101746,\n",
              "  0.6869661211967468,\n",
              "  0.7090684771537781,\n",
              "  0.6876314878463745,\n",
              "  0.6821610331535339,\n",
              "  0.6828307509422302,\n",
              "  0.6822807192802429,\n",
              "  0.6683942079544067,\n",
              "  0.6724520325660706,\n",
              "  0.6777923703193665,\n",
              "  0.6733731031417847,\n",
              "  0.6675801873207092,\n",
              "  0.6595416069030762,\n",
              "  0.6672408580780029,\n",
              "  0.6658489108085632,\n",
              "  0.6598861813545227,\n",
              "  0.6577969789505005,\n",
              "  0.6528927087783813,\n",
              "  0.6512772440910339,\n",
              "  0.6515137553215027,\n",
              "  0.6516429781913757,\n",
              "  0.649471640586853,\n",
              "  0.6434920430183411,\n",
              "  0.6423272490501404,\n",
              "  0.6441089510917664,\n",
              "  0.6403731107711792,\n",
              "  0.6430779099464417,\n",
              "  0.6391900181770325,\n",
              "  0.6401665806770325,\n",
              "  0.6383645534515381,\n",
              "  0.6358885169029236,\n",
              "  0.6359291076660156,\n",
              "  0.6289991736412048,\n",
              "  0.6331813335418701,\n",
              "  0.6350999474525452,\n",
              "  0.6320521235466003,\n",
              "  0.6279299855232239,\n",
              "  0.629935085773468,\n",
              "  0.6274797320365906,\n",
              "  0.6250930428504944,\n",
              "  0.6224150061607361,\n",
              "  0.6321275234222412,\n",
              "  0.6250044107437134,\n",
              "  0.6241219639778137,\n",
              "  0.6234453916549683,\n",
              "  0.6201617121696472,\n",
              "  0.6226096153259277,\n",
              "  0.617188036441803,\n",
              "  0.6166961193084717,\n",
              "  0.6211972832679749,\n",
              "  0.6148863434791565,\n",
              "  0.6216381192207336,\n",
              "  0.612473726272583,\n",
              "  0.614345908164978,\n",
              "  0.6156445741653442,\n",
              "  0.6175510883331299,\n",
              "  0.614218533039093,\n",
              "  0.6149409413337708,\n",
              "  0.610080361366272,\n",
              "  0.6127375364303589,\n",
              "  0.6113937497138977,\n",
              "  0.6119863986968994,\n",
              "  0.6104342341423035,\n",
              "  0.607580304145813,\n",
              "  0.6082046031951904,\n",
              "  0.6081071496009827,\n",
              "  0.6049922704696655,\n",
              "  0.6099188327789307,\n",
              "  0.6087989807128906,\n",
              "  0.6037752032279968,\n",
              "  0.604356050491333,\n",
              "  0.6094374060630798,\n",
              "  0.5986329913139343,\n",
              "  0.6041651368141174,\n",
              "  0.6076239943504333,\n",
              "  0.6015508770942688,\n",
              "  0.6057335138320923,\n",
              "  0.6025904417037964,\n",
              "  0.605426549911499,\n",
              "  0.5981625318527222,\n",
              "  0.6034035086631775,\n",
              "  0.598831832408905,\n",
              "  0.5995879173278809,\n",
              "  0.5998814702033997,\n",
              "  0.5972856283187866,\n",
              "  0.5993741750717163,\n",
              "  0.5970357656478882,\n",
              "  0.5982745289802551,\n",
              "  0.6000252366065979,\n",
              "  0.6015146374702454,\n",
              "  0.5975111126899719,\n",
              "  0.5983133316040039,\n",
              "  0.5968313813209534,\n",
              "  0.5955324172973633,\n",
              "  0.5956782102584839,\n",
              "  0.5941522717475891,\n",
              "  0.5950093865394592,\n",
              "  0.5943273305892944,\n",
              "  0.595819354057312,\n",
              "  0.5931405425071716,\n",
              "  0.5928334593772888,\n",
              "  0.5935655236244202,\n",
              "  0.587931752204895,\n",
              "  0.5898915529251099,\n",
              "  0.592248797416687,\n",
              "  0.592284083366394,\n",
              "  0.5873093605041504,\n",
              "  0.5899837613105774,\n",
              "  0.5902496576309204,\n",
              "  0.59067702293396,\n",
              "  0.5893930792808533,\n",
              "  0.593033492565155,\n",
              "  0.5902581214904785,\n",
              "  0.5883102416992188,\n",
              "  0.5869929194450378,\n",
              "  0.587833821773529,\n",
              "  0.5898283123970032,\n",
              "  0.589718222618103,\n",
              "  0.5853476524353027,\n",
              "  0.5839232206344604,\n",
              "  0.5887923836708069,\n",
              "  0.5863606929779053,\n",
              "  0.5855605006217957,\n",
              "  0.5844128131866455,\n",
              "  0.5868072509765625,\n",
              "  0.5819348692893982,\n",
              "  0.5842085480690002,\n",
              "  0.5812035202980042,\n",
              "  0.582886278629303,\n",
              "  0.5840176343917847,\n",
              "  0.5837034583091736,\n",
              "  0.5804482102394104,\n",
              "  0.5839682817459106,\n",
              "  0.5854313373565674,\n",
              "  0.5796853303909302,\n",
              "  0.5774371027946472,\n",
              "  0.5813583731651306,\n",
              "  0.5803112983703613,\n",
              "  0.5786312818527222,\n",
              "  0.580607533454895,\n",
              "  0.579650342464447,\n",
              "  0.5794038772583008,\n",
              "  0.5791410803794861,\n",
              "  0.5792714953422546,\n",
              "  0.5770893096923828,\n",
              "  0.5759435892105103,\n",
              "  0.5768507122993469,\n",
              "  0.5754638314247131,\n",
              "  0.5765193700790405,\n",
              "  0.576666533946991,\n",
              "  0.5767974257469177,\n",
              "  0.5773703455924988,\n",
              "  0.5767843723297119,\n",
              "  0.5737353563308716,\n",
              "  0.5786533951759338,\n",
              "  0.574371874332428,\n",
              "  0.5755798816680908,\n",
              "  0.5760402679443359,\n",
              "  0.5732715725898743,\n",
              "  0.5731239318847656,\n",
              "  0.5724198818206787,\n",
              "  0.5714894533157349,\n",
              "  0.5734173655509949,\n",
              "  0.570914626121521,\n",
              "  0.5710278749465942,\n",
              "  0.5701125860214233,\n",
              "  0.5683212280273438,\n",
              "  0.5726385712623596,\n",
              "  0.5755805969238281,\n",
              "  0.5731792449951172,\n",
              "  0.5700191259384155,\n",
              "  0.568131685256958,\n",
              "  0.5755470395088196,\n",
              "  0.566170871257782,\n",
              "  0.5696483254432678,\n",
              "  0.5698778629302979,\n",
              "  0.5745463371276855,\n",
              "  0.5645078420639038,\n",
              "  0.5688926577568054,\n",
              "  0.5671122670173645,\n",
              "  0.5707341432571411,\n",
              "  0.5669655799865723,\n",
              "  0.5671619772911072],\n",
              " 'val_accuracy': [0.4805876314640045,\n",
              "  0.4805876314640045,\n",
              "  0.4805876314640045,\n",
              "  0.48268625140190125,\n",
              "  0.48478490114212036,\n",
              "  0.49108079075813293,\n",
              "  0.4942287504673004,\n",
              "  0.4973767101764679,\n",
              "  0.500524640083313,\n",
              "  0.5036725997924805,\n",
              "  0.5099685192108154,\n",
              "  0.5194123983383179,\n",
              "  0.5257083177566528,\n",
              "  0.5267575979232788,\n",
              "  0.5330535173416138,\n",
              "  0.5414480566978455,\n",
              "  0.5477439761161804,\n",
              "  0.5561385154724121,\n",
              "  0.5655823945999146,\n",
              "  0.568730354309082,\n",
              "  0.5781741738319397,\n",
              "  0.5855194330215454,\n",
              "  0.5939139723777771,\n",
              "  0.5907660126686096,\n",
              "  0.6002098917961121,\n",
              "  0.6033577919006348,\n",
              "  0.6054564714431763,\n",
              "  0.6211962103843689,\n",
              "  0.6285414695739746,\n",
              "  0.646379828453064,\n",
              "  0.651626467704773,\n",
              "  0.6537250876426697,\n",
              "  0.6600210070610046,\n",
              "  0.6663168668746948,\n",
              "  0.6747114658355713,\n",
              "  0.6757607460021973,\n",
              "  0.6789087057113647,\n",
              "  0.683106005191803,\n",
              "  0.6852046251296997,\n",
              "  0.6935991644859314,\n",
              "  0.6956977844238281,\n",
              "  0.6967471241950989,\n",
              "  0.6946485042572021,\n",
              "  0.6988457441329956,\n",
              "  0.6988457441329956,\n",
              "  0.7009443640708923,\n",
              "  0.7030430436134338,\n",
              "  0.7051416635513306,\n",
              "  0.7072402834892273,\n",
              "  0.7051416635513306,\n",
              "  0.7072402834892273,\n",
              "  0.7061910033226013,\n",
              "  0.7072402834892273,\n",
              "  0.7114375829696655,\n",
              "  0.708289623260498,\n",
              "  0.708289623260498,\n",
              "  0.7051416635513306,\n",
              "  0.709338903427124,\n",
              "  0.708289623260498,\n",
              "  0.708289623260498,\n",
              "  0.714585542678833,\n",
              "  0.7135362029075623,\n",
              "  0.7114375829696655,\n",
              "  0.7114375829696655,\n",
              "  0.709338903427124,\n",
              "  0.709338903427124,\n",
              "  0.7114375829696655,\n",
              "  0.7124868631362915,\n",
              "  0.7124868631362915,\n",
              "  0.7124868631362915,\n",
              "  0.715634822845459,\n",
              "  0.7177335023880005,\n",
              "  0.715634822845459,\n",
              "  0.714585542678833,\n",
              "  0.7124868631362915,\n",
              "  0.7124868631362915,\n",
              "  0.7135362029075623,\n",
              "  0.7166841626167297,\n",
              "  0.7177335023880005,\n",
              "  0.7166841626167297,\n",
              "  0.7198321223258972,\n",
              "  0.7187827825546265,\n",
              "  0.7198321223258972,\n",
              "  0.7208814024925232,\n",
              "  0.7198321223258972,\n",
              "  0.721930742263794,\n",
              "  0.7198321223258972,\n",
              "  0.721930742263794,\n",
              "  0.7250787019729614,\n",
              "  0.7250787019729614,\n",
              "  0.7250787019729614,\n",
              "  0.7240293622016907,\n",
              "  0.721930742263794,\n",
              "  0.7250787019729614,\n",
              "  0.7250787019729614,\n",
              "  0.7271773219108582,\n",
              "  0.7250787019729614,\n",
              "  0.7261280417442322,\n",
              "  0.7261280417442322,\n",
              "  0.7271773219108582,\n",
              "  0.7271773219108582,\n",
              "  0.7261280417442322,\n",
              "  0.7303252816200256,\n",
              "  0.7282266616821289,\n",
              "  0.7271773219108582,\n",
              "  0.7292759418487549,\n",
              "  0.7292759418487549,\n",
              "  0.7250787019729614,\n",
              "  0.7313746213912964,\n",
              "  0.7292759418487549,\n",
              "  0.7303252816200256,\n",
              "  0.7303252816200256,\n",
              "  0.7334732413291931,\n",
              "  0.7345225811004639,\n",
              "  0.7345225811004639,\n",
              "  0.7334732413291931,\n",
              "  0.7345225811004639,\n",
              "  0.7334732413291931,\n",
              "  0.7303252816200256,\n",
              "  0.7355718612670898,\n",
              "  0.7355718612670898,\n",
              "  0.7397691607475281,\n",
              "  0.7387198209762573,\n",
              "  0.7397691607475281,\n",
              "  0.740818440914154,\n",
              "  0.740818440914154,\n",
              "  0.740818440914154,\n",
              "  0.740818440914154,\n",
              "  0.7397691607475281,\n",
              "  0.7397691607475281,\n",
              "  0.740818440914154,\n",
              "  0.740818440914154,\n",
              "  0.7418677806854248,\n",
              "  0.7450157403945923,\n",
              "  0.746065080165863,\n",
              "  0.7439664006233215,\n",
              "  0.7492130398750305,\n",
              "  0.7481637001037598,\n",
              "  0.7481637001037598,\n",
              "  0.747114360332489,\n",
              "  0.7492130398750305,\n",
              "  0.7555088996887207,\n",
              "  0.7523609399795532,\n",
              "  0.7513116598129272,\n",
              "  0.7544596195220947,\n",
              "  0.7555088996887207,\n",
              "  0.753410279750824,\n",
              "  0.7513116598129272,\n",
              "  0.7555088996887207,\n",
              "  0.753410279750824,\n",
              "  0.7523609399795532,\n",
              "  0.7544596195220947,\n",
              "  0.7523609399795532,\n",
              "  0.7523609399795532,\n",
              "  0.7544596195220947,\n",
              "  0.7565582394599915,\n",
              "  0.7555088996887207,\n",
              "  0.7555088996887207,\n",
              "  0.7544596195220947,\n",
              "  0.753410279750824,\n",
              "  0.753410279750824,\n",
              "  0.7555088996887207,\n",
              "  0.7576075792312622,\n",
              "  0.7565582394599915,\n",
              "  0.7544596195220947,\n",
              "  0.7586568593978882,\n",
              "  0.7607554793357849,\n",
              "  0.7565582394599915,\n",
              "  0.7565582394599915,\n",
              "  0.7544596195220947,\n",
              "  0.7555088996887207,\n",
              "  0.7565582394599915,\n",
              "  0.7565582394599915,\n",
              "  0.7597061991691589,\n",
              "  0.7555088996887207,\n",
              "  0.7576075792312622,\n",
              "  0.7576075792312622,\n",
              "  0.7607554793357849,\n",
              "  0.7597061991691589,\n",
              "  0.7586568593978882,\n",
              "  0.7586568593978882,\n",
              "  0.7565582394599915,\n",
              "  0.7597061991691589,\n",
              "  0.7607554793357849,\n",
              "  0.7597061991691589,\n",
              "  0.7576075792312622,\n",
              "  0.7586568593978882,\n",
              "  0.7586568593978882,\n",
              "  0.7586568593978882,\n",
              "  0.7586568593978882,\n",
              "  0.7586568593978882,\n",
              "  0.7565582394599915,\n",
              "  0.7597061991691589,\n",
              "  0.7576075792312622,\n",
              "  0.7597061991691589,\n",
              "  0.7597061991691589,\n",
              "  0.7607554793357849,\n",
              "  0.7607554793357849,\n",
              "  0.7597061991691589,\n",
              "  0.7628541588783264],\n",
              " 'val_loss': [0.7971066832542419,\n",
              "  0.7778418660163879,\n",
              "  0.7658037543296814,\n",
              "  0.7515535354614258,\n",
              "  0.7401622533798218,\n",
              "  0.7286666035652161,\n",
              "  0.7202134728431702,\n",
              "  0.7137668132781982,\n",
              "  0.7049509882926941,\n",
              "  0.6983976364135742,\n",
              "  0.6942107677459717,\n",
              "  0.6888580322265625,\n",
              "  0.6841618418693542,\n",
              "  0.6790264844894409,\n",
              "  0.6758584380149841,\n",
              "  0.6720617413520813,\n",
              "  0.6693418622016907,\n",
              "  0.6658905148506165,\n",
              "  0.6629524230957031,\n",
              "  0.6588777303695679,\n",
              "  0.657596230506897,\n",
              "  0.6554205417633057,\n",
              "  0.6542971134185791,\n",
              "  0.6509262919425964,\n",
              "  0.6484162211418152,\n",
              "  0.6468546986579895,\n",
              "  0.6442094445228577,\n",
              "  0.6420391798019409,\n",
              "  0.6387463212013245,\n",
              "  0.6373862624168396,\n",
              "  0.6363171339035034,\n",
              "  0.6336272954940796,\n",
              "  0.6325629353523254,\n",
              "  0.6317306756973267,\n",
              "  0.6297619342803955,\n",
              "  0.6281473636627197,\n",
              "  0.6257517337799072,\n",
              "  0.6237709522247314,\n",
              "  0.6230147480964661,\n",
              "  0.6203864812850952,\n",
              "  0.6185348629951477,\n",
              "  0.6175515651702881,\n",
              "  0.6161986589431763,\n",
              "  0.6142860054969788,\n",
              "  0.6129568815231323,\n",
              "  0.6114565134048462,\n",
              "  0.6104916930198669,\n",
              "  0.6093298196792603,\n",
              "  0.6082273125648499,\n",
              "  0.6070764660835266,\n",
              "  0.6058844923973083,\n",
              "  0.6050123572349548,\n",
              "  0.6037375330924988,\n",
              "  0.6034091114997864,\n",
              "  0.6020686626434326,\n",
              "  0.601553738117218,\n",
              "  0.6000849008560181,\n",
              "  0.5992817282676697,\n",
              "  0.5984099507331848,\n",
              "  0.5976784229278564,\n",
              "  0.5980814695358276,\n",
              "  0.5963166952133179,\n",
              "  0.5955323576927185,\n",
              "  0.5950581431388855,\n",
              "  0.5940933227539062,\n",
              "  0.593300461769104,\n",
              "  0.5924614071846008,\n",
              "  0.5920736193656921,\n",
              "  0.5914281606674194,\n",
              "  0.5903813242912292,\n",
              "  0.5896379947662354,\n",
              "  0.5894206166267395,\n",
              "  0.5879907011985779,\n",
              "  0.5874308347702026,\n",
              "  0.58724445104599,\n",
              "  0.5867591500282288,\n",
              "  0.5856908559799194,\n",
              "  0.58521568775177,\n",
              "  0.5851393938064575,\n",
              "  0.584266722202301,\n",
              "  0.5836369395256042,\n",
              "  0.5830701589584351,\n",
              "  0.5823668837547302,\n",
              "  0.5817364454269409,\n",
              "  0.5809922814369202,\n",
              "  0.580392599105835,\n",
              "  0.5799862742424011,\n",
              "  0.5793876051902771,\n",
              "  0.5786211490631104,\n",
              "  0.5781013369560242,\n",
              "  0.5775561928749084,\n",
              "  0.5771183371543884,\n",
              "  0.5764394402503967,\n",
              "  0.5758771896362305,\n",
              "  0.5755967497825623,\n",
              "  0.5755952596664429,\n",
              "  0.5744056701660156,\n",
              "  0.5735693573951721,\n",
              "  0.573114812374115,\n",
              "  0.5730039477348328,\n",
              "  0.5726194977760315,\n",
              "  0.5720604658126831,\n",
              "  0.5719645023345947,\n",
              "  0.5709774494171143,\n",
              "  0.570503294467926,\n",
              "  0.570280909538269,\n",
              "  0.5699092745780945,\n",
              "  0.5693356990814209,\n",
              "  0.5688086748123169,\n",
              "  0.5683107376098633,\n",
              "  0.5681414008140564,\n",
              "  0.5676921010017395,\n",
              "  0.5674358606338501,\n",
              "  0.5664873123168945,\n",
              "  0.5664806365966797,\n",
              "  0.5668113827705383,\n",
              "  0.5660761594772339,\n",
              "  0.565067708492279,\n",
              "  0.5647896528244019,\n",
              "  0.5645763278007507,\n",
              "  0.5638517737388611,\n",
              "  0.5637156367301941,\n",
              "  0.5632305145263672,\n",
              "  0.5625174045562744,\n",
              "  0.562070906162262,\n",
              "  0.5619343519210815,\n",
              "  0.5614027380943298,\n",
              "  0.5611647367477417,\n",
              "  0.560740053653717,\n",
              "  0.5603925585746765,\n",
              "  0.5597780346870422,\n",
              "  0.5589433908462524,\n",
              "  0.5587169528007507,\n",
              "  0.5588183999061584,\n",
              "  0.5586225986480713,\n",
              "  0.5585781931877136,\n",
              "  0.5574554800987244,\n",
              "  0.5574113726615906,\n",
              "  0.5568399429321289,\n",
              "  0.5568535923957825,\n",
              "  0.5561174750328064,\n",
              "  0.5559517741203308,\n",
              "  0.5549575090408325,\n",
              "  0.5548800826072693,\n",
              "  0.5548250675201416,\n",
              "  0.5544189810752869,\n",
              "  0.553753674030304,\n",
              "  0.5536404848098755,\n",
              "  0.5532503724098206,\n",
              "  0.5531567335128784,\n",
              "  0.5523040890693665,\n",
              "  0.5519036650657654,\n",
              "  0.5513936877250671,\n",
              "  0.5508848428726196,\n",
              "  0.55072021484375,\n",
              "  0.5502128601074219,\n",
              "  0.5498636364936829,\n",
              "  0.5493370294570923,\n",
              "  0.5491893887519836,\n",
              "  0.5487949252128601,\n",
              "  0.5482714772224426,\n",
              "  0.5481833815574646,\n",
              "  0.5477425456047058,\n",
              "  0.5471509695053101,\n",
              "  0.5471020936965942,\n",
              "  0.5469609498977661,\n",
              "  0.5462168455123901,\n",
              "  0.546137809753418,\n",
              "  0.5458496809005737,\n",
              "  0.5452561974525452,\n",
              "  0.5447512865066528,\n",
              "  0.5444619655609131,\n",
              "  0.5439686179161072,\n",
              "  0.5437390208244324,\n",
              "  0.5435842871665955,\n",
              "  0.543350875377655,\n",
              "  0.5428459048271179,\n",
              "  0.5425679087638855,\n",
              "  0.542014479637146,\n",
              "  0.5419592261314392,\n",
              "  0.541537344455719,\n",
              "  0.5409940481185913,\n",
              "  0.540451169013977,\n",
              "  0.5401149392127991,\n",
              "  0.5397628545761108,\n",
              "  0.5393096208572388,\n",
              "  0.5391852259635925,\n",
              "  0.5390771627426147,\n",
              "  0.5388820171356201,\n",
              "  0.5387845635414124,\n",
              "  0.5381144285202026,\n",
              "  0.5380080342292786,\n",
              "  0.5374382138252258,\n",
              "  0.5371968746185303,\n",
              "  0.5365965962409973,\n",
              "  0.5364494919776917,\n",
              "  0.5362877249717712,\n",
              "  0.5359845757484436,\n",
              "  0.5356619358062744,\n",
              "  0.5354360342025757]}"
            ]
          },
          "metadata": {
            "tags": []
          },
          "execution_count": 35
        }
      ]
    },
    {
      "cell_type": "code",
      "metadata": {
        "id": "0PQUGJ0omWd-",
        "colab_type": "code",
        "outputId": "2ff559c4-f6ae-4775-db19-14ef601e872d",
        "colab": {
          "base_uri": "https://localhost:8080/",
          "height": 573
        }
      },
      "source": [
        "plt.plot(history.history['accuracy'])\n",
        "plt.plot(history.history['val_accuracy'])\n",
        "plt.title('Model accuracy')\n",
        "plt.ylabel('Accuracy')\n",
        "plt.xlabel('Epoch')\n",
        "plt.legend(['Train', 'Test'], loc='upper left')\n",
        "plt.show()\n",
        "\n",
        "# Plot training & validation loss values\n",
        "plt.plot(history.history['loss'])\n",
        "plt.plot(history.history['val_loss'])\n",
        "plt.title('Model loss')\n",
        "plt.ylabel('Loss')\n",
        "plt.xlabel('Epoch')\n",
        "plt.legend(['Train', 'Test'], loc='upper left')\n",
        "plt.show()"
      ],
      "execution_count": 36,
      "outputs": [
        {
          "output_type": "display_data",
          "data": {
            "image/png": "[encoded data removed]",
            "text/plain": [
              "<Figure size 432x288 with 1 Axes>"
            ]
          },
          "metadata": {
            "tags": []
          }
        },
        {
          "output_type": "display_data",
          "data": {
            "image/png": "[encoded data removed]",
            "text/plain": [
              "<Figure size 432x288 with 1 Axes>"
            ]
          },
          "metadata": {
            "tags": []
          }
        }
      ]
    },
    {
      "cell_type": "code",
      "metadata": {
        "id": "A6JZCHx4mxHd",
        "colab_type": "code",
        "colab": {}
      },
      "source": [
        "from sklearn.metrics import roc_curve, roc_auc_score, f1_score\n",
        "from sklearn.metrics import accuracy_score\n",
        "from sklearn.metrics import confusion_matrix"
      ],
      "execution_count": 0,
      "outputs": []
    },
    {
      "cell_type": "code",
      "metadata": {
        "id": "Bi2-05mNo7hR",
        "colab_type": "code",
        "outputId": "b57eb723-30e1-4805-c2a1-44ddcee148d6",
        "colab": {
          "base_uri": "https://localhost:8080/",
          "height": 190
        }
      },
      "source": [
        "acc = accuracy_score(k2, k1)\n",
        "f1 = f1_score(k2, test_pred[:,0])\n",
        "y_score = model.predict_proba(X_b_shaped)\n",
        "roc = roc_auc_score(k2, y_score)\n",
        "print('The accuracy of this model is ' + str(acc))\n",
        "print('The f1 score of this model is ' + str(f1))\n",
        "print('The area under curve of this model is ' + str(roc))\n",
        "print('The confusion matrix is as follows:')\n",
        "print(confusion_matrix(y_b, test_pred[:,0]))"
      ],
      "execution_count": 38,
      "outputs": [
        {
          "output_type": "stream",
          "text": [
            "WARNING:tensorflow:From <ipython-input-38-e70d3f3a67a4>:3: Sequential.predict_proba (from tensorflow.python.keras.engine.sequential) is deprecated and will be removed after 2021-01-01.\n",
            "Instructions for updating:\n",
            "Please use `model.predict()` instead.\n",
            "The accuracy of this model is 0.7773109243697479\n",
            "The f1 score of this model is 0.7499999999999999\n",
            "The area under curve of this model is 0.8558854718981973\n",
            "The confusion matrix is as follows:\n",
            "[[211  35]\n",
            " [ 71 159]]\n"
          ],
          "name": "stdout"
        }
      ]
    },
    {
      "cell_type": "code",
      "metadata": {
        "id": "oYlVfkgoqItD",
        "colab_type": "code",
        "outputId": "c981ef72-84ca-4e96-e76b-dbbd66a5c249",
        "colab": {
          "base_uri": "https://localhost:8080/",
          "height": 312
        }
      },
      "source": [
        "fpr, tpr,x = roc_curve( k2, y_score)\n",
        "plt.plot(fpr, tpr)\n",
        "plt.title('ROC Curve')\n",
        "plt.xlabel('False Positive Rate')\n",
        "plt.ylabel('True Positive Rate')"
      ],
      "execution_count": 39,
      "outputs": [
        {
          "output_type": "execute_result",
          "data": {
            "text/plain": [
              "Text(0, 0.5, 'True Positive Rate')"
            ]
          },
          "metadata": {
            "tags": []
          },
          "execution_count": 39
        },
        {
          "output_type": "display_data",
          "data": {
            "image/png": "[encoded data removed]",
            "text/plain": [
              "<Figure size 432x288 with 1 Axes>"
            ]
          },
          "metadata": {
            "tags": []
          }
        }
      ]
    },
    {
      "cell_type": "markdown",
      "metadata": {
        "id": "-T6QWIg74RwY",
        "colab_type": "text"
      },
      "source": [
        "# Testing on New files"
      ]
    },
    {
      "cell_type": "code",
      "metadata": {
        "id": "UCQlypEUDitX",
        "colab_type": "code",
        "colab": {}
      },
      "source": [
        "import numpy as np\n",
        "import math\n",
        "import cv2"
      ],
      "execution_count": 0,
      "outputs": []
    },
    {
      "cell_type": "code",
      "metadata": {
        "id": "-TJStSOTDdf8",
        "colab_type": "code",
        "colab": {
          "base_uri": "https://localhost:8080/",
          "height": 54
        },
        "outputId": "e3b57b9c-a710-47a0-8c9b-496359570b3c"
      },
      "source": [
        "from scipy.spatial import distance\n",
        "from mlxtend.image import extract_face_landmarks"
      ],
      "execution_count": 41,
      "outputs": [
        {
          "output_type": "stream",
          "text": [
            "Downloading http://dlib.net/files/shape_predictor_68_face_landmarks.dat.bz2 to /root/mlxtend_data/shape_predictor_68_face_landmarks.dat.bz2\n"
          ],
          "name": "stdout"
        }
      ]
    },
    {
      "cell_type": "code",
      "metadata": {
        "id": "I2L1fBaYDXHD",
        "colab_type": "code",
        "colab": {}
      },
      "source": [
        "def images(x):\n",
        "    vc.set(cv2.CAP_PROP_POS_MSEC, x)\n",
        "    result,image = vc.read()\n",
        "    return result, image"
      ],
      "execution_count": 0,
      "outputs": []
    },
    {
      "cell_type": "code",
      "metadata": {
        "id": "3IQbusxCC8Cu",
        "colab_type": "code",
        "colab": {}
      },
      "source": [
        "path = '/content/drive/My Drive/Untitled folder/Video/'\n",
        "filename = 'test5.mp4'"
      ],
      "execution_count": 0,
      "outputs": []
    },
    {
      "cell_type": "code",
      "metadata": {
        "id": "H_BvncH-DEEr",
        "colab_type": "code",
        "outputId": "fd586d2c-cc88-41f4-b2cb-9745b4ced147",
        "colab": {
          "base_uri": "https://localhost:8080/",
          "height": 187
        }
      },
      "source": [
        "lm =[]\n",
        "frames_max = 100 #number of frames needed per video\n",
        "vc = cv2.VideoCapture(path + filename)\n",
        "tim = 0\n",
        "result, image  = images(tim)\n",
        "count = 0\n",
        "while result and count < frames_max: \n",
        "    landmarks = extract_face_landmarks(image)\n",
        "    if sum(sum(landmarks)) != 0:\n",
        "        lm.append(landmarks)\n",
        "        tim +=600 \n",
        "        result, image = images(tim)\n",
        "        count += 1\n",
        "        if count%10 == 0: print('Extracted face landmarks from '+str(count)+' frames')\n",
        "    else:  \n",
        "        tim += 600\n",
        "        result, image = images(tim)\n",
        "        print('Face not detected in this frame, till now extracted from '+str(count)+' frames')\n",
        "lm = np.array(lm)"
      ],
      "execution_count": 44,
      "outputs": [
        {
          "output_type": "stream",
          "text": [
            "Extracted face landmarks from 10 frames\n",
            "Extracted face landmarks from 20 frames\n",
            "Extracted face landmarks from 30 frames\n",
            "Extracted face landmarks from 40 frames\n",
            "Extracted face landmarks from 50 frames\n",
            "Extracted face landmarks from 60 frames\n",
            "Extracted face landmarks from 70 frames\n",
            "Extracted face landmarks from 80 frames\n",
            "Extracted face landmarks from 90 frames\n",
            "Extracted face landmarks from 100 frames\n"
          ],
          "name": "stdout"
        }
      ]
    },
    {
      "cell_type": "code",
      "metadata": {
        "id": "ovH38VkL2tZC",
        "colab_type": "code",
        "colab": {}
      },
      "source": [
        "def EAR(arr):\n",
        "\tx1,x2,x3 = distance.euclidean(arr[1], arr[5]),distance.euclidean(arr[2], arr[4]),distance.euclidean(arr[0], arr[3])\n",
        "\tfrac = (x1+ x2) / (2.0 * x3)\n",
        "\treturn frac\n",
        "\n",
        "def MAR(arr):\n",
        "    x1,x2 = distance.euclidean(arr[14], arr[18]), distance.euclidean(arr[12], arr[16])\n",
        "    frac = x1/x2\n",
        "    return frac\n",
        "\n",
        "def PUC(arr):\n",
        "    r = distance.euclidean(arr[1], arr[4])/2.0\n",
        "    area = math.pi*(r**2)\n",
        "    peri = 0\n",
        "    for i in range(0,5):\n",
        "      peri = peri + distance.euclidean(arr[i], arr[i+1])\n",
        "    peri = peri + distance.euclidean(arr[5], arr[0])\n",
        "    return 4 * math.pi * area /(peri**2)"
      ],
      "execution_count": 0,
      "outputs": []
    },
    {
      "cell_type": "code",
      "metadata": {
        "id": "AtE4Dv3vDRw7",
        "colab_type": "code",
        "colab": {}
      },
      "source": [
        "features = []\n",
        "for l in lm:\n",
        "  mainMarks = l[36:68]\n",
        "  x1, x2, x3 = EAR(mainMarks), MAR(mainMarks), PUC(mainMarks)\n",
        "  features.append([x1, x2, x3, x2/x1])\n",
        "features = np.array(features)"
      ],
      "execution_count": 0,
      "outputs": []
    },
    {
      "cell_type": "code",
      "metadata": {
        "id": "JhFwITqPDyC2",
        "colab_type": "code",
        "colab": {}
      },
      "source": [
        "np.savetxt(\"test5.csv\", features, delimiter = \",\")"
      ],
      "execution_count": 0,
      "outputs": []
    },
    {
      "cell_type": "code",
      "metadata": {
        "id": "R2aikOVCD6XW",
        "colab_type": "code",
        "colab": {}
      },
      "source": [
        "import pandas as pd"
      ],
      "execution_count": 0,
      "outputs": []
    },
    {
      "cell_type": "code",
      "metadata": {
        "id": "t2jWUjF1EmsQ",
        "colab_type": "code",
        "colab": {}
      },
      "source": [
        "df=pd.read_csv('/content/test5.csv')"
      ],
      "execution_count": 0,
      "outputs": []
    },
    {
      "cell_type": "code",
      "metadata": {
        "id": "VQrd9Lh3Ex0T",
        "colab_type": "code",
        "colab": {}
      },
      "source": [
        "df.columns = ['x1','x2','x3','x4']"
      ],
      "execution_count": 0,
      "outputs": []
    },
    {
      "cell_type": "code",
      "metadata": {
        "id": "UnqitYkWGyGc",
        "colab_type": "code",
        "colab": {}
      },
      "source": [
        "df_temp = df.iloc[0:3, :]\n",
        "df_mean = df_temp.mean()\n",
        "df_std = df_temp.std()\n",
        "df[\"x1_norm\"]=(df[\"x1\"]-df_mean[\"x1\"])/df_std[\"x1\"]\n",
        "df[\"x2_norm\"]=(df[\"x2\"]-df_mean[\"x2\"])/df_std[\"x2\"]\n",
        "df[\"x3_norm\"]=(df[\"x3\"]-df_mean[\"x3\"])/df_std[\"x3\"]\n",
        "df[\"x4_norm\"]=(df[\"x4\"]-df_mean[\"x4\"])/df_std[\"x4\"]"
      ],
      "execution_count": 0,
      "outputs": []
    },
    {
      "cell_type": "code",
      "metadata": {
        "id": "v-Gh6VhBHCKm",
        "colab_type": "code",
        "outputId": "5e0ce7aa-9730-4a5e-f30e-0224ae741ea1",
        "colab": {
          "base_uri": "https://localhost:8080/",
          "height": 419
        }
      },
      "source": [
        "df"
      ],
      "execution_count": 0,
      "outputs": [
        {
          "output_type": "execute_result",
          "data": {
            "text/html": [
              "<div>\n",
              "<style scoped>\n",
              "    .dataframe tbody tr th:only-of-type {\n",
              "        vertical-align: middle;\n",
              "    }\n",
              "\n",
              "    .dataframe tbody tr th {\n",
              "        vertical-align: top;\n",
              "    }\n",
              "\n",
              "    .dataframe thead th {\n",
              "        text-align: right;\n",
              "    }\n",
              "</style>\n",
              "<table border=\"1\" class=\"dataframe\">\n",
              "  <thead>\n",
              "    <tr style=\"text-align: right;\">\n",
              "      <th></th>\n",
              "      <th>x1</th>\n",
              "      <th>x2</th>\n",
              "      <th>x3</th>\n",
              "      <th>x4</th>\n",
              "      <th>x1_norm</th>\n",
              "      <th>x2_norm</th>\n",
              "      <th>x3_norm</th>\n",
              "      <th>x4_norm</th>\n",
              "    </tr>\n",
              "  </thead>\n",
              "  <tbody>\n",
              "    <tr>\n",
              "      <th>0</th>\n",
              "      <td>0.291667</td>\n",
              "      <td>1.083643</td>\n",
              "      <td>0.435907</td>\n",
              "      <td>3.715348</td>\n",
              "      <td>-0.437047</td>\n",
              "      <td>1.082649</td>\n",
              "      <td>0.802088</td>\n",
              "      <td>1.068879</td>\n",
              "    </tr>\n",
              "    <tr>\n",
              "      <th>1</th>\n",
              "      <td>0.291414</td>\n",
              "      <td>0.998322</td>\n",
              "      <td>0.432466</td>\n",
              "      <td>3.425789</td>\n",
              "      <td>-0.707080</td>\n",
              "      <td>-0.193612</td>\n",
              "      <td>0.318324</td>\n",
              "      <td>-0.156122</td>\n",
              "    </tr>\n",
              "    <tr>\n",
              "      <th>2</th>\n",
              "      <td>0.293147</td>\n",
              "      <td>0.951831</td>\n",
              "      <td>0.422229</td>\n",
              "      <td>3.246939</td>\n",
              "      <td>1.144127</td>\n",
              "      <td>-0.889037</td>\n",
              "      <td>-1.120412</td>\n",
              "      <td>-0.912756</td>\n",
              "    </tr>\n",
              "    <tr>\n",
              "      <th>3</th>\n",
              "      <td>0.301421</td>\n",
              "      <td>0.953835</td>\n",
              "      <td>0.439747</td>\n",
              "      <td>3.164456</td>\n",
              "      <td>9.980405</td>\n",
              "      <td>-0.859071</td>\n",
              "      <td>1.341818</td>\n",
              "      <td>-1.261708</td>\n",
              "    </tr>\n",
              "    <tr>\n",
              "      <th>4</th>\n",
              "      <td>0.319744</td>\n",
              "      <td>0.936145</td>\n",
              "      <td>0.486723</td>\n",
              "      <td>2.927791</td>\n",
              "      <td>29.548271</td>\n",
              "      <td>-1.123684</td>\n",
              "      <td>7.944414</td>\n",
              "      <td>-2.262934</td>\n",
              "    </tr>\n",
              "    <tr>\n",
              "      <th>...</th>\n",
              "      <td>...</td>\n",
              "      <td>...</td>\n",
              "      <td>...</td>\n",
              "      <td>...</td>\n",
              "      <td>...</td>\n",
              "      <td>...</td>\n",
              "      <td>...</td>\n",
              "      <td>...</td>\n",
              "    </tr>\n",
              "    <tr>\n",
              "      <th>94</th>\n",
              "      <td>0.271163</td>\n",
              "      <td>0.915597</td>\n",
              "      <td>0.362746</td>\n",
              "      <td>3.376556</td>\n",
              "      <td>-22.333716</td>\n",
              "      <td>-1.431036</td>\n",
              "      <td>-9.481121</td>\n",
              "      <td>-0.364404</td>\n",
              "    </tr>\n",
              "    <tr>\n",
              "      <th>95</th>\n",
              "      <td>0.340021</td>\n",
              "      <td>0.982194</td>\n",
              "      <td>0.469012</td>\n",
              "      <td>2.888626</td>\n",
              "      <td>51.203017</td>\n",
              "      <td>-0.434856</td>\n",
              "      <td>5.455065</td>\n",
              "      <td>-2.428627</td>\n",
              "    </tr>\n",
              "    <tr>\n",
              "      <th>96</th>\n",
              "      <td>0.300000</td>\n",
              "      <td>0.973282</td>\n",
              "      <td>0.444708</td>\n",
              "      <td>3.244273</td>\n",
              "      <td>8.462478</td>\n",
              "      <td>-0.568174</td>\n",
              "      <td>2.039089</td>\n",
              "      <td>-0.924038</td>\n",
              "    </tr>\n",
              "    <tr>\n",
              "      <th>97</th>\n",
              "      <td>0.300000</td>\n",
              "      <td>0.939200</td>\n",
              "      <td>0.444708</td>\n",
              "      <td>3.130666</td>\n",
              "      <td>8.462478</td>\n",
              "      <td>-1.077985</td>\n",
              "      <td>2.039089</td>\n",
              "      <td>-1.404660</td>\n",
              "    </tr>\n",
              "    <tr>\n",
              "      <th>98</th>\n",
              "      <td>0.376154</td>\n",
              "      <td>1.030709</td>\n",
              "      <td>0.556549</td>\n",
              "      <td>2.740126</td>\n",
              "      <td>89.790452</td>\n",
              "      <td>0.290839</td>\n",
              "      <td>17.758890</td>\n",
              "      <td>-3.056865</td>\n",
              "    </tr>\n",
              "  </tbody>\n",
              "</table>\n",
              "<p>99 rows × 8 columns</p>\n",
              "</div>"
            ],
            "text/plain": [
              "          x1        x2        x3  ...   x2_norm    x3_norm   x4_norm\n",
              "0   0.291667  1.083643  0.435907  ...  1.082649   0.802088  1.068879\n",
              "1   0.291414  0.998322  0.432466  ... -0.193612   0.318324 -0.156122\n",
              "2   0.293147  0.951831  0.422229  ... -0.889037  -1.120412 -0.912756\n",
              "3   0.301421  0.953835  0.439747  ... -0.859071   1.341818 -1.261708\n",
              "4   0.319744  0.936145  0.486723  ... -1.123684   7.944414 -2.262934\n",
              "..       ...       ...       ...  ...       ...        ...       ...\n",
              "94  0.271163  0.915597  0.362746  ... -1.431036  -9.481121 -0.364404\n",
              "95  0.340021  0.982194  0.469012  ... -0.434856   5.455065 -2.428627\n",
              "96  0.300000  0.973282  0.444708  ... -0.568174   2.039089 -0.924038\n",
              "97  0.300000  0.939200  0.444708  ... -1.077985   2.039089 -1.404660\n",
              "98  0.376154  1.030709  0.556549  ...  0.290839  17.758890 -3.056865\n",
              "\n",
              "[99 rows x 8 columns]"
            ]
          },
          "metadata": {
            "tags": []
          },
          "execution_count": 114
        }
      ]
    },
    {
      "cell_type": "code",
      "metadata": {
        "id": "lzWABLjNHFi3",
        "colab_type": "code",
        "colab": {}
      },
      "source": [
        "df = df.drop([\"x1\",\"x2\",\"x3\",\"x4\"],axis=1)"
      ],
      "execution_count": 0,
      "outputs": []
    },
    {
      "cell_type": "code",
      "metadata": {
        "id": "MJXt3OTwHUyU",
        "colab_type": "code",
        "outputId": "9d2b0066-991b-4cbc-fa66-f791523829ae",
        "colab": {
          "base_uri": "https://localhost:8080/",
          "height": 419
        }
      },
      "source": [
        "df"
      ],
      "execution_count": 0,
      "outputs": [
        {
          "output_type": "execute_result",
          "data": {
            "text/html": [
              "<div>\n",
              "<style scoped>\n",
              "    .dataframe tbody tr th:only-of-type {\n",
              "        vertical-align: middle;\n",
              "    }\n",
              "\n",
              "    .dataframe tbody tr th {\n",
              "        vertical-align: top;\n",
              "    }\n",
              "\n",
              "    .dataframe thead th {\n",
              "        text-align: right;\n",
              "    }\n",
              "</style>\n",
              "<table border=\"1\" class=\"dataframe\">\n",
              "  <thead>\n",
              "    <tr style=\"text-align: right;\">\n",
              "      <th></th>\n",
              "      <th>x1_norm</th>\n",
              "      <th>x2_norm</th>\n",
              "      <th>x3_norm</th>\n",
              "      <th>x4_norm</th>\n",
              "    </tr>\n",
              "  </thead>\n",
              "  <tbody>\n",
              "    <tr>\n",
              "      <th>0</th>\n",
              "      <td>-0.437047</td>\n",
              "      <td>1.082649</td>\n",
              "      <td>0.802088</td>\n",
              "      <td>1.068879</td>\n",
              "    </tr>\n",
              "    <tr>\n",
              "      <th>1</th>\n",
              "      <td>-0.707080</td>\n",
              "      <td>-0.193612</td>\n",
              "      <td>0.318324</td>\n",
              "      <td>-0.156122</td>\n",
              "    </tr>\n",
              "    <tr>\n",
              "      <th>2</th>\n",
              "      <td>1.144127</td>\n",
              "      <td>-0.889037</td>\n",
              "      <td>-1.120412</td>\n",
              "      <td>-0.912756</td>\n",
              "    </tr>\n",
              "    <tr>\n",
              "      <th>3</th>\n",
              "      <td>9.980405</td>\n",
              "      <td>-0.859071</td>\n",
              "      <td>1.341818</td>\n",
              "      <td>-1.261708</td>\n",
              "    </tr>\n",
              "    <tr>\n",
              "      <th>4</th>\n",
              "      <td>29.548271</td>\n",
              "      <td>-1.123684</td>\n",
              "      <td>7.944414</td>\n",
              "      <td>-2.262934</td>\n",
              "    </tr>\n",
              "    <tr>\n",
              "      <th>...</th>\n",
              "      <td>...</td>\n",
              "      <td>...</td>\n",
              "      <td>...</td>\n",
              "      <td>...</td>\n",
              "    </tr>\n",
              "    <tr>\n",
              "      <th>94</th>\n",
              "      <td>-22.333716</td>\n",
              "      <td>-1.431036</td>\n",
              "      <td>-9.481121</td>\n",
              "      <td>-0.364404</td>\n",
              "    </tr>\n",
              "    <tr>\n",
              "      <th>95</th>\n",
              "      <td>51.203017</td>\n",
              "      <td>-0.434856</td>\n",
              "      <td>5.455065</td>\n",
              "      <td>-2.428627</td>\n",
              "    </tr>\n",
              "    <tr>\n",
              "      <th>96</th>\n",
              "      <td>8.462478</td>\n",
              "      <td>-0.568174</td>\n",
              "      <td>2.039089</td>\n",
              "      <td>-0.924038</td>\n",
              "    </tr>\n",
              "    <tr>\n",
              "      <th>97</th>\n",
              "      <td>8.462478</td>\n",
              "      <td>-1.077985</td>\n",
              "      <td>2.039089</td>\n",
              "      <td>-1.404660</td>\n",
              "    </tr>\n",
              "    <tr>\n",
              "      <th>98</th>\n",
              "      <td>89.790452</td>\n",
              "      <td>0.290839</td>\n",
              "      <td>17.758890</td>\n",
              "      <td>-3.056865</td>\n",
              "    </tr>\n",
              "  </tbody>\n",
              "</table>\n",
              "<p>99 rows × 4 columns</p>\n",
              "</div>"
            ],
            "text/plain": [
              "      x1_norm   x2_norm    x3_norm   x4_norm\n",
              "0   -0.437047  1.082649   0.802088  1.068879\n",
              "1   -0.707080 -0.193612   0.318324 -0.156122\n",
              "2    1.144127 -0.889037  -1.120412 -0.912756\n",
              "3    9.980405 -0.859071   1.341818 -1.261708\n",
              "4   29.548271 -1.123684   7.944414 -2.262934\n",
              "..        ...       ...        ...       ...\n",
              "94 -22.333716 -1.431036  -9.481121 -0.364404\n",
              "95  51.203017 -0.434856   5.455065 -2.428627\n",
              "96   8.462478 -0.568174   2.039089 -0.924038\n",
              "97   8.462478 -1.077985   2.039089 -1.404660\n",
              "98  89.790452  0.290839  17.758890 -3.056865\n",
              "\n",
              "[99 rows x 4 columns]"
            ]
          },
          "metadata": {
            "tags": []
          },
          "execution_count": 116
        }
      ]
    },
    {
      "cell_type": "code",
      "metadata": {
        "id": "iD15M1QbHVVS",
        "colab_type": "code",
        "colab": {}
      },
      "source": [
        "df = np.expand_dims(df, axis=2)\n",
        "tp = model.predict_classes(df)"
      ],
      "execution_count": 0,
      "outputs": []
    },
    {
      "cell_type": "code",
      "metadata": {
        "id": "BWCd1GdWITkK",
        "colab_type": "code",
        "colab": {}
      },
      "source": [
        "tp = np.array(tp)"
      ],
      "execution_count": 0,
      "outputs": []
    },
    {
      "cell_type": "code",
      "metadata": {
        "id": "cuMmguW1IUNd",
        "colab_type": "code",
        "colab": {}
      },
      "source": [
        "val = []\n",
        "for i in range(len(tp)): val.append(tp[i][0])"
      ],
      "execution_count": 0,
      "outputs": []
    },
    {
      "cell_type": "markdown",
      "metadata": {
        "id": "6WqupK6X4jYt",
        "colab_type": "text"
      },
      "source": [
        "# Output graph"
      ]
    },
    {
      "cell_type": "code",
      "metadata": {
        "id": "aRF-Qw-UIjzW",
        "colab_type": "code",
        "outputId": "2444d834-20d7-4e4a-89d4-3872d08fe3db",
        "colab": {
          "base_uri": "https://localhost:8080/",
          "height": 312
        }
      },
      "source": [
        "x = np.arange(0,(len(val)*0.6)-1,0.6)\n",
        "plt.plot(x,val[:len(val)-1])\n",
        "plt.xlabel('time (in seconds)')\n",
        "plt.ylabel('states (state = 1 means the person feels dizzy)')\n",
        "plt.title('label vs time')"
      ],
      "execution_count": 0,
      "outputs": [
        {
          "output_type": "execute_result",
          "data": {
            "text/plain": [
              "Text(0.5, 1.0, 'label vs time')"
            ]
          },
          "metadata": {
            "tags": []
          },
          "execution_count": 120
        },
        {
          "output_type": "display_data",
          "data": {
            "image/png": "[encoded data removed]",
            "text/plain": [
              "<Figure size 432x288 with 1 Axes>"
            ]
          },
          "metadata": {
            "tags": []
          }
        }
      ]
    },
    {
      "cell_type": "markdown",
      "metadata": {
        "id": "8J9W2KqV4tSJ",
        "colab_type": "text"
      },
      "source": [
        "# Generating JSON file"
      ]
    },
    {
      "cell_type": "code",
      "metadata": {
        "id": "tuGH_aGKnpp0",
        "colab_type": "code",
        "colab": {}
      },
      "source": [
        "fin=[]\n",
        "for i in range(len(val)):\n",
        "  fin.append([str(i*0.6),str(val[i])])"
      ],
      "execution_count": 0,
      "outputs": []
    },
    {
      "cell_type": "code",
      "metadata": {
        "id": "amBMM2Z0zSK7",
        "colab_type": "code",
        "colab": {}
      },
      "source": [
        "dt = {}\n",
        "dt['dizzy']=fin"
      ],
      "execution_count": 0,
      "outputs": []
    },
    {
      "cell_type": "code",
      "metadata": {
        "id": "5nlWdBo5XnoU",
        "colab_type": "code",
        "colab": {}
      },
      "source": [
        "import json"
      ],
      "execution_count": 0,
      "outputs": []
    },
    {
      "cell_type": "code",
      "metadata": {
        "id": "k9SO7CUny9w5",
        "colab_type": "code",
        "colab": {}
      },
      "source": [
        "with open('test5.json', 'w') as f:\n",
        "    json.dump(dt, f)"
      ],
      "execution_count": 0,
      "outputs": []
    },
    {
      "cell_type": "markdown",
      "metadata": {
        "id": "WDZWm98nY7rZ",
        "colab_type": "text"
      },
      "source": [
        "## Saving model\n",
        "\n"
      ]
    },
    {
      "cell_type": "code",
      "metadata": {
        "id": "5U_KbV5k5dg8",
        "colab_type": "code",
        "colab": {}
      },
      "source": [
        "model.save_weights(\"model_weights.h5\")"
      ],
      "execution_count": 0,
      "outputs": []
    },
    {
      "cell_type": "code",
      "metadata": {
        "id": "oz4rW9XEYoUc",
        "colab_type": "code",
        "colab": {}
      },
      "source": [
        "model.save('my_model.h5')"
      ],
      "execution_count": 0,
      "outputs": []
    },
    {
      "cell_type": "code",
      "metadata": {
        "id": "scf-4zpEZawG",
        "colab_type": "code",
        "colab": {}
      },
      "source": [
        ""
      ],
      "execution_count": 0,
      "outputs": []
    }
  ]
}