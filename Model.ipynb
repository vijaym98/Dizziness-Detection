{
  "nbformat": 4,
  "nbformat_minor": 0,
  "metadata": {
    "colab": {
      "name": "Model_and_test.ipynb",
      "provenance": []
    },
    "kernelspec": {
      "name": "python3",
      "display_name": "Python 3"
    }
  },
  "cells": [
    {
      "cell_type": "code",
      "metadata": {
        "id": "LMyvL0ZOXUyR",
        "colab_type": "code",
        "colab": {}
      },
      "source": [
        "import pandas as pd\n",
        "import numpy as np\n",
        "from sklearn.model_selection import train_test_split"
      ],
      "execution_count": 0,
      "outputs": []
    },
    {
      "cell_type": "code",
      "metadata": {
        "id": "o0zQ0GITXndF",
        "colab_type": "code",
        "colab": {}
      },
      "source": [
        "df = pd.read_csv('/content/dataset1.csv')\n",
        "df = df.drop([\"Unnamed: 0\"], axis=1)"
      ],
      "execution_count": 0,
      "outputs": []
    },
    {
      "cell_type": "code",
      "metadata": {
        "id": "zNgbd8mPZMfB",
        "colab_type": "code",
        "colab": {}
      },
      "source": [
        "X = df.drop([\"y\"], axis = 1)\n",
        "y = df[\"y\"]"
      ],
      "execution_count": 0,
      "outputs": []
    },
    {
      "cell_type": "code",
      "metadata": {
        "id": "_5jWEOAecS5G",
        "colab_type": "code",
        "colab": {}
      },
      "source": [
        "for i in range(len(y)):\n",
        "  if y[i] == 10: y[i]=1"
      ],
      "execution_count": 0,
      "outputs": []
    },
    {
      "cell_type": "code",
      "metadata": {
        "id": "AV8yE3LWcwM8",
        "colab_type": "code",
        "outputId": "900dcdeb-b441-48b7-9e43-d5a98198fe89",
        "colab": {
          "base_uri": "https://localhost:8080/",
          "height": 221
        }
      },
      "source": [
        "y"
      ],
      "execution_count": 5,
      "outputs": [
        {
          "output_type": "execute_result",
          "data": {
            "text/plain": [
              "0       0.0\n",
              "1       0.0\n",
              "2       0.0\n",
              "3       0.0\n",
              "4       0.0\n",
              "       ... \n",
              "5711    1.0\n",
              "5712    1.0\n",
              "5713    1.0\n",
              "5714    1.0\n",
              "5715    1.0\n",
              "Name: y, Length: 5716, dtype: float64"
            ]
          },
          "metadata": {
            "tags": []
          },
          "execution_count": 5
        }
      ]
    },
    {
      "cell_type": "code",
      "metadata": {
        "id": "s3o-DUOyc0cz",
        "colab_type": "code",
        "colab": {}
      },
      "source": [
        "X_train, X_a, y_train, y_a = train_test_split(X,y,test_size = 2/12)"
      ],
      "execution_count": 0,
      "outputs": []
    },
    {
      "cell_type": "code",
      "metadata": {
        "id": "XghemU7WxcJA",
        "colab_type": "code",
        "colab": {}
      },
      "source": [
        "X_b,X_test,y_b,y_test = train_test_split(X_a,y_a,test_size = 1/2)"
      ],
      "execution_count": 0,
      "outputs": []
    },
    {
      "cell_type": "code",
      "metadata": {
        "id": "AcXtnVwIayhn",
        "colab_type": "code",
        "colab": {}
      },
      "source": [
        "X_train_shaped = np.expand_dims(X_train, axis=2)\n",
        "X_a = np.expand_dims(X_a, axis=2)\n",
        "X_test_shaped = np.expand_dims(X_test, axis=2)"
      ],
      "execution_count": 0,
      "outputs": []
    },
    {
      "cell_type": "code",
      "metadata": {
        "id": "5JRD_mGuLts9",
        "colab_type": "code",
        "outputId": "6b15af84-f796-4345-ec9f-29bc9af4bf74",
        "colab": {
          "base_uri": "https://localhost:8080/",
          "height": 34
        }
      },
      "source": [
        "X_a.shape"
      ],
      "execution_count": 296,
      "outputs": [
        {
          "output_type": "execute_result",
          "data": {
            "text/plain": [
              "(953, 4, 1)"
            ]
          },
          "metadata": {
            "tags": []
          },
          "execution_count": 296
        }
      ]
    },
    {
      "cell_type": "markdown",
      "metadata": {
        "id": "1wCNpxSn4G9O",
        "colab_type": "text"
      },
      "source": [
        "# CNN Model\n"
      ]
    },
    {
      "cell_type": "code",
      "metadata": {
        "id": "rmstcRI_ZkiU",
        "colab_type": "code",
        "colab": {}
      },
      "source": [
        "from tensorflow.keras.models import Sequential\n",
        "from tensorflow.keras.layers import Dense, Flatten\n",
        "from tensorflow.keras.layers import Conv1D\n",
        "from tensorflow.keras.optimizers import Adam, RMSprop\n",
        "from tensorflow.keras.layers import Dropout"
      ],
      "execution_count": 0,
      "outputs": []
    },
    {
      "cell_type": "code",
      "metadata": {
        "id": "agxywlDhZl6w",
        "colab_type": "code",
        "colab": {}
      },
      "source": [
        "model = Sequential()\n",
        "\n",
        "model.add(Conv1D(64, kernel_size = 3, activation = 'relu', input_shape = (4,1)))\n",
        "model.add(Flatten())\n",
        "model.add(Dense(64, activation='sigmoid'))\n",
        "model.add(Dense(16, activation = 'relu'))\n",
        "model.add(Dropout(0.2))\n",
        "model.add(Dense(1,activation = 'sigmoid'))"
      ],
      "execution_count": 0,
      "outputs": []
    },
    {
      "cell_type": "code",
      "metadata": {
        "id": "StusOevBaoJi",
        "colab_type": "code",
        "colab": {}
      },
      "source": [
        "optimizer = Adam(lr=0.00001)\n",
        "model.compile(loss='binary_crossentropy', optimizer=optimizer, metrics=['accuracy'])"
      ],
      "execution_count": 0,
      "outputs": []
    },
    {
      "cell_type": "code",
      "metadata": {
        "id": "3N_1vx3HasvJ",
        "colab_type": "code",
        "outputId": "b9da1ffc-5213-43c7-f2a8-2a16c16628a7",
        "colab": {
          "base_uri": "https://localhost:8080/",
          "height": 1000
        }
      },
      "source": [
        "\n",
        "\n",
        "\n",
        "\n",
        "history = model.fit(X_train_shaped, y_train, validation_data = (X_a,y_a), epochs = 200, batch_size= 32)"
      ],
      "execution_count": 300,
      "outputs": [
        {
          "output_type": "stream",
          "text": [
            "Epoch 1/200\n",
            "149/149 [==============================] - 0s 3ms/step - loss: 0.7271 - accuracy: 0.4825 - val_loss: 0.6922 - val_accuracy: 0.5110\n",
            "Epoch 2/200\n",
            "149/149 [==============================] - 0s 2ms/step - loss: 0.7179 - accuracy: 0.4930 - val_loss: 0.6853 - val_accuracy: 0.5310\n",
            "Epoch 3/200\n",
            "149/149 [==============================] - 0s 2ms/step - loss: 0.7026 - accuracy: 0.5163 - val_loss: 0.6794 - val_accuracy: 0.5446\n",
            "Epoch 4/200\n",
            "149/149 [==============================] - 0s 2ms/step - loss: 0.6949 - accuracy: 0.5345 - val_loss: 0.6739 - val_accuracy: 0.5918\n",
            "Epoch 5/200\n",
            "149/149 [==============================] - 0s 2ms/step - loss: 0.6937 - accuracy: 0.5463 - val_loss: 0.6685 - val_accuracy: 0.6275\n",
            "Epoch 6/200\n",
            "149/149 [==============================] - 0s 2ms/step - loss: 0.6848 - accuracy: 0.5511 - val_loss: 0.6634 - val_accuracy: 0.6579\n",
            "Epoch 7/200\n",
            "149/149 [==============================] - 0s 2ms/step - loss: 0.6788 - accuracy: 0.5660 - val_loss: 0.6587 - val_accuracy: 0.6810\n",
            "Epoch 8/200\n",
            "149/149 [==============================] - 0s 2ms/step - loss: 0.6750 - accuracy: 0.5717 - val_loss: 0.6543 - val_accuracy: 0.6821\n",
            "Epoch 9/200\n",
            "149/149 [==============================] - 0s 2ms/step - loss: 0.6664 - accuracy: 0.5835 - val_loss: 0.6500 - val_accuracy: 0.6884\n",
            "Epoch 10/200\n",
            "149/149 [==============================] - 0s 2ms/step - loss: 0.6625 - accuracy: 0.5948 - val_loss: 0.6460 - val_accuracy: 0.6936\n",
            "Epoch 11/200\n",
            "149/149 [==============================] - 0s 2ms/step - loss: 0.6573 - accuracy: 0.6091 - val_loss: 0.6423 - val_accuracy: 0.6988\n",
            "Epoch 12/200\n",
            "149/149 [==============================] - 0s 2ms/step - loss: 0.6485 - accuracy: 0.6198 - val_loss: 0.6389 - val_accuracy: 0.7020\n",
            "Epoch 13/200\n",
            "149/149 [==============================] - 0s 2ms/step - loss: 0.6482 - accuracy: 0.6280 - val_loss: 0.6357 - val_accuracy: 0.7009\n",
            "Epoch 14/200\n",
            "149/149 [==============================] - 0s 2ms/step - loss: 0.6442 - accuracy: 0.6330 - val_loss: 0.6326 - val_accuracy: 0.6988\n",
            "Epoch 15/200\n",
            "149/149 [==============================] - 0s 2ms/step - loss: 0.6439 - accuracy: 0.6353 - val_loss: 0.6299 - val_accuracy: 0.6967\n",
            "Epoch 16/200\n",
            "149/149 [==============================] - 0s 2ms/step - loss: 0.6396 - accuracy: 0.6338 - val_loss: 0.6274 - val_accuracy: 0.6978\n",
            "Epoch 17/200\n",
            "149/149 [==============================] - 0s 2ms/step - loss: 0.6387 - accuracy: 0.6422 - val_loss: 0.6250 - val_accuracy: 0.6988\n",
            "Epoch 18/200\n",
            "149/149 [==============================] - 0s 2ms/step - loss: 0.6341 - accuracy: 0.6454 - val_loss: 0.6229 - val_accuracy: 0.7020\n",
            "Epoch 19/200\n",
            "149/149 [==============================] - 0s 2ms/step - loss: 0.6338 - accuracy: 0.6490 - val_loss: 0.6208 - val_accuracy: 0.7041\n",
            "Epoch 20/200\n",
            "149/149 [==============================] - 0s 2ms/step - loss: 0.6331 - accuracy: 0.6540 - val_loss: 0.6189 - val_accuracy: 0.7030\n",
            "Epoch 21/200\n",
            "149/149 [==============================] - 0s 2ms/step - loss: 0.6306 - accuracy: 0.6490 - val_loss: 0.6171 - val_accuracy: 0.7030\n",
            "Epoch 22/200\n",
            "149/149 [==============================] - 0s 2ms/step - loss: 0.6289 - accuracy: 0.6586 - val_loss: 0.6153 - val_accuracy: 0.7030\n",
            "Epoch 23/200\n",
            "149/149 [==============================] - 0s 2ms/step - loss: 0.6245 - accuracy: 0.6538 - val_loss: 0.6137 - val_accuracy: 0.7020\n",
            "Epoch 24/200\n",
            "149/149 [==============================] - 0s 2ms/step - loss: 0.6224 - accuracy: 0.6679 - val_loss: 0.6121 - val_accuracy: 0.7041\n",
            "Epoch 25/200\n",
            "149/149 [==============================] - 0s 2ms/step - loss: 0.6166 - accuracy: 0.6632 - val_loss: 0.6104 - val_accuracy: 0.7051\n",
            "Epoch 26/200\n",
            "149/149 [==============================] - 0s 2ms/step - loss: 0.6215 - accuracy: 0.6555 - val_loss: 0.6089 - val_accuracy: 0.7041\n",
            "Epoch 27/200\n",
            "149/149 [==============================] - 0s 2ms/step - loss: 0.6159 - accuracy: 0.6683 - val_loss: 0.6074 - val_accuracy: 0.7041\n",
            "Epoch 28/200\n",
            "149/149 [==============================] - 0s 2ms/step - loss: 0.6178 - accuracy: 0.6660 - val_loss: 0.6061 - val_accuracy: 0.7030\n",
            "Epoch 29/200\n",
            "149/149 [==============================] - 0s 2ms/step - loss: 0.6168 - accuracy: 0.6624 - val_loss: 0.6048 - val_accuracy: 0.7030\n",
            "Epoch 30/200\n",
            "149/149 [==============================] - 0s 2ms/step - loss: 0.6124 - accuracy: 0.6691 - val_loss: 0.6035 - val_accuracy: 0.7083\n",
            "Epoch 31/200\n",
            "149/149 [==============================] - 0s 2ms/step - loss: 0.6124 - accuracy: 0.6706 - val_loss: 0.6023 - val_accuracy: 0.7030\n",
            "Epoch 32/200\n",
            "149/149 [==============================] - 0s 2ms/step - loss: 0.6107 - accuracy: 0.6679 - val_loss: 0.6012 - val_accuracy: 0.7041\n",
            "Epoch 33/200\n",
            "149/149 [==============================] - 0s 2ms/step - loss: 0.6049 - accuracy: 0.6809 - val_loss: 0.6000 - val_accuracy: 0.7062\n",
            "Epoch 34/200\n",
            "149/149 [==============================] - 0s 2ms/step - loss: 0.6082 - accuracy: 0.6744 - val_loss: 0.5989 - val_accuracy: 0.7083\n",
            "Epoch 35/200\n",
            "149/149 [==============================] - 0s 2ms/step - loss: 0.6077 - accuracy: 0.6658 - val_loss: 0.5978 - val_accuracy: 0.7083\n",
            "Epoch 36/200\n",
            "149/149 [==============================] - 0s 2ms/step - loss: 0.6054 - accuracy: 0.6805 - val_loss: 0.5968 - val_accuracy: 0.7125\n",
            "Epoch 37/200\n",
            "149/149 [==============================] - 0s 2ms/step - loss: 0.6046 - accuracy: 0.6790 - val_loss: 0.5958 - val_accuracy: 0.7125\n",
            "Epoch 38/200\n",
            "149/149 [==============================] - 0s 2ms/step - loss: 0.6007 - accuracy: 0.6832 - val_loss: 0.5947 - val_accuracy: 0.7125\n",
            "Epoch 39/200\n",
            "149/149 [==============================] - 0s 2ms/step - loss: 0.6014 - accuracy: 0.6731 - val_loss: 0.5937 - val_accuracy: 0.7114\n",
            "Epoch 40/200\n",
            "149/149 [==============================] - 0s 2ms/step - loss: 0.6009 - accuracy: 0.6800 - val_loss: 0.5927 - val_accuracy: 0.7072\n",
            "Epoch 41/200\n",
            "149/149 [==============================] - 0s 2ms/step - loss: 0.5987 - accuracy: 0.6798 - val_loss: 0.5918 - val_accuracy: 0.7083\n",
            "Epoch 42/200\n",
            "149/149 [==============================] - 0s 2ms/step - loss: 0.5989 - accuracy: 0.6819 - val_loss: 0.5909 - val_accuracy: 0.7083\n",
            "Epoch 43/200\n",
            "149/149 [==============================] - 0s 3ms/step - loss: 0.5948 - accuracy: 0.6912 - val_loss: 0.5899 - val_accuracy: 0.7104\n",
            "Epoch 44/200\n",
            "149/149 [==============================] - 0s 2ms/step - loss: 0.5969 - accuracy: 0.6870 - val_loss: 0.5890 - val_accuracy: 0.7083\n",
            "Epoch 45/200\n",
            "149/149 [==============================] - 0s 2ms/step - loss: 0.5947 - accuracy: 0.6857 - val_loss: 0.5881 - val_accuracy: 0.7093\n",
            "Epoch 46/200\n",
            "149/149 [==============================] - 0s 2ms/step - loss: 0.5924 - accuracy: 0.6882 - val_loss: 0.5873 - val_accuracy: 0.7093\n",
            "Epoch 47/200\n",
            "149/149 [==============================] - 0s 2ms/step - loss: 0.5921 - accuracy: 0.6874 - val_loss: 0.5864 - val_accuracy: 0.7093\n",
            "Epoch 48/200\n",
            "149/149 [==============================] - 0s 2ms/step - loss: 0.5932 - accuracy: 0.6897 - val_loss: 0.5856 - val_accuracy: 0.7104\n",
            "Epoch 49/200\n",
            "149/149 [==============================] - 0s 2ms/step - loss: 0.5934 - accuracy: 0.6878 - val_loss: 0.5849 - val_accuracy: 0.7146\n",
            "Epoch 50/200\n",
            "149/149 [==============================] - 0s 2ms/step - loss: 0.5929 - accuracy: 0.6912 - val_loss: 0.5841 - val_accuracy: 0.7093\n",
            "Epoch 51/200\n",
            "149/149 [==============================] - 0s 2ms/step - loss: 0.5891 - accuracy: 0.6935 - val_loss: 0.5834 - val_accuracy: 0.7104\n",
            "Epoch 52/200\n",
            "149/149 [==============================] - 0s 2ms/step - loss: 0.5871 - accuracy: 0.6958 - val_loss: 0.5826 - val_accuracy: 0.7093\n",
            "Epoch 53/200\n",
            "149/149 [==============================] - 0s 2ms/step - loss: 0.5882 - accuracy: 0.6897 - val_loss: 0.5819 - val_accuracy: 0.7114\n",
            "Epoch 54/200\n",
            "149/149 [==============================] - 0s 2ms/step - loss: 0.5891 - accuracy: 0.6926 - val_loss: 0.5812 - val_accuracy: 0.7114\n",
            "Epoch 55/200\n",
            "149/149 [==============================] - 0s 2ms/step - loss: 0.5892 - accuracy: 0.6952 - val_loss: 0.5806 - val_accuracy: 0.7114\n",
            "Epoch 56/200\n",
            "149/149 [==============================] - 0s 2ms/step - loss: 0.5885 - accuracy: 0.6897 - val_loss: 0.5800 - val_accuracy: 0.7125\n",
            "Epoch 57/200\n",
            "149/149 [==============================] - 0s 2ms/step - loss: 0.5844 - accuracy: 0.6993 - val_loss: 0.5792 - val_accuracy: 0.7125\n",
            "Epoch 58/200\n",
            "149/149 [==============================] - 0s 2ms/step - loss: 0.5867 - accuracy: 0.6922 - val_loss: 0.5786 - val_accuracy: 0.7135\n",
            "Epoch 59/200\n",
            "149/149 [==============================] - 0s 2ms/step - loss: 0.5858 - accuracy: 0.6874 - val_loss: 0.5780 - val_accuracy: 0.7135\n",
            "Epoch 60/200\n",
            "149/149 [==============================] - 0s 2ms/step - loss: 0.5805 - accuracy: 0.7042 - val_loss: 0.5773 - val_accuracy: 0.7135\n",
            "Epoch 61/200\n",
            "149/149 [==============================] - 0s 2ms/step - loss: 0.5839 - accuracy: 0.6907 - val_loss: 0.5768 - val_accuracy: 0.7135\n",
            "Epoch 62/200\n",
            "149/149 [==============================] - 0s 2ms/step - loss: 0.5818 - accuracy: 0.6952 - val_loss: 0.5762 - val_accuracy: 0.7135\n",
            "Epoch 63/200\n",
            "149/149 [==============================] - 0s 2ms/step - loss: 0.5814 - accuracy: 0.6981 - val_loss: 0.5757 - val_accuracy: 0.7156\n",
            "Epoch 64/200\n",
            "149/149 [==============================] - 0s 2ms/step - loss: 0.5799 - accuracy: 0.7061 - val_loss: 0.5753 - val_accuracy: 0.7156\n",
            "Epoch 65/200\n",
            "149/149 [==============================] - 0s 2ms/step - loss: 0.5789 - accuracy: 0.7004 - val_loss: 0.5747 - val_accuracy: 0.7146\n",
            "Epoch 66/200\n",
            "149/149 [==============================] - 0s 2ms/step - loss: 0.5782 - accuracy: 0.7014 - val_loss: 0.5742 - val_accuracy: 0.7156\n",
            "Epoch 67/200\n",
            "149/149 [==============================] - 0s 2ms/step - loss: 0.5764 - accuracy: 0.7063 - val_loss: 0.5735 - val_accuracy: 0.7156\n",
            "Epoch 68/200\n",
            "149/149 [==============================] - 0s 2ms/step - loss: 0.5799 - accuracy: 0.7025 - val_loss: 0.5731 - val_accuracy: 0.7156\n",
            "Epoch 69/200\n",
            "149/149 [==============================] - 0s 2ms/step - loss: 0.5765 - accuracy: 0.7000 - val_loss: 0.5726 - val_accuracy: 0.7177\n",
            "Epoch 70/200\n",
            "149/149 [==============================] - 0s 2ms/step - loss: 0.5770 - accuracy: 0.6954 - val_loss: 0.5722 - val_accuracy: 0.7167\n",
            "Epoch 71/200\n",
            "149/149 [==============================] - 0s 2ms/step - loss: 0.5759 - accuracy: 0.7075 - val_loss: 0.5717 - val_accuracy: 0.7156\n",
            "Epoch 72/200\n",
            "149/149 [==============================] - 0s 3ms/step - loss: 0.5773 - accuracy: 0.7006 - val_loss: 0.5713 - val_accuracy: 0.7167\n",
            "Epoch 73/200\n",
            "149/149 [==============================] - 0s 2ms/step - loss: 0.5751 - accuracy: 0.6989 - val_loss: 0.5708 - val_accuracy: 0.7188\n",
            "Epoch 74/200\n",
            "149/149 [==============================] - 0s 2ms/step - loss: 0.5762 - accuracy: 0.6993 - val_loss: 0.5704 - val_accuracy: 0.7188\n",
            "Epoch 75/200\n",
            "149/149 [==============================] - 0s 2ms/step - loss: 0.5748 - accuracy: 0.7031 - val_loss: 0.5700 - val_accuracy: 0.7177\n",
            "Epoch 76/200\n",
            "149/149 [==============================] - 0s 2ms/step - loss: 0.5744 - accuracy: 0.6954 - val_loss: 0.5695 - val_accuracy: 0.7188\n",
            "Epoch 77/200\n",
            "149/149 [==============================] - 0s 2ms/step - loss: 0.5737 - accuracy: 0.7088 - val_loss: 0.5691 - val_accuracy: 0.7198\n",
            "Epoch 78/200\n",
            "149/149 [==============================] - 0s 2ms/step - loss: 0.5775 - accuracy: 0.6991 - val_loss: 0.5688 - val_accuracy: 0.7219\n",
            "Epoch 79/200\n",
            "149/149 [==============================] - 0s 2ms/step - loss: 0.5717 - accuracy: 0.7073 - val_loss: 0.5684 - val_accuracy: 0.7198\n",
            "Epoch 80/200\n",
            "149/149 [==============================] - 0s 2ms/step - loss: 0.5715 - accuracy: 0.7096 - val_loss: 0.5681 - val_accuracy: 0.7198\n",
            "Epoch 81/200\n",
            "149/149 [==============================] - 0s 2ms/step - loss: 0.5713 - accuracy: 0.7107 - val_loss: 0.5677 - val_accuracy: 0.7188\n",
            "Epoch 82/200\n",
            "149/149 [==============================] - 0s 2ms/step - loss: 0.5706 - accuracy: 0.7092 - val_loss: 0.5674 - val_accuracy: 0.7188\n",
            "Epoch 83/200\n",
            "149/149 [==============================] - 0s 2ms/step - loss: 0.5745 - accuracy: 0.7044 - val_loss: 0.5671 - val_accuracy: 0.7209\n",
            "Epoch 84/200\n",
            "149/149 [==============================] - 0s 2ms/step - loss: 0.5703 - accuracy: 0.7048 - val_loss: 0.5667 - val_accuracy: 0.7209\n",
            "Epoch 85/200\n",
            "149/149 [==============================] - 0s 2ms/step - loss: 0.5704 - accuracy: 0.7040 - val_loss: 0.5663 - val_accuracy: 0.7219\n",
            "Epoch 86/200\n",
            "149/149 [==============================] - 0s 2ms/step - loss: 0.5684 - accuracy: 0.7109 - val_loss: 0.5660 - val_accuracy: 0.7209\n",
            "Epoch 87/200\n",
            "149/149 [==============================] - 0s 2ms/step - loss: 0.5688 - accuracy: 0.7088 - val_loss: 0.5656 - val_accuracy: 0.7219\n",
            "Epoch 88/200\n",
            "149/149 [==============================] - 0s 2ms/step - loss: 0.5706 - accuracy: 0.7000 - val_loss: 0.5654 - val_accuracy: 0.7219\n",
            "Epoch 89/200\n",
            "149/149 [==============================] - 0s 2ms/step - loss: 0.5681 - accuracy: 0.7096 - val_loss: 0.5651 - val_accuracy: 0.7219\n",
            "Epoch 90/200\n",
            "149/149 [==============================] - 0s 2ms/step - loss: 0.5688 - accuracy: 0.7140 - val_loss: 0.5647 - val_accuracy: 0.7230\n",
            "Epoch 91/200\n",
            "149/149 [==============================] - 0s 2ms/step - loss: 0.5686 - accuracy: 0.7067 - val_loss: 0.5643 - val_accuracy: 0.7219\n",
            "Epoch 92/200\n",
            "149/149 [==============================] - 0s 2ms/step - loss: 0.5714 - accuracy: 0.7000 - val_loss: 0.5641 - val_accuracy: 0.7230\n",
            "Epoch 93/200\n",
            "149/149 [==============================] - 0s 2ms/step - loss: 0.5639 - accuracy: 0.7090 - val_loss: 0.5637 - val_accuracy: 0.7230\n",
            "Epoch 94/200\n",
            "149/149 [==============================] - 0s 2ms/step - loss: 0.5676 - accuracy: 0.7094 - val_loss: 0.5634 - val_accuracy: 0.7230\n",
            "Epoch 95/200\n",
            "149/149 [==============================] - 0s 2ms/step - loss: 0.5649 - accuracy: 0.7126 - val_loss: 0.5631 - val_accuracy: 0.7230\n",
            "Epoch 96/200\n",
            "149/149 [==============================] - 0s 2ms/step - loss: 0.5677 - accuracy: 0.7122 - val_loss: 0.5628 - val_accuracy: 0.7230\n",
            "Epoch 97/200\n",
            "149/149 [==============================] - 0s 2ms/step - loss: 0.5665 - accuracy: 0.7096 - val_loss: 0.5625 - val_accuracy: 0.7230\n",
            "Epoch 98/200\n",
            "149/149 [==============================] - 0s 2ms/step - loss: 0.5651 - accuracy: 0.7115 - val_loss: 0.5622 - val_accuracy: 0.7240\n",
            "Epoch 99/200\n",
            "149/149 [==============================] - 0s 2ms/step - loss: 0.5660 - accuracy: 0.7080 - val_loss: 0.5619 - val_accuracy: 0.7230\n",
            "Epoch 100/200\n",
            "149/149 [==============================] - 0s 2ms/step - loss: 0.5631 - accuracy: 0.7153 - val_loss: 0.5617 - val_accuracy: 0.7230\n",
            "Epoch 101/200\n",
            "149/149 [==============================] - 0s 2ms/step - loss: 0.5610 - accuracy: 0.7197 - val_loss: 0.5614 - val_accuracy: 0.7230\n",
            "Epoch 102/200\n",
            "149/149 [==============================] - 0s 2ms/step - loss: 0.5640 - accuracy: 0.7092 - val_loss: 0.5610 - val_accuracy: 0.7251\n",
            "Epoch 103/200\n",
            "149/149 [==============================] - 0s 2ms/step - loss: 0.5642 - accuracy: 0.7122 - val_loss: 0.5608 - val_accuracy: 0.7240\n",
            "Epoch 104/200\n",
            "149/149 [==============================] - 0s 2ms/step - loss: 0.5639 - accuracy: 0.7088 - val_loss: 0.5606 - val_accuracy: 0.7251\n",
            "Epoch 105/200\n",
            "149/149 [==============================] - 0s 2ms/step - loss: 0.5600 - accuracy: 0.7172 - val_loss: 0.5602 - val_accuracy: 0.7240\n",
            "Epoch 106/200\n",
            "149/149 [==============================] - 0s 2ms/step - loss: 0.5634 - accuracy: 0.7136 - val_loss: 0.5600 - val_accuracy: 0.7230\n",
            "Epoch 107/200\n",
            "149/149 [==============================] - 0s 2ms/step - loss: 0.5571 - accuracy: 0.7199 - val_loss: 0.5597 - val_accuracy: 0.7251\n",
            "Epoch 108/200\n",
            "149/149 [==============================] - 0s 2ms/step - loss: 0.5605 - accuracy: 0.7119 - val_loss: 0.5595 - val_accuracy: 0.7251\n",
            "Epoch 109/200\n",
            "149/149 [==============================] - 0s 2ms/step - loss: 0.5592 - accuracy: 0.7212 - val_loss: 0.5593 - val_accuracy: 0.7219\n",
            "Epoch 110/200\n",
            "149/149 [==============================] - 0s 2ms/step - loss: 0.5628 - accuracy: 0.7130 - val_loss: 0.5590 - val_accuracy: 0.7251\n",
            "Epoch 111/200\n",
            "149/149 [==============================] - 0s 2ms/step - loss: 0.5609 - accuracy: 0.7174 - val_loss: 0.5588 - val_accuracy: 0.7251\n",
            "Epoch 112/200\n",
            "149/149 [==============================] - 0s 2ms/step - loss: 0.5609 - accuracy: 0.7140 - val_loss: 0.5585 - val_accuracy: 0.7272\n",
            "Epoch 113/200\n",
            "149/149 [==============================] - 0s 2ms/step - loss: 0.5596 - accuracy: 0.7170 - val_loss: 0.5582 - val_accuracy: 0.7261\n",
            "Epoch 114/200\n",
            "149/149 [==============================] - 0s 2ms/step - loss: 0.5595 - accuracy: 0.7164 - val_loss: 0.5580 - val_accuracy: 0.7261\n",
            "Epoch 115/200\n",
            "149/149 [==============================] - 0s 2ms/step - loss: 0.5595 - accuracy: 0.7164 - val_loss: 0.5577 - val_accuracy: 0.7272\n",
            "Epoch 116/200\n",
            "149/149 [==============================] - 0s 2ms/step - loss: 0.5565 - accuracy: 0.7216 - val_loss: 0.5575 - val_accuracy: 0.7293\n",
            "Epoch 117/200\n",
            "149/149 [==============================] - 0s 2ms/step - loss: 0.5598 - accuracy: 0.7155 - val_loss: 0.5572 - val_accuracy: 0.7272\n",
            "Epoch 118/200\n",
            "149/149 [==============================] - 0s 2ms/step - loss: 0.5586 - accuracy: 0.7182 - val_loss: 0.5570 - val_accuracy: 0.7293\n",
            "Epoch 119/200\n",
            "149/149 [==============================] - 0s 2ms/step - loss: 0.5575 - accuracy: 0.7178 - val_loss: 0.5568 - val_accuracy: 0.7293\n",
            "Epoch 120/200\n",
            "149/149 [==============================] - 0s 2ms/step - loss: 0.5559 - accuracy: 0.7168 - val_loss: 0.5565 - val_accuracy: 0.7293\n",
            "Epoch 121/200\n",
            "149/149 [==============================] - 0s 2ms/step - loss: 0.5546 - accuracy: 0.7248 - val_loss: 0.5563 - val_accuracy: 0.7282\n",
            "Epoch 122/200\n",
            "149/149 [==============================] - 0s 2ms/step - loss: 0.5571 - accuracy: 0.7195 - val_loss: 0.5561 - val_accuracy: 0.7282\n",
            "Epoch 123/200\n",
            "149/149 [==============================] - 0s 2ms/step - loss: 0.5559 - accuracy: 0.7216 - val_loss: 0.5558 - val_accuracy: 0.7282\n",
            "Epoch 124/200\n",
            "149/149 [==============================] - 0s 2ms/step - loss: 0.5580 - accuracy: 0.7220 - val_loss: 0.5556 - val_accuracy: 0.7282\n",
            "Epoch 125/200\n",
            "149/149 [==============================] - 0s 2ms/step - loss: 0.5596 - accuracy: 0.7149 - val_loss: 0.5555 - val_accuracy: 0.7282\n",
            "Epoch 126/200\n",
            "149/149 [==============================] - 0s 2ms/step - loss: 0.5566 - accuracy: 0.7191 - val_loss: 0.5551 - val_accuracy: 0.7282\n",
            "Epoch 127/200\n",
            "149/149 [==============================] - 0s 2ms/step - loss: 0.5498 - accuracy: 0.7290 - val_loss: 0.5549 - val_accuracy: 0.7282\n",
            "Epoch 128/200\n",
            "149/149 [==============================] - 0s 2ms/step - loss: 0.5549 - accuracy: 0.7214 - val_loss: 0.5547 - val_accuracy: 0.7272\n",
            "Epoch 129/200\n",
            "149/149 [==============================] - 0s 2ms/step - loss: 0.5546 - accuracy: 0.7195 - val_loss: 0.5545 - val_accuracy: 0.7293\n",
            "Epoch 130/200\n",
            "149/149 [==============================] - 0s 2ms/step - loss: 0.5527 - accuracy: 0.7210 - val_loss: 0.5543 - val_accuracy: 0.7282\n",
            "Epoch 131/200\n",
            "149/149 [==============================] - 0s 2ms/step - loss: 0.5517 - accuracy: 0.7208 - val_loss: 0.5541 - val_accuracy: 0.7293\n",
            "Epoch 132/200\n",
            "149/149 [==============================] - 0s 2ms/step - loss: 0.5516 - accuracy: 0.7254 - val_loss: 0.5538 - val_accuracy: 0.7272\n",
            "Epoch 133/200\n",
            "149/149 [==============================] - 0s 2ms/step - loss: 0.5540 - accuracy: 0.7172 - val_loss: 0.5537 - val_accuracy: 0.7261\n",
            "Epoch 134/200\n",
            "149/149 [==============================] - 0s 2ms/step - loss: 0.5558 - accuracy: 0.7218 - val_loss: 0.5535 - val_accuracy: 0.7282\n",
            "Epoch 135/200\n",
            "149/149 [==============================] - 0s 2ms/step - loss: 0.5527 - accuracy: 0.7243 - val_loss: 0.5533 - val_accuracy: 0.7282\n",
            "Epoch 136/200\n",
            "149/149 [==============================] - 0s 2ms/step - loss: 0.5499 - accuracy: 0.7241 - val_loss: 0.5531 - val_accuracy: 0.7272\n",
            "Epoch 137/200\n",
            "149/149 [==============================] - 0s 2ms/step - loss: 0.5477 - accuracy: 0.7239 - val_loss: 0.5528 - val_accuracy: 0.7272\n",
            "Epoch 138/200\n",
            "149/149 [==============================] - 0s 2ms/step - loss: 0.5525 - accuracy: 0.7201 - val_loss: 0.5527 - val_accuracy: 0.7282\n",
            "Epoch 139/200\n",
            "149/149 [==============================] - 0s 2ms/step - loss: 0.5533 - accuracy: 0.7231 - val_loss: 0.5526 - val_accuracy: 0.7272\n",
            "Epoch 140/200\n",
            "149/149 [==============================] - 0s 2ms/step - loss: 0.5527 - accuracy: 0.7229 - val_loss: 0.5523 - val_accuracy: 0.7272\n",
            "Epoch 141/200\n",
            "149/149 [==============================] - 0s 2ms/step - loss: 0.5547 - accuracy: 0.7300 - val_loss: 0.5522 - val_accuracy: 0.7272\n",
            "Epoch 142/200\n",
            "149/149 [==============================] - 0s 2ms/step - loss: 0.5478 - accuracy: 0.7285 - val_loss: 0.5520 - val_accuracy: 0.7282\n",
            "Epoch 143/200\n",
            "149/149 [==============================] - 0s 2ms/step - loss: 0.5509 - accuracy: 0.7239 - val_loss: 0.5517 - val_accuracy: 0.7282\n",
            "Epoch 144/200\n",
            "149/149 [==============================] - 0s 2ms/step - loss: 0.5495 - accuracy: 0.7218 - val_loss: 0.5516 - val_accuracy: 0.7272\n",
            "Epoch 145/200\n",
            "149/149 [==============================] - 0s 2ms/step - loss: 0.5507 - accuracy: 0.7264 - val_loss: 0.5514 - val_accuracy: 0.7272\n",
            "Epoch 146/200\n",
            "149/149 [==============================] - 0s 2ms/step - loss: 0.5506 - accuracy: 0.7185 - val_loss: 0.5512 - val_accuracy: 0.7272\n",
            "Epoch 147/200\n",
            "149/149 [==============================] - 0s 2ms/step - loss: 0.5472 - accuracy: 0.7264 - val_loss: 0.5510 - val_accuracy: 0.7282\n",
            "Epoch 148/200\n",
            "149/149 [==============================] - 0s 2ms/step - loss: 0.5527 - accuracy: 0.7243 - val_loss: 0.5509 - val_accuracy: 0.7272\n",
            "Epoch 149/200\n",
            "149/149 [==============================] - 0s 2ms/step - loss: 0.5486 - accuracy: 0.7275 - val_loss: 0.5507 - val_accuracy: 0.7272\n",
            "Epoch 150/200\n",
            "149/149 [==============================] - 0s 2ms/step - loss: 0.5508 - accuracy: 0.7220 - val_loss: 0.5505 - val_accuracy: 0.7282\n",
            "Epoch 151/200\n",
            "149/149 [==============================] - 0s 2ms/step - loss: 0.5479 - accuracy: 0.7260 - val_loss: 0.5503 - val_accuracy: 0.7282\n",
            "Epoch 152/200\n",
            "149/149 [==============================] - 0s 2ms/step - loss: 0.5476 - accuracy: 0.7283 - val_loss: 0.5501 - val_accuracy: 0.7293\n",
            "Epoch 153/200\n",
            "149/149 [==============================] - 0s 2ms/step - loss: 0.5496 - accuracy: 0.7231 - val_loss: 0.5500 - val_accuracy: 0.7314\n",
            "Epoch 154/200\n",
            "149/149 [==============================] - 0s 2ms/step - loss: 0.5476 - accuracy: 0.7199 - val_loss: 0.5498 - val_accuracy: 0.7282\n",
            "Epoch 155/200\n",
            "149/149 [==============================] - 0s 2ms/step - loss: 0.5497 - accuracy: 0.7224 - val_loss: 0.5496 - val_accuracy: 0.7272\n",
            "Epoch 156/200\n",
            "149/149 [==============================] - 0s 2ms/step - loss: 0.5505 - accuracy: 0.7216 - val_loss: 0.5495 - val_accuracy: 0.7303\n",
            "Epoch 157/200\n",
            "149/149 [==============================] - 0s 2ms/step - loss: 0.5481 - accuracy: 0.7336 - val_loss: 0.5493 - val_accuracy: 0.7314\n",
            "Epoch 158/200\n",
            "149/149 [==============================] - 0s 2ms/step - loss: 0.5474 - accuracy: 0.7277 - val_loss: 0.5491 - val_accuracy: 0.7303\n",
            "Epoch 159/200\n",
            "149/149 [==============================] - 0s 2ms/step - loss: 0.5480 - accuracy: 0.7252 - val_loss: 0.5489 - val_accuracy: 0.7282\n",
            "Epoch 160/200\n",
            "149/149 [==============================] - 0s 2ms/step - loss: 0.5458 - accuracy: 0.7275 - val_loss: 0.5487 - val_accuracy: 0.7282\n",
            "Epoch 161/200\n",
            "149/149 [==============================] - 0s 2ms/step - loss: 0.5458 - accuracy: 0.7292 - val_loss: 0.5486 - val_accuracy: 0.7261\n",
            "Epoch 162/200\n",
            "149/149 [==============================] - 0s 2ms/step - loss: 0.5453 - accuracy: 0.7296 - val_loss: 0.5484 - val_accuracy: 0.7261\n",
            "Epoch 163/200\n",
            "149/149 [==============================] - 0s 2ms/step - loss: 0.5489 - accuracy: 0.7290 - val_loss: 0.5482 - val_accuracy: 0.7251\n",
            "Epoch 164/200\n",
            "149/149 [==============================] - 0s 2ms/step - loss: 0.5451 - accuracy: 0.7313 - val_loss: 0.5480 - val_accuracy: 0.7261\n",
            "Epoch 165/200\n",
            "149/149 [==============================] - 0s 2ms/step - loss: 0.5451 - accuracy: 0.7306 - val_loss: 0.5479 - val_accuracy: 0.7261\n",
            "Epoch 166/200\n",
            "149/149 [==============================] - 0s 2ms/step - loss: 0.5475 - accuracy: 0.7254 - val_loss: 0.5477 - val_accuracy: 0.7251\n",
            "Epoch 167/200\n",
            "149/149 [==============================] - 0s 2ms/step - loss: 0.5444 - accuracy: 0.7313 - val_loss: 0.5475 - val_accuracy: 0.7251\n",
            "Epoch 168/200\n",
            "149/149 [==============================] - 0s 2ms/step - loss: 0.5440 - accuracy: 0.7338 - val_loss: 0.5473 - val_accuracy: 0.7261\n",
            "Epoch 169/200\n",
            "149/149 [==============================] - 0s 2ms/step - loss: 0.5477 - accuracy: 0.7277 - val_loss: 0.5471 - val_accuracy: 0.7261\n",
            "Epoch 170/200\n",
            "149/149 [==============================] - 0s 2ms/step - loss: 0.5475 - accuracy: 0.7266 - val_loss: 0.5470 - val_accuracy: 0.7261\n",
            "Epoch 171/200\n",
            "149/149 [==============================] - 0s 2ms/step - loss: 0.5451 - accuracy: 0.7294 - val_loss: 0.5468 - val_accuracy: 0.7261\n",
            "Epoch 172/200\n",
            "149/149 [==============================] - 0s 2ms/step - loss: 0.5420 - accuracy: 0.7294 - val_loss: 0.5466 - val_accuracy: 0.7272\n",
            "Epoch 173/200\n",
            "149/149 [==============================] - 0s 2ms/step - loss: 0.5452 - accuracy: 0.7258 - val_loss: 0.5464 - val_accuracy: 0.7261\n",
            "Epoch 174/200\n",
            "149/149 [==============================] - 0s 2ms/step - loss: 0.5441 - accuracy: 0.7292 - val_loss: 0.5462 - val_accuracy: 0.7251\n",
            "Epoch 175/200\n",
            "149/149 [==============================] - 0s 2ms/step - loss: 0.5474 - accuracy: 0.7271 - val_loss: 0.5461 - val_accuracy: 0.7251\n",
            "Epoch 176/200\n",
            "149/149 [==============================] - 0s 2ms/step - loss: 0.5467 - accuracy: 0.7298 - val_loss: 0.5460 - val_accuracy: 0.7261\n",
            "Epoch 177/200\n",
            "149/149 [==============================] - 0s 2ms/step - loss: 0.5414 - accuracy: 0.7311 - val_loss: 0.5458 - val_accuracy: 0.7240\n",
            "Epoch 178/200\n",
            "149/149 [==============================] - 0s 2ms/step - loss: 0.5408 - accuracy: 0.7346 - val_loss: 0.5456 - val_accuracy: 0.7240\n",
            "Epoch 179/200\n",
            "149/149 [==============================] - 0s 2ms/step - loss: 0.5422 - accuracy: 0.7338 - val_loss: 0.5455 - val_accuracy: 0.7261\n",
            "Epoch 180/200\n",
            "149/149 [==============================] - 0s 2ms/step - loss: 0.5384 - accuracy: 0.7342 - val_loss: 0.5453 - val_accuracy: 0.7261\n",
            "Epoch 181/200\n",
            "149/149 [==============================] - 0s 2ms/step - loss: 0.5445 - accuracy: 0.7315 - val_loss: 0.5451 - val_accuracy: 0.7272\n",
            "Epoch 182/200\n",
            "149/149 [==============================] - 0s 2ms/step - loss: 0.5404 - accuracy: 0.7350 - val_loss: 0.5450 - val_accuracy: 0.7272\n",
            "Epoch 183/200\n",
            "149/149 [==============================] - 0s 2ms/step - loss: 0.5404 - accuracy: 0.7315 - val_loss: 0.5448 - val_accuracy: 0.7282\n",
            "Epoch 184/200\n",
            "149/149 [==============================] - 0s 2ms/step - loss: 0.5387 - accuracy: 0.7350 - val_loss: 0.5446 - val_accuracy: 0.7272\n",
            "Epoch 185/200\n",
            "149/149 [==============================] - 0s 2ms/step - loss: 0.5429 - accuracy: 0.7296 - val_loss: 0.5445 - val_accuracy: 0.7251\n",
            "Epoch 186/200\n",
            "149/149 [==============================] - 0s 2ms/step - loss: 0.5454 - accuracy: 0.7262 - val_loss: 0.5443 - val_accuracy: 0.7272\n",
            "Epoch 187/200\n",
            "149/149 [==============================] - 0s 2ms/step - loss: 0.5425 - accuracy: 0.7346 - val_loss: 0.5442 - val_accuracy: 0.7272\n",
            "Epoch 188/200\n",
            "149/149 [==============================] - 0s 2ms/step - loss: 0.5419 - accuracy: 0.7279 - val_loss: 0.5441 - val_accuracy: 0.7272\n",
            "Epoch 189/200\n",
            "149/149 [==============================] - 0s 2ms/step - loss: 0.5433 - accuracy: 0.7325 - val_loss: 0.5439 - val_accuracy: 0.7261\n",
            "Epoch 190/200\n",
            "149/149 [==============================] - 0s 2ms/step - loss: 0.5428 - accuracy: 0.7258 - val_loss: 0.5438 - val_accuracy: 0.7261\n",
            "Epoch 191/200\n",
            "149/149 [==============================] - 0s 2ms/step - loss: 0.5383 - accuracy: 0.7359 - val_loss: 0.5436 - val_accuracy: 0.7251\n",
            "Epoch 192/200\n",
            "149/149 [==============================] - 0s 2ms/step - loss: 0.5417 - accuracy: 0.7327 - val_loss: 0.5435 - val_accuracy: 0.7261\n",
            "Epoch 193/200\n",
            "149/149 [==============================] - 0s 2ms/step - loss: 0.5403 - accuracy: 0.7294 - val_loss: 0.5434 - val_accuracy: 0.7240\n",
            "Epoch 194/200\n",
            "149/149 [==============================] - 0s 2ms/step - loss: 0.5393 - accuracy: 0.7302 - val_loss: 0.5433 - val_accuracy: 0.7219\n",
            "Epoch 195/200\n",
            "149/149 [==============================] - 0s 2ms/step - loss: 0.5443 - accuracy: 0.7283 - val_loss: 0.5431 - val_accuracy: 0.7272\n",
            "Epoch 196/200\n",
            "149/149 [==============================] - 0s 2ms/step - loss: 0.5405 - accuracy: 0.7336 - val_loss: 0.5430 - val_accuracy: 0.7240\n",
            "Epoch 197/200\n",
            "149/149 [==============================] - 0s 2ms/step - loss: 0.5345 - accuracy: 0.7294 - val_loss: 0.5428 - val_accuracy: 0.7261\n",
            "Epoch 198/200\n",
            "149/149 [==============================] - 0s 2ms/step - loss: 0.5388 - accuracy: 0.7359 - val_loss: 0.5426 - val_accuracy: 0.7272\n",
            "Epoch 199/200\n",
            "149/149 [==============================] - 0s 2ms/step - loss: 0.5397 - accuracy: 0.7361 - val_loss: 0.5424 - val_accuracy: 0.7251\n",
            "Epoch 200/200\n",
            "149/149 [==============================] - 0s 2ms/step - loss: 0.5399 - accuracy: 0.7290 - val_loss: 0.5424 - val_accuracy: 0.7230\n"
          ],
          "name": "stdout"
        }
      ]
    },
    {
      "cell_type": "code",
      "metadata": {
        "id": "8Yvisgs6dXst",
        "colab_type": "code",
        "outputId": "a9371481-dfb9-4f75-950e-38f331f81857",
        "colab": {
          "base_uri": "https://localhost:8080/",
          "height": 357
        }
      },
      "source": [
        "model.summary()"
      ],
      "execution_count": 301,
      "outputs": [
        {
          "output_type": "stream",
          "text": [
            "Model: \"sequential_6\"\n",
            "_________________________________________________________________\n",
            "Layer (type)                 Output Shape              Param #   \n",
            "=================================================================\n",
            "conv1d_6 (Conv1D)            (None, 2, 64)             256       \n",
            "_________________________________________________________________\n",
            "flatten_6 (Flatten)          (None, 128)               0         \n",
            "_________________________________________________________________\n",
            "dense_18 (Dense)             (None, 64)                8256      \n",
            "_________________________________________________________________\n",
            "dense_19 (Dense)             (None, 16)                1040      \n",
            "_________________________________________________________________\n",
            "dropout_6 (Dropout)          (None, 16)                0         \n",
            "_________________________________________________________________\n",
            "dense_20 (Dense)             (None, 1)                 17        \n",
            "=================================================================\n",
            "Total params: 9,569\n",
            "Trainable params: 9,569\n",
            "Non-trainable params: 0\n",
            "_________________________________________________________________\n"
          ],
          "name": "stdout"
        }
      ]
    },
    {
      "cell_type": "code",
      "metadata": {
        "id": "z46N7s9XhyRZ",
        "colab_type": "code",
        "outputId": "f7fc1a30-a7fb-4063-eb83-0668ccbe227e",
        "colab": {
          "base_uri": "https://localhost:8080/",
          "height": 34
        }
      },
      "source": [
        "X_train_shaped.shape"
      ],
      "execution_count": 302,
      "outputs": [
        {
          "output_type": "execute_result",
          "data": {
            "text/plain": [
              "(4763, 4, 1)"
            ]
          },
          "metadata": {
            "tags": []
          },
          "execution_count": 302
        }
      ]
    },
    {
      "cell_type": "code",
      "metadata": {
        "id": "VQZt4OtQY9Xp",
        "colab_type": "code",
        "outputId": "ebefcd71-09b5-4efb-85a9-ad02cf201c07",
        "colab": {
          "base_uri": "https://localhost:8080/",
          "height": 34
        }
      },
      "source": [
        "score = model.evaluate(X_test_shaped, y_test, verbose=0)\n",
        "print(f'Test loss: {score[0]} / Test accuracy: {score[1]}')"
      ],
      "execution_count": 303,
      "outputs": [
        {
          "output_type": "stream",
          "text": [
            "Test loss: 0.5484460592269897 / Test accuracy: 0.7023060917854309\n"
          ],
          "name": "stdout"
        }
      ]
    },
    {
      "cell_type": "code",
      "metadata": {
        "id": "Zfcy9dnvYebT",
        "colab_type": "code",
        "outputId": "b7aedaaa-b5bd-4a9e-ab6b-bfbd7da4b585",
        "colab": {
          "base_uri": "https://localhost:8080/",
          "height": 754
        }
      },
      "source": [
        "from tensorflow.keras.utils import plot_model\n",
        "plot_model(model, to_file='model.png', show_shapes= True)"
      ],
      "execution_count": 304,
      "outputs": [
        {
          "output_type": "execute_result",
          "data": {
            "image/png": "[encoded data removed]",
            "text/plain": [
              "<IPython.core.display.Image object>"
            ]
          },
          "metadata": {
            "tags": []
          },
          "execution_count": 304
        }
      ]
    },
    {
      "cell_type": "code",
      "metadata": {
        "id": "TW5XV2mCdj2n",
        "colab_type": "code",
        "colab": {}
      },
      "source": [
        "X_b_shaped = np.expand_dims(X_b, axis=2)\n",
        "count=0\n",
        "test_pred = model.predict_classes(X_b_shaped)\n",
        "k1 = np.array(test_pred[:,0])\n",
        "k2 = np.array(y_b)\n",
        "for i in range(len(y_b)):\n",
        "  if k1[i] == k2[i]:\n",
        "    count = count+1\n",
        "accuracy = (count*100)/len(y_b)"
      ],
      "execution_count": 0,
      "outputs": []
    },
    {
      "cell_type": "code",
      "metadata": {
        "id": "OQINnboUhhUr",
        "colab_type": "code",
        "outputId": "ca0bb06b-22c8-42fe-9d18-9869da979ed5",
        "colab": {
          "base_uri": "https://localhost:8080/",
          "height": 357
        }
      },
      "source": [
        "model.summary()"
      ],
      "execution_count": 306,
      "outputs": [
        {
          "output_type": "stream",
          "text": [
            "Model: \"sequential_6\"\n",
            "_________________________________________________________________\n",
            "Layer (type)                 Output Shape              Param #   \n",
            "=================================================================\n",
            "conv1d_6 (Conv1D)            (None, 2, 64)             256       \n",
            "_________________________________________________________________\n",
            "flatten_6 (Flatten)          (None, 128)               0         \n",
            "_________________________________________________________________\n",
            "dense_18 (Dense)             (None, 64)                8256      \n",
            "_________________________________________________________________\n",
            "dense_19 (Dense)             (None, 16)                1040      \n",
            "_________________________________________________________________\n",
            "dropout_6 (Dropout)          (None, 16)                0         \n",
            "_________________________________________________________________\n",
            "dense_20 (Dense)             (None, 1)                 17        \n",
            "=================================================================\n",
            "Total params: 9,569\n",
            "Trainable params: 9,569\n",
            "Non-trainable params: 0\n",
            "_________________________________________________________________\n"
          ],
          "name": "stdout"
        }
      ]
    },
    {
      "cell_type": "code",
      "metadata": {
        "id": "M0csklytfHvZ",
        "colab_type": "code",
        "colab": {
          "base_uri": "https://localhost:8080/",
          "height": 34
        },
        "outputId": "5655664f-c0bf-49ca-da2f-c29894196ef5"
      },
      "source": [
        "accuracy"
      ],
      "execution_count": 307,
      "outputs": [
        {
          "output_type": "execute_result",
          "data": {
            "text/plain": [
              "74.36974789915966"
            ]
          },
          "metadata": {
            "tags": []
          },
          "execution_count": 307
        }
      ]
    },
    {
      "cell_type": "code",
      "metadata": {
        "id": "jgABEtsU0uGo",
        "colab_type": "code",
        "colab": {}
      },
      "source": [
        "import matplotlib.pyplot as plt"
      ],
      "execution_count": 0,
      "outputs": []
    },
    {
      "cell_type": "code",
      "metadata": {
        "id": "xCUmGBssXwxH",
        "colab_type": "code",
        "outputId": "0e3d0edf-140f-44d1-fdf2-17b96692ac97",
        "colab": {
          "base_uri": "https://localhost:8080/",
          "height": 1000
        }
      },
      "source": [
        "history.history"
      ],
      "execution_count": 309,
      "outputs": [
        {
          "output_type": "execute_result",
          "data": {
            "text/plain": [
              "{'accuracy': [0.48246902227401733,\n",
              "  0.4929666221141815,\n",
              "  0.5162712335586548,\n",
              "  0.5345370769500732,\n",
              "  0.5462943315505981,\n",
              "  0.5511232614517212,\n",
              "  0.5660297870635986,\n",
              "  0.5716984868049622,\n",
              "  0.5834558010101318,\n",
              "  0.5947932004928589,\n",
              "  0.6090699434280396,\n",
              "  0.6197774410247803,\n",
              "  0.6279655694961548,\n",
              "  0.6330044269561768,\n",
              "  0.635313868522644,\n",
              "  0.6338441967964172,\n",
              "  0.6422423124313354,\n",
              "  0.645391583442688,\n",
              "  0.6489607095718384,\n",
              "  0.6539995670318604,\n",
              "  0.6489607095718384,\n",
              "  0.6586185097694397,\n",
              "  0.6537896394729614,\n",
              "  0.6678563952445984,\n",
              "  0.663237452507019,\n",
              "  0.6554692387580872,\n",
              "  0.668276309967041,\n",
              "  0.665966808795929,\n",
              "  0.6623976230621338,\n",
              "  0.6691160798072815,\n",
              "  0.6705857515335083,\n",
              "  0.6678563952445984,\n",
              "  0.6808733940124512,\n",
              "  0.6743649244308472,\n",
              "  0.66575688123703,\n",
              "  0.6804534792900085,\n",
              "  0.6789838075637817,\n",
              "  0.6831828951835632,\n",
              "  0.6731051802635193,\n",
              "  0.6800335645675659,\n",
              "  0.679823637008667,\n",
              "  0.6819231510162354,\n",
              "  0.691161036491394,\n",
              "  0.6869620084762573,\n",
              "  0.6857022643089294,\n",
              "  0.6882216930389404,\n",
              "  0.6873819231987,\n",
              "  0.6896913647651672,\n",
              "  0.6878017783164978,\n",
              "  0.691161036491394,\n",
              "  0.6934704780578613,\n",
              "  0.6957799792289734,\n",
              "  0.6896913647651672,\n",
              "  0.6926307082176208,\n",
              "  0.6951501369476318,\n",
              "  0.6896913647651672,\n",
              "  0.6993491649627686,\n",
              "  0.6922107934951782,\n",
              "  0.6873819231987,\n",
              "  0.7041780352592468,\n",
              "  0.6907411217689514,\n",
              "  0.6951501369476318,\n",
              "  0.6980894207954407,\n",
              "  0.7060676217079163,\n",
              "  0.7003989219665527,\n",
              "  0.7014486789703369,\n",
              "  0.7062775492668152,\n",
              "  0.7024984359741211,\n",
              "  0.6999790072441101,\n",
              "  0.6953600645065308,\n",
              "  0.7075372934341431,\n",
              "  0.7006088495254517,\n",
              "  0.6989292502403259,\n",
              "  0.6993491649627686,\n",
              "  0.7031282782554626,\n",
              "  0.6953600645065308,\n",
              "  0.7087969779968262,\n",
              "  0.6991391777992249,\n",
              "  0.7073273062705994,\n",
              "  0.7096368074417114,\n",
              "  0.7106865644454956,\n",
              "  0.7092168927192688,\n",
              "  0.7043879628181458,\n",
              "  0.7048078775405884,\n",
              "  0.7039681077003479,\n",
              "  0.7108964920043945,\n",
              "  0.7087969779968262,\n",
              "  0.6999790072441101,\n",
              "  0.7096368074417114,\n",
              "  0.7140457630157471,\n",
              "  0.7066974639892578,\n",
              "  0.6999790072441101,\n",
              "  0.7090069055557251,\n",
              "  0.7094268202781677,\n",
              "  0.7125760912895203,\n",
              "  0.7121561765670776,\n",
              "  0.7096368074417114,\n",
              "  0.7115263342857361,\n",
              "  0.7079571485519409,\n",
              "  0.715305507183075,\n",
              "  0.7197144627571106,\n",
              "  0.7092168927192688,\n",
              "  0.7121561765670776,\n",
              "  0.7087969779968262,\n",
              "  0.7171950340270996,\n",
              "  0.7136258482933044,\n",
              "  0.7199243903160095,\n",
              "  0.7119462490081787,\n",
              "  0.7211841344833374,\n",
              "  0.7129960060119629,\n",
              "  0.7174050211906433,\n",
              "  0.7140457630157471,\n",
              "  0.7169851064682007,\n",
              "  0.7163552641868591,\n",
              "  0.7163552641868591,\n",
              "  0.72160404920578,\n",
              "  0.7155154347419739,\n",
              "  0.7182447910308838,\n",
              "  0.7178248763084412,\n",
              "  0.716775119304657,\n",
              "  0.7247533202171326,\n",
              "  0.7195045351982117,\n",
              "  0.72160404920578,\n",
              "  0.7220239639282227,\n",
              "  0.7148855924606323,\n",
              "  0.719084620475769,\n",
              "  0.7289523482322693,\n",
              "  0.7213940620422363,\n",
              "  0.7195045351982117,\n",
              "  0.7209741473197937,\n",
              "  0.7207642197608948,\n",
              "  0.7253831624984741,\n",
              "  0.7171950340270996,\n",
              "  0.721813976764679,\n",
              "  0.7243334054946899,\n",
              "  0.724123477935791,\n",
              "  0.7239134907722473,\n",
              "  0.7201343774795532,\n",
              "  0.7230737209320068,\n",
              "  0.7228637337684631,\n",
              "  0.7300021052360535,\n",
              "  0.7285324335098267,\n",
              "  0.7239134907722473,\n",
              "  0.721813976764679,\n",
              "  0.7264329195022583,\n",
              "  0.7184547781944275,\n",
              "  0.7264329195022583,\n",
              "  0.7243334054946899,\n",
              "  0.7274826765060425,\n",
              "  0.7220239639282227,\n",
              "  0.7260130047798157,\n",
              "  0.7283225059509277,\n",
              "  0.7230737209320068,\n",
              "  0.7199243903160095,\n",
              "  0.7224438190460205,\n",
              "  0.72160404920578,\n",
              "  0.7335712909698486,\n",
              "  0.7276926040649414,\n",
              "  0.7251732349395752,\n",
              "  0.7274826765060425,\n",
              "  0.7291622757911682,\n",
              "  0.7295821905136108,\n",
              "  0.7289523482322693,\n",
              "  0.7312617897987366,\n",
              "  0.730631947517395,\n",
              "  0.7253831624984741,\n",
              "  0.7312617897987366,\n",
              "  0.7337812185287476,\n",
              "  0.7276926040649414,\n",
              "  0.7266428470611572,\n",
              "  0.7293722629547119,\n",
              "  0.7293722629547119,\n",
              "  0.7258030772209167,\n",
              "  0.7291622757911682,\n",
              "  0.7270627617835999,\n",
              "  0.7297921180725098,\n",
              "  0.7310518622398376,\n",
              "  0.7346210479736328,\n",
              "  0.7337812185287476,\n",
              "  0.7342011332511902,\n",
              "  0.7314717769622803,\n",
              "  0.7350409626960754,\n",
              "  0.7314717769622803,\n",
              "  0.7350409626960754,\n",
              "  0.7295821905136108,\n",
              "  0.7262229919433594,\n",
              "  0.7346210479736328,\n",
              "  0.7279025912284851,\n",
              "  0.7325215339660645,\n",
              "  0.7258030772209167,\n",
              "  0.7358807325363159,\n",
              "  0.7327314615249634,\n",
              "  0.7293722629547119,\n",
              "  0.7302120327949524,\n",
              "  0.7283225059509277,\n",
              "  0.7335712909698486,\n",
              "  0.7293722629547119,\n",
              "  0.7358807325363159,\n",
              "  0.7360907196998596,\n",
              "  0.7289523482322693],\n",
              " 'loss': [0.7271014451980591,\n",
              "  0.7179030776023865,\n",
              "  0.702636182308197,\n",
              "  0.6948543190956116,\n",
              "  0.6937174201011658,\n",
              "  0.6847823262214661,\n",
              "  0.6788116097450256,\n",
              "  0.6750086545944214,\n",
              "  0.6663551330566406,\n",
              "  0.6625473499298096,\n",
              "  0.6572741866111755,\n",
              "  0.6484572887420654,\n",
              "  0.648221492767334,\n",
              "  0.6442080736160278,\n",
              "  0.6439277529716492,\n",
              "  0.639605700969696,\n",
              "  0.6387189030647278,\n",
              "  0.6341161131858826,\n",
              "  0.6337988376617432,\n",
              "  0.6330963373184204,\n",
              "  0.630570113658905,\n",
              "  0.6289145946502686,\n",
              "  0.6244637966156006,\n",
              "  0.6223999261856079,\n",
              "  0.6166428923606873,\n",
              "  0.6214998364448547,\n",
              "  0.6158547401428223,\n",
              "  0.6178100109100342,\n",
              "  0.6167832612991333,\n",
              "  0.6124300360679626,\n",
              "  0.612438976764679,\n",
              "  0.6107081770896912,\n",
              "  0.6048892140388489,\n",
              "  0.6081943511962891,\n",
              "  0.6076808571815491,\n",
              "  0.6054273843765259,\n",
              "  0.6045801639556885,\n",
              "  0.6006773114204407,\n",
              "  0.6014146208763123,\n",
              "  0.6008948683738708,\n",
              "  0.5987420082092285,\n",
              "  0.5989479422569275,\n",
              "  0.5947718024253845,\n",
              "  0.5969176292419434,\n",
              "  0.5947040319442749,\n",
              "  0.592407763004303,\n",
              "  0.5920985341072083,\n",
              "  0.5932276248931885,\n",
              "  0.5933995842933655,\n",
              "  0.5929023027420044,\n",
              "  0.5891339778900146,\n",
              "  0.5870850682258606,\n",
              "  0.5881796479225159,\n",
              "  0.5890952944755554,\n",
              "  0.5892300009727478,\n",
              "  0.5884543061256409,\n",
              "  0.5844114422798157,\n",
              "  0.5867165923118591,\n",
              "  0.5857681632041931,\n",
              "  0.58048015832901,\n",
              "  0.5839086771011353,\n",
              "  0.5817543268203735,\n",
              "  0.5814473032951355,\n",
              "  0.5799174904823303,\n",
              "  0.5788881778717041,\n",
              "  0.5781863331794739,\n",
              "  0.5764191746711731,\n",
              "  0.579886794090271,\n",
              "  0.576468288898468,\n",
              "  0.5770261883735657,\n",
              "  0.5759322643280029,\n",
              "  0.5773476958274841,\n",
              "  0.5750511884689331,\n",
              "  0.5761632919311523,\n",
              "  0.5748303532600403,\n",
              "  0.5744090676307678,\n",
              "  0.5736715197563171,\n",
              "  0.5774799585342407,\n",
              "  0.5716651678085327,\n",
              "  0.5715438723564148,\n",
              "  0.5713365077972412,\n",
              "  0.5706164240837097,\n",
              "  0.5745270252227783,\n",
              "  0.5703482627868652,\n",
              "  0.570404052734375,\n",
              "  0.5684463381767273,\n",
              "  0.5688456296920776,\n",
              "  0.570556104183197,\n",
              "  0.5680831074714661,\n",
              "  0.5688060522079468,\n",
              "  0.5685808062553406,\n",
              "  0.571352481842041,\n",
              "  0.5638661980628967,\n",
              "  0.5676380395889282,\n",
              "  0.564910888671875,\n",
              "  0.5677425861358643,\n",
              "  0.5664926767349243,\n",
              "  0.5650643706321716,\n",
              "  0.5660035014152527,\n",
              "  0.5631405115127563,\n",
              "  0.5610217452049255,\n",
              "  0.5640000104904175,\n",
              "  0.5641939043998718,\n",
              "  0.5638841390609741,\n",
              "  0.5599744915962219,\n",
              "  0.5633660554885864,\n",
              "  0.5570992231369019,\n",
              "  0.5604641437530518,\n",
              "  0.5592031478881836,\n",
              "  0.5628374218940735,\n",
              "  0.5608537793159485,\n",
              "  0.560866117477417,\n",
              "  0.5596272945404053,\n",
              "  0.5595157146453857,\n",
              "  0.5594952702522278,\n",
              "  0.5565325617790222,\n",
              "  0.559810996055603,\n",
              "  0.5585968494415283,\n",
              "  0.557522177696228,\n",
              "  0.5559126138687134,\n",
              "  0.5546492338180542,\n",
              "  0.5570726990699768,\n",
              "  0.5558865666389465,\n",
              "  0.5579611659049988,\n",
              "  0.5595685839653015,\n",
              "  0.5566447973251343,\n",
              "  0.5497804880142212,\n",
              "  0.5549435615539551,\n",
              "  0.5545671582221985,\n",
              "  0.5527496933937073,\n",
              "  0.5516719222068787,\n",
              "  0.5516170263290405,\n",
              "  0.5540216565132141,\n",
              "  0.5558408498764038,\n",
              "  0.5527144074440002,\n",
              "  0.5498864650726318,\n",
              "  0.5477129817008972,\n",
              "  0.5525439381599426,\n",
              "  0.5532594919204712,\n",
              "  0.5526811480522156,\n",
              "  0.5546547174453735,\n",
              "  0.5477741956710815,\n",
              "  0.5509316325187683,\n",
              "  0.5494887828826904,\n",
              "  0.550697386264801,\n",
              "  0.5506095886230469,\n",
              "  0.5472095012664795,\n",
              "  0.5526732206344604,\n",
              "  0.5486272573471069,\n",
              "  0.550830602645874,\n",
              "  0.5479190349578857,\n",
              "  0.5476247072219849,\n",
              "  0.5495631694793701,\n",
              "  0.5476415157318115,\n",
              "  0.5496866703033447,\n",
              "  0.5504705905914307,\n",
              "  0.5480910539627075,\n",
              "  0.5474028587341309,\n",
              "  0.5479674935340881,\n",
              "  0.5457765460014343,\n",
              "  0.545803964138031,\n",
              "  0.5453463196754456,\n",
              "  0.548883318901062,\n",
              "  0.545080304145813,\n",
              "  0.5451343655586243,\n",
              "  0.5475248694419861,\n",
              "  0.5443951487541199,\n",
              "  0.5440046787261963,\n",
              "  0.5476735830307007,\n",
              "  0.5474824905395508,\n",
              "  0.5451110005378723,\n",
              "  0.5420354604721069,\n",
              "  0.5451593995094299,\n",
              "  0.5441126227378845,\n",
              "  0.5474280118942261,\n",
              "  0.5467177629470825,\n",
              "  0.5414437651634216,\n",
              "  0.5408022999763489,\n",
              "  0.5421827435493469,\n",
              "  0.5383793115615845,\n",
              "  0.5444817543029785,\n",
              "  0.5403574705123901,\n",
              "  0.5403792262077332,\n",
              "  0.5387079119682312,\n",
              "  0.5428822636604309,\n",
              "  0.5454483032226562,\n",
              "  0.5425081849098206,\n",
              "  0.5419059991836548,\n",
              "  0.5433053374290466,\n",
              "  0.5428166389465332,\n",
              "  0.5382879376411438,\n",
              "  0.5417215824127197,\n",
              "  0.5402594208717346,\n",
              "  0.5393447279930115,\n",
              "  0.5443411469459534,\n",
              "  0.5405457615852356,\n",
              "  0.5345352292060852,\n",
              "  0.5387622117996216,\n",
              "  0.5397366285324097,\n",
              "  0.5399399399757385],\n",
              " 'val_accuracy': [0.5110178589820862,\n",
              "  0.530954897403717,\n",
              "  0.5445960164070129,\n",
              "  0.5918152928352356,\n",
              "  0.6274921298027039,\n",
              "  0.6579223275184631,\n",
              "  0.6810073256492615,\n",
              "  0.6820566654205322,\n",
              "  0.6883525848388672,\n",
              "  0.6935991644859314,\n",
              "  0.6988457441329956,\n",
              "  0.7019937038421631,\n",
              "  0.7009443640708923,\n",
              "  0.6988457441329956,\n",
              "  0.6967471241950989,\n",
              "  0.6977964043617249,\n",
              "  0.6988457441329956,\n",
              "  0.7019937038421631,\n",
              "  0.7040923237800598,\n",
              "  0.7030430436134338,\n",
              "  0.7030430436134338,\n",
              "  0.7030430436134338,\n",
              "  0.7019937038421631,\n",
              "  0.7040923237800598,\n",
              "  0.7051416635513306,\n",
              "  0.7040923237800598,\n",
              "  0.7040923237800598,\n",
              "  0.7030430436134338,\n",
              "  0.7030430436134338,\n",
              "  0.708289623260498,\n",
              "  0.7030430436134338,\n",
              "  0.7040923237800598,\n",
              "  0.7061910033226013,\n",
              "  0.708289623260498,\n",
              "  0.708289623260498,\n",
              "  0.7124868631362915,\n",
              "  0.7124868631362915,\n",
              "  0.7124868631362915,\n",
              "  0.7114375829696655,\n",
              "  0.7072402834892273,\n",
              "  0.708289623260498,\n",
              "  0.708289623260498,\n",
              "  0.7103882431983948,\n",
              "  0.708289623260498,\n",
              "  0.709338903427124,\n",
              "  0.709338903427124,\n",
              "  0.709338903427124,\n",
              "  0.7103882431983948,\n",
              "  0.714585542678833,\n",
              "  0.709338903427124,\n",
              "  0.7103882431983948,\n",
              "  0.709338903427124,\n",
              "  0.7114375829696655,\n",
              "  0.7114375829696655,\n",
              "  0.7114375829696655,\n",
              "  0.7124868631362915,\n",
              "  0.7124868631362915,\n",
              "  0.7135362029075623,\n",
              "  0.7135362029075623,\n",
              "  0.7135362029075623,\n",
              "  0.7135362029075623,\n",
              "  0.7135362029075623,\n",
              "  0.715634822845459,\n",
              "  0.715634822845459,\n",
              "  0.714585542678833,\n",
              "  0.715634822845459,\n",
              "  0.715634822845459,\n",
              "  0.715634822845459,\n",
              "  0.7177335023880005,\n",
              "  0.7166841626167297,\n",
              "  0.715634822845459,\n",
              "  0.7166841626167297,\n",
              "  0.7187827825546265,\n",
              "  0.7187827825546265,\n",
              "  0.7177335023880005,\n",
              "  0.7187827825546265,\n",
              "  0.7198321223258972,\n",
              "  0.721930742263794,\n",
              "  0.7198321223258972,\n",
              "  0.7198321223258972,\n",
              "  0.7187827825546265,\n",
              "  0.7187827825546265,\n",
              "  0.7208814024925232,\n",
              "  0.7208814024925232,\n",
              "  0.721930742263794,\n",
              "  0.7208814024925232,\n",
              "  0.721930742263794,\n",
              "  0.721930742263794,\n",
              "  0.721930742263794,\n",
              "  0.7229800820350647,\n",
              "  0.721930742263794,\n",
              "  0.7229800820350647,\n",
              "  0.7229800820350647,\n",
              "  0.7229800820350647,\n",
              "  0.7229800820350647,\n",
              "  0.7229800820350647,\n",
              "  0.7229800820350647,\n",
              "  0.7240293622016907,\n",
              "  0.7229800820350647,\n",
              "  0.7229800820350647,\n",
              "  0.7229800820350647,\n",
              "  0.7250787019729614,\n",
              "  0.7240293622016907,\n",
              "  0.7250787019729614,\n",
              "  0.7240293622016907,\n",
              "  0.7229800820350647,\n",
              "  0.7250787019729614,\n",
              "  0.7250787019729614,\n",
              "  0.721930742263794,\n",
              "  0.7250787019729614,\n",
              "  0.7250787019729614,\n",
              "  0.7271773219108582,\n",
              "  0.7261280417442322,\n",
              "  0.7261280417442322,\n",
              "  0.7271773219108582,\n",
              "  0.7292759418487549,\n",
              "  0.7271773219108582,\n",
              "  0.7292759418487549,\n",
              "  0.7292759418487549,\n",
              "  0.7292759418487549,\n",
              "  0.7282266616821289,\n",
              "  0.7282266616821289,\n",
              "  0.7282266616821289,\n",
              "  0.7282266616821289,\n",
              "  0.7282266616821289,\n",
              "  0.7282266616821289,\n",
              "  0.7282266616821289,\n",
              "  0.7271773219108582,\n",
              "  0.7292759418487549,\n",
              "  0.7282266616821289,\n",
              "  0.7292759418487549,\n",
              "  0.7271773219108582,\n",
              "  0.7261280417442322,\n",
              "  0.7282266616821289,\n",
              "  0.7282266616821289,\n",
              "  0.7271773219108582,\n",
              "  0.7271773219108582,\n",
              "  0.7282266616821289,\n",
              "  0.7271773219108582,\n",
              "  0.7271773219108582,\n",
              "  0.7271773219108582,\n",
              "  0.7282266616821289,\n",
              "  0.7282266616821289,\n",
              "  0.7271773219108582,\n",
              "  0.7271773219108582,\n",
              "  0.7271773219108582,\n",
              "  0.7282266616821289,\n",
              "  0.7271773219108582,\n",
              "  0.7271773219108582,\n",
              "  0.7282266616821289,\n",
              "  0.7282266616821289,\n",
              "  0.7292759418487549,\n",
              "  0.7313746213912964,\n",
              "  0.7282266616821289,\n",
              "  0.7271773219108582,\n",
              "  0.7303252816200256,\n",
              "  0.7313746213912964,\n",
              "  0.7303252816200256,\n",
              "  0.7282266616821289,\n",
              "  0.7282266616821289,\n",
              "  0.7261280417442322,\n",
              "  0.7261280417442322,\n",
              "  0.7250787019729614,\n",
              "  0.7261280417442322,\n",
              "  0.7261280417442322,\n",
              "  0.7250787019729614,\n",
              "  0.7250787019729614,\n",
              "  0.7261280417442322,\n",
              "  0.7261280417442322,\n",
              "  0.7261280417442322,\n",
              "  0.7261280417442322,\n",
              "  0.7271773219108582,\n",
              "  0.7261280417442322,\n",
              "  0.7250787019729614,\n",
              "  0.7250787019729614,\n",
              "  0.7261280417442322,\n",
              "  0.7240293622016907,\n",
              "  0.7240293622016907,\n",
              "  0.7261280417442322,\n",
              "  0.7261280417442322,\n",
              "  0.7271773219108582,\n",
              "  0.7271773219108582,\n",
              "  0.7282266616821289,\n",
              "  0.7271773219108582,\n",
              "  0.7250787019729614,\n",
              "  0.7271773219108582,\n",
              "  0.7271773219108582,\n",
              "  0.7271773219108582,\n",
              "  0.7261280417442322,\n",
              "  0.7261280417442322,\n",
              "  0.7250787019729614,\n",
              "  0.7261280417442322,\n",
              "  0.7240293622016907,\n",
              "  0.721930742263794,\n",
              "  0.7271773219108582,\n",
              "  0.7240293622016907,\n",
              "  0.7261280417442322,\n",
              "  0.7271773219108582,\n",
              "  0.7250787019729614,\n",
              "  0.7229800820350647],\n",
              " 'val_loss': [0.6921640634536743,\n",
              "  0.6853309273719788,\n",
              "  0.679381787776947,\n",
              "  0.6738513708114624,\n",
              "  0.6684684753417969,\n",
              "  0.6634330749511719,\n",
              "  0.6586716771125793,\n",
              "  0.6542516350746155,\n",
              "  0.649957001209259,\n",
              "  0.6460425853729248,\n",
              "  0.6422816514968872,\n",
              "  0.638927161693573,\n",
              "  0.635668933391571,\n",
              "  0.632612407207489,\n",
              "  0.6298670172691345,\n",
              "  0.627404510974884,\n",
              "  0.6250121593475342,\n",
              "  0.6228798627853394,\n",
              "  0.6208268404006958,\n",
              "  0.6189001202583313,\n",
              "  0.6170582175254822,\n",
              "  0.6153064370155334,\n",
              "  0.61368727684021,\n",
              "  0.6121098399162292,\n",
              "  0.6103923916816711,\n",
              "  0.6088922023773193,\n",
              "  0.6074196696281433,\n",
              "  0.6060765385627747,\n",
              "  0.6047752499580383,\n",
              "  0.6035484075546265,\n",
              "  0.6023467183113098,\n",
              "  0.6012248992919922,\n",
              "  0.5999729037284851,\n",
              "  0.5988748073577881,\n",
              "  0.5978415608406067,\n",
              "  0.596798837184906,\n",
              "  0.5958082675933838,\n",
              "  0.5946738123893738,\n",
              "  0.5936653017997742,\n",
              "  0.5927445888519287,\n",
              "  0.5917791724205017,\n",
              "  0.5908565521240234,\n",
              "  0.5898935794830322,\n",
              "  0.5890361666679382,\n",
              "  0.5881394147872925,\n",
              "  0.5872659087181091,\n",
              "  0.5864107012748718,\n",
              "  0.585597038269043,\n",
              "  0.5849103927612305,\n",
              "  0.5841286778450012,\n",
              "  0.5833509564399719,\n",
              "  0.5826126337051392,\n",
              "  0.581944465637207,\n",
              "  0.5812318325042725,\n",
              "  0.5806140303611755,\n",
              "  0.5799879431724548,\n",
              "  0.5792443752288818,\n",
              "  0.5785974860191345,\n",
              "  0.5779998898506165,\n",
              "  0.577299177646637,\n",
              "  0.5768025517463684,\n",
              "  0.5762265920639038,\n",
              "  0.5757110118865967,\n",
              "  0.5752628445625305,\n",
              "  0.5746910572052002,\n",
              "  0.5741550326347351,\n",
              "  0.5735380053520203,\n",
              "  0.5730525851249695,\n",
              "  0.5725840926170349,\n",
              "  0.5721729397773743,\n",
              "  0.5717416405677795,\n",
              "  0.5712992548942566,\n",
              "  0.5708404779434204,\n",
              "  0.5703840851783752,\n",
              "  0.5699781179428101,\n",
              "  0.5695072412490845,\n",
              "  0.5691088438034058,\n",
              "  0.5688356757164001,\n",
              "  0.5684342980384827,\n",
              "  0.5680520534515381,\n",
              "  0.5677143335342407,\n",
              "  0.5673831701278687,\n",
              "  0.5670587420463562,\n",
              "  0.5666659474372864,\n",
              "  0.566328227519989,\n",
              "  0.5659520626068115,\n",
              "  0.5656233429908752,\n",
              "  0.5653531551361084,\n",
              "  0.5650616884231567,\n",
              "  0.564687967300415,\n",
              "  0.5643333196640015,\n",
              "  0.5641213655471802,\n",
              "  0.5637370347976685,\n",
              "  0.5634368658065796,\n",
              "  0.5630810856819153,\n",
              "  0.5628041625022888,\n",
              "  0.5624867677688599,\n",
              "  0.5621792674064636,\n",
              "  0.5619271993637085,\n",
              "  0.5616604089736938,\n",
              "  0.5613560080528259,\n",
              "  0.5610122084617615,\n",
              "  0.5607526302337646,\n",
              "  0.5605567693710327,\n",
              "  0.5602467656135559,\n",
              "  0.5599963068962097,\n",
              "  0.5596597790718079,\n",
              "  0.5594577789306641,\n",
              "  0.5592730641365051,\n",
              "  0.5590343475341797,\n",
              "  0.5588065981864929,\n",
              "  0.5585008263587952,\n",
              "  0.5582444667816162,\n",
              "  0.5579626560211182,\n",
              "  0.5576988458633423,\n",
              "  0.5574766397476196,\n",
              "  0.5571693778038025,\n",
              "  0.556966245174408,\n",
              "  0.5567642450332642,\n",
              "  0.5564894080162048,\n",
              "  0.5562645196914673,\n",
              "  0.5560594201087952,\n",
              "  0.5558194518089294,\n",
              "  0.5556278228759766,\n",
              "  0.5554772615432739,\n",
              "  0.5551427006721497,\n",
              "  0.5548737049102783,\n",
              "  0.5546501874923706,\n",
              "  0.5544509291648865,\n",
              "  0.5542733073234558,\n",
              "  0.5540581941604614,\n",
              "  0.5538333058357239,\n",
              "  0.5536520481109619,\n",
              "  0.5535072088241577,\n",
              "  0.5533196926116943,\n",
              "  0.5531270503997803,\n",
              "  0.5528439879417419,\n",
              "  0.5526857376098633,\n",
              "  0.5525729060173035,\n",
              "  0.5523449778556824,\n",
              "  0.5522133111953735,\n",
              "  0.5519504547119141,\n",
              "  0.5517327785491943,\n",
              "  0.5515565872192383,\n",
              "  0.5513973832130432,\n",
              "  0.5512033104896545,\n",
              "  0.5510360598564148,\n",
              "  0.5509158968925476,\n",
              "  0.5506954789161682,\n",
              "  0.5505018830299377,\n",
              "  0.5503184199333191,\n",
              "  0.5501152873039246,\n",
              "  0.5499833822250366,\n",
              "  0.549755334854126,\n",
              "  0.5496005415916443,\n",
              "  0.5494587421417236,\n",
              "  0.549278199672699,\n",
              "  0.549084484577179,\n",
              "  0.5488884449005127,\n",
              "  0.5486778020858765,\n",
              "  0.5485593676567078,\n",
              "  0.5483965277671814,\n",
              "  0.5482050776481628,\n",
              "  0.5479999780654907,\n",
              "  0.5478817224502563,\n",
              "  0.5477155447006226,\n",
              "  0.5475320219993591,\n",
              "  0.5472692251205444,\n",
              "  0.5471187829971313,\n",
              "  0.5469552278518677,\n",
              "  0.5467561483383179,\n",
              "  0.5465855002403259,\n",
              "  0.5464288592338562,\n",
              "  0.5462085008621216,\n",
              "  0.5460891723632812,\n",
              "  0.5459595918655396,\n",
              "  0.5458058714866638,\n",
              "  0.5456435680389404,\n",
              "  0.5454628467559814,\n",
              "  0.54527747631073,\n",
              "  0.5450900793075562,\n",
              "  0.5449549555778503,\n",
              "  0.5447743535041809,\n",
              "  0.5446330308914185,\n",
              "  0.5444758534431458,\n",
              "  0.5442901253700256,\n",
              "  0.5441957116127014,\n",
              "  0.5440633296966553,\n",
              "  0.5439287424087524,\n",
              "  0.5438449382781982,\n",
              "  0.543627142906189,\n",
              "  0.5434789657592773,\n",
              "  0.5433833003044128,\n",
              "  0.5432628989219666,\n",
              "  0.5431121587753296,\n",
              "  0.5429747104644775,\n",
              "  0.5428029894828796,\n",
              "  0.5426262021064758,\n",
              "  0.5424448847770691,\n",
              "  0.5423651337623596]}"
            ]
          },
          "metadata": {
            "tags": []
          },
          "execution_count": 309
        }
      ]
    },
    {
      "cell_type": "code",
      "metadata": {
        "id": "0PQUGJ0omWd-",
        "colab_type": "code",
        "outputId": "19d118ac-a329-449e-fa7e-6f791da87625",
        "colab": {
          "base_uri": "https://localhost:8080/",
          "height": 573
        }
      },
      "source": [
        "plt.plot(history.history['accuracy'])\n",
        "plt.plot(history.history['val_accuracy'])\n",
        "plt.title('Model accuracy')\n",
        "plt.ylabel('Accuracy')\n",
        "plt.xlabel('Epoch')\n",
        "plt.legend(['Train', 'Test'], loc='upper left')\n",
        "plt.show()\n",
        "\n",
        "# Plot training & validation loss values\n",
        "plt.plot(history.history['loss'])\n",
        "plt.plot(history.history['val_loss'])\n",
        "plt.title('Model loss')\n",
        "plt.ylabel('Loss')\n",
        "plt.xlabel('Epoch')\n",
        "plt.legend(['Train', 'Test'], loc='upper left')\n",
        "plt.show()"
      ],
      "execution_count": 310,
      "outputs": [
        {
          "output_type": "display_data",
          "data": {
            "image/png": "[encoded data removed]",
            "text/plain": [
              "<Figure size 432x288 with 1 Axes>"
            ]
          },
          "metadata": {
            "tags": []
          }
        },
        {
          "output_type": "display_data",
          "data": {
            "image/png": "[encoded data removed]",
            "text/plain": [
              "<Figure size 432x288 with 1 Axes>"
            ]
          },
          "metadata": {
            "tags": []
          }
        }
      ]
    },
    {
      "cell_type": "code",
      "metadata": {
        "id": "A6JZCHx4mxHd",
        "colab_type": "code",
        "colab": {}
      },
      "source": [
        "from sklearn.metrics import roc_curve, roc_auc_score, f1_score\n",
        "from sklearn.metrics import accuracy_score\n",
        "from sklearn.metrics import confusion_matrix"
      ],
      "execution_count": 0,
      "outputs": []
    },
    {
      "cell_type": "code",
      "metadata": {
        "id": "Bi2-05mNo7hR",
        "colab_type": "code",
        "outputId": "c8319ba9-3579-4b94-800a-c0af89da09c2",
        "colab": {
          "base_uri": "https://localhost:8080/",
          "height": 119
        }
      },
      "source": [
        "acc = accuracy_score(k2, k1)\n",
        "f1 = f1_score(k2, test_pred[:,0])\n",
        "y_score = model.predict_proba(X_b_shaped)\n",
        "roc = roc_auc_score(k2, y_score)\n",
        "print('The accuracy of this model is ' + str(acc))\n",
        "print('The f1 score of this model is ' + str(f1))\n",
        "print('The area under curve of this model is ' + str(roc))\n",
        "print('The confusion matrix is as follows:')\n",
        "print(confusion_matrix(y_b, test_pred[:,0]))"
      ],
      "execution_count": 312,
      "outputs": [
        {
          "output_type": "stream",
          "text": [
            "The accuracy of this model is 0.7436974789915967\n",
            "The f1 score of this model is 0.7458333333333332\n",
            "The area under curve of this model is 0.8081312032270049\n",
            "The confusion matrix is as follows:\n",
            "[[175  52]\n",
            " [ 70 179]]\n"
          ],
          "name": "stdout"
        }
      ]
    },
    {
      "cell_type": "code",
      "metadata": {
        "id": "oYlVfkgoqItD",
        "colab_type": "code",
        "outputId": "e5708919-37f0-4cb9-b076-cdb364d7b391",
        "colab": {
          "base_uri": "https://localhost:8080/",
          "height": 312
        }
      },
      "source": [
        "fpr, tpr,x = roc_curve( k2, y_score)\n",
        "plt.plot(fpr, tpr)\n",
        "plt.title('ROC Curve')\n",
        "plt.xlabel('False Positive Rate')\n",
        "plt.ylabel('True Positive Rate')"
      ],
      "execution_count": 313,
      "outputs": [
        {
          "output_type": "execute_result",
          "data": {
            "text/plain": [
              "Text(0, 0.5, 'True Positive Rate')"
            ]
          },
          "metadata": {
            "tags": []
          },
          "execution_count": 313
        },
        {
          "output_type": "display_data",
          "data": {
            "image/png": "[encoded data removed]",
            "text/plain": [
              "<Figure size 432x288 with 1 Axes>"
            ]
          },
          "metadata": {
            "tags": []
          }
        }
      ]
    },
    {
      "cell_type": "markdown",
      "metadata": {
        "id": "-T6QWIg74RwY",
        "colab_type": "text"
      },
      "source": [
        "# Testing on New files"
      ]
    },
    {
      "cell_type": "code",
      "metadata": {
        "id": "UCQlypEUDitX",
        "colab_type": "code",
        "colab": {}
      },
      "source": [
        "import numpy as np\n",
        "import math\n",
        "import cv2"
      ],
      "execution_count": 0,
      "outputs": []
    },
    {
      "cell_type": "code",
      "metadata": {
        "id": "-TJStSOTDdf8",
        "colab_type": "code",
        "colab": {}
      },
      "source": [
        "from scipy.spatial import distance\n",
        "from mlxtend.image import extract_face_landmarks"
      ],
      "execution_count": 0,
      "outputs": []
    },
    {
      "cell_type": "code",
      "metadata": {
        "id": "I2L1fBaYDXHD",
        "colab_type": "code",
        "colab": {}
      },
      "source": [
        "def images(x):\n",
        "    vc.set(cv2.CAP_PROP_POS_MSEC, x)\n",
        "    result,image = vc.read()\n",
        "    return result, image"
      ],
      "execution_count": 0,
      "outputs": []
    },
    {
      "cell_type": "code",
      "metadata": {
        "id": "3IQbusxCC8Cu",
        "colab_type": "code",
        "colab": {}
      },
      "source": [
        "path = '/content/drive/My Drive/Untitled folder/Video/'\n",
        "filename = 'test1.mp4'"
      ],
      "execution_count": 0,
      "outputs": []
    },
    {
      "cell_type": "code",
      "metadata": {
        "id": "H_BvncH-DEEr",
        "colab_type": "code",
        "outputId": "40dbe5c2-adba-41cc-829c-b73bc6a017e2",
        "colab": {
          "base_uri": "https://localhost:8080/",
          "height": 425
        }
      },
      "source": [
        "lm =[]\n",
        "frames_max = 800 #number of frames needed per video\n",
        "vc = cv2.VideoCapture(path + filename)\n",
        "tim = 0\n",
        "result, image  = images(tim)\n",
        "count = 0\n",
        "while result and count < frames_max: \n",
        "    landmarks = extract_face_landmarks(image)\n",
        "    if sum(sum(landmarks)) != 0:\n",
        "        lm.append(landmarks)\n",
        "        tim +=600 \n",
        "        result, image = images(tim)\n",
        "        count += 1\n",
        "        if count%10 == 0: print('Extracted face landmarks from '+str(count)+' frames')\n",
        "    else:  \n",
        "        tim += 600\n",
        "        result, image = images(tim)\n",
        "        print('Face not detected in this frame, till now extracted from '+str(count)+' frames')\n",
        "lm = np.array(lm)"
      ],
      "execution_count": 258,
      "outputs": [
        {
          "output_type": "stream",
          "text": [
            "Extracted face landmarks from 10 frames\n",
            "Extracted face landmarks from 20 frames\n",
            "Extracted face landmarks from 30 frames\n",
            "Extracted face landmarks from 40 frames\n",
            "Extracted face landmarks from 50 frames\n",
            "Extracted face landmarks from 60 frames\n",
            "Extracted face landmarks from 70 frames\n",
            "Extracted face landmarks from 80 frames\n",
            "Extracted face landmarks from 90 frames\n",
            "Extracted face landmarks from 100 frames\n",
            "Extracted face landmarks from 110 frames\n",
            "Extracted face landmarks from 120 frames\n",
            "Extracted face landmarks from 130 frames\n",
            "Extracted face landmarks from 140 frames\n"
          ],
          "name": "stdout"
        },
        {
          "output_type": "stream",
          "text": [
            "/usr/local/lib/python3.6/dist-packages/mlxtend/image/extract_face_landmarks.py:61: UserWarning: No face detected.\n",
            "  warnings.warn('No face detected.')\n"
          ],
          "name": "stderr"
        },
        {
          "output_type": "stream",
          "text": [
            "Face not detected in this frame, till now extracted from 146 frames\n",
            "Extracted face landmarks from 150 frames\n",
            "Extracted face landmarks from 160 frames\n",
            "Extracted face landmarks from 170 frames\n",
            "Extracted face landmarks from 180 frames\n",
            "Extracted face landmarks from 190 frames\n",
            "Extracted face landmarks from 200 frames\n",
            "Extracted face landmarks from 210 frames\n"
          ],
          "name": "stdout"
        }
      ]
    },
    {
      "cell_type": "code",
      "metadata": {
        "id": "ovH38VkL2tZC",
        "colab_type": "code",
        "colab": {}
      },
      "source": [
        "def EAR(arr):\n",
        "\tx1,x2,x3 = distance.euclidean(arr[1], arr[5]),distance.euclidean(arr[2], arr[4]),distance.euclidean(arr[0], arr[3])\n",
        "\tfrac = (x1+ x2) / (2.0 * x3)\n",
        "\treturn frac\n",
        "\n",
        "def MAR(arr):\n",
        "    x1,x2 = distance.euclidean(arr[14], arr[18]), distance.euclidean(arr[12], arr[16])\n",
        "    frac = x1/x2\n",
        "    return frac\n",
        "\n",
        "def PUC(arr):\n",
        "    r = distance.euclidean(arr[1], arr[4])/2.0\n",
        "    area = math.pi*(r**2)\n",
        "    peri = 0\n",
        "    for i in range(0,5):\n",
        "      peri = peri + distance.euclidean(arr[i], arr[i+1])\n",
        "    peri = peri + distance.euclidean(arr[5], arr[0])\n",
        "    return 4 * math.pi * area /(peri**2)"
      ],
      "execution_count": 0,
      "outputs": []
    },
    {
      "cell_type": "code",
      "metadata": {
        "id": "AtE4Dv3vDRw7",
        "colab_type": "code",
        "colab": {}
      },
      "source": [
        "features = []\n",
        "for l in lm:\n",
        "  mainMarks = l[36:68]\n",
        "  x1, x2, x3 = EAR(mainMarks), MAR(mainMarks), PUC(mainMarks)\n",
        "  features.append([x1, x2, x3, x2/x1])\n",
        "features = np.array(features)"
      ],
      "execution_count": 0,
      "outputs": []
    },
    {
      "cell_type": "code",
      "metadata": {
        "id": "JhFwITqPDyC2",
        "colab_type": "code",
        "colab": {}
      },
      "source": [
        "np.savetxt(\"test1.csv\", features, delimiter = \",\")"
      ],
      "execution_count": 0,
      "outputs": []
    },
    {
      "cell_type": "code",
      "metadata": {
        "id": "R2aikOVCD6XW",
        "colab_type": "code",
        "colab": {}
      },
      "source": [
        "import pandas as pd"
      ],
      "execution_count": 0,
      "outputs": []
    },
    {
      "cell_type": "code",
      "metadata": {
        "id": "t2jWUjF1EmsQ",
        "colab_type": "code",
        "colab": {}
      },
      "source": [
        "df=pd.read_csv('/content/test1.csv')"
      ],
      "execution_count": 0,
      "outputs": []
    },
    {
      "cell_type": "code",
      "metadata": {
        "id": "VQrd9Lh3Ex0T",
        "colab_type": "code",
        "colab": {}
      },
      "source": [
        "df.columns = ['x1','x2','x3','x4']"
      ],
      "execution_count": 0,
      "outputs": []
    },
    {
      "cell_type": "code",
      "metadata": {
        "id": "UnqitYkWGyGc",
        "colab_type": "code",
        "colab": {}
      },
      "source": [
        "df_temp = df.iloc[0:3, :]\n",
        "df_mean = df_temp.mean()\n",
        "df_std = df_temp.std()\n",
        "df[\"x1_norm\"]=(df[\"x1\"]-df_mean[\"x1\"])/df_std[\"x1\"]\n",
        "df[\"x2_norm\"]=(df[\"x2\"]-df_mean[\"x2\"])/df_std[\"x2\"]\n",
        "df[\"x3_norm\"]=(df[\"x3\"]-df_mean[\"x3\"])/df_std[\"x3\"]\n",
        "df[\"x4_norm\"]=(df[\"x4\"]-df_mean[\"x4\"])/df_std[\"x4\"]"
      ],
      "execution_count": 0,
      "outputs": []
    },
    {
      "cell_type": "code",
      "metadata": {
        "id": "v-Gh6VhBHCKm",
        "colab_type": "code",
        "outputId": "4199c345-e16c-4634-eba8-18053955601e",
        "colab": {
          "base_uri": "https://localhost:8080/",
          "height": 419
        }
      },
      "source": [
        "df"
      ],
      "execution_count": 226,
      "outputs": [
        {
          "output_type": "execute_result",
          "data": {
            "text/html": [
              "<div>\n",
              "<style scoped>\n",
              "    .dataframe tbody tr th:only-of-type {\n",
              "        vertical-align: middle;\n",
              "    }\n",
              "\n",
              "    .dataframe tbody tr th {\n",
              "        vertical-align: top;\n",
              "    }\n",
              "\n",
              "    .dataframe thead th {\n",
              "        text-align: right;\n",
              "    }\n",
              "</style>\n",
              "<table border=\"1\" class=\"dataframe\">\n",
              "  <thead>\n",
              "    <tr style=\"text-align: right;\">\n",
              "      <th></th>\n",
              "      <th>x1</th>\n",
              "      <th>x2</th>\n",
              "      <th>x3</th>\n",
              "      <th>x4</th>\n",
              "      <th>x1_norm</th>\n",
              "      <th>x2_norm</th>\n",
              "      <th>x3_norm</th>\n",
              "      <th>x4_norm</th>\n",
              "    </tr>\n",
              "  </thead>\n",
              "  <tbody>\n",
              "    <tr>\n",
              "      <th>0</th>\n",
              "      <td>0.273810</td>\n",
              "      <td>0.981272</td>\n",
              "      <td>0.433081</td>\n",
              "      <td>3.583776</td>\n",
              "      <td>-1.103997</td>\n",
              "      <td>0.499450</td>\n",
              "      <td>-0.456990</td>\n",
              "      <td>1.118775</td>\n",
              "    </tr>\n",
              "    <tr>\n",
              "      <th>1</th>\n",
              "      <td>0.298487</td>\n",
              "      <td>0.985739</td>\n",
              "      <td>0.445401</td>\n",
              "      <td>3.302454</td>\n",
              "      <td>0.845074</td>\n",
              "      <td>0.651891</td>\n",
              "      <td>1.146847</td>\n",
              "      <td>-0.311887</td>\n",
              "    </tr>\n",
              "    <tr>\n",
              "      <th>2</th>\n",
              "      <td>0.291066</td>\n",
              "      <td>0.932899</td>\n",
              "      <td>0.431292</td>\n",
              "      <td>3.205118</td>\n",
              "      <td>0.258923</td>\n",
              "      <td>-1.151342</td>\n",
              "      <td>-0.689856</td>\n",
              "      <td>-0.806888</td>\n",
              "    </tr>\n",
              "    <tr>\n",
              "      <th>3</th>\n",
              "      <td>0.330244</td>\n",
              "      <td>1.000000</td>\n",
              "      <td>0.455564</td>\n",
              "      <td>3.028065</td>\n",
              "      <td>3.353318</td>\n",
              "      <td>1.138569</td>\n",
              "      <td>2.469896</td>\n",
              "      <td>-1.707289</td>\n",
              "    </tr>\n",
              "    <tr>\n",
              "      <th>4</th>\n",
              "      <td>0.292596</td>\n",
              "      <td>1.089870</td>\n",
              "      <td>0.447431</td>\n",
              "      <td>3.724831</td>\n",
              "      <td>0.379795</td>\n",
              "      <td>4.205533</td>\n",
              "      <td>1.411046</td>\n",
              "      <td>1.836107</td>\n",
              "    </tr>\n",
              "    <tr>\n",
              "      <th>...</th>\n",
              "      <td>...</td>\n",
              "      <td>...</td>\n",
              "      <td>...</td>\n",
              "      <td>...</td>\n",
              "      <td>...</td>\n",
              "      <td>...</td>\n",
              "      <td>...</td>\n",
              "      <td>...</td>\n",
              "    </tr>\n",
              "    <tr>\n",
              "      <th>205</th>\n",
              "      <td>0.270097</td>\n",
              "      <td>1.003771</td>\n",
              "      <td>0.443544</td>\n",
              "      <td>3.716338</td>\n",
              "      <td>-1.397234</td>\n",
              "      <td>1.267268</td>\n",
              "      <td>0.905030</td>\n",
              "      <td>1.792919</td>\n",
              "    </tr>\n",
              "    <tr>\n",
              "      <th>206</th>\n",
              "      <td>0.256965</td>\n",
              "      <td>1.018859</td>\n",
              "      <td>0.406857</td>\n",
              "      <td>3.964970</td>\n",
              "      <td>-2.434398</td>\n",
              "      <td>1.782174</td>\n",
              "      <td>-3.870750</td>\n",
              "      <td>3.057331</td>\n",
              "    </tr>\n",
              "    <tr>\n",
              "      <th>207</th>\n",
              "      <td>0.223684</td>\n",
              "      <td>1.008806</td>\n",
              "      <td>0.365734</td>\n",
              "      <td>4.509955</td>\n",
              "      <td>-5.063010</td>\n",
              "      <td>1.439081</td>\n",
              "      <td>-9.224126</td>\n",
              "      <td>5.828851</td>\n",
              "    </tr>\n",
              "    <tr>\n",
              "      <th>208</th>\n",
              "      <td>0.263361</td>\n",
              "      <td>1.007321</td>\n",
              "      <td>0.371471</td>\n",
              "      <td>3.824860</td>\n",
              "      <td>-1.929209</td>\n",
              "      <td>1.388401</td>\n",
              "      <td>-8.477314</td>\n",
              "      <td>2.344805</td>\n",
              "    </tr>\n",
              "    <tr>\n",
              "      <th>209</th>\n",
              "      <td>0.294775</td>\n",
              "      <td>1.021218</td>\n",
              "      <td>0.450527</td>\n",
              "      <td>3.464400</td>\n",
              "      <td>0.551898</td>\n",
              "      <td>1.862673</td>\n",
              "      <td>1.814102</td>\n",
              "      <td>0.511688</td>\n",
              "    </tr>\n",
              "  </tbody>\n",
              "</table>\n",
              "<p>210 rows × 8 columns</p>\n",
              "</div>"
            ],
            "text/plain": [
              "           x1        x2        x3  ...   x2_norm   x3_norm   x4_norm\n",
              "0    0.273810  0.981272  0.433081  ...  0.499450 -0.456990  1.118775\n",
              "1    0.298487  0.985739  0.445401  ...  0.651891  1.146847 -0.311887\n",
              "2    0.291066  0.932899  0.431292  ... -1.151342 -0.689856 -0.806888\n",
              "3    0.330244  1.000000  0.455564  ...  1.138569  2.469896 -1.707289\n",
              "4    0.292596  1.089870  0.447431  ...  4.205533  1.411046  1.836107\n",
              "..        ...       ...       ...  ...       ...       ...       ...\n",
              "205  0.270097  1.003771  0.443544  ...  1.267268  0.905030  1.792919\n",
              "206  0.256965  1.018859  0.406857  ...  1.782174 -3.870750  3.057331\n",
              "207  0.223684  1.008806  0.365734  ...  1.439081 -9.224126  5.828851\n",
              "208  0.263361  1.007321  0.371471  ...  1.388401 -8.477314  2.344805\n",
              "209  0.294775  1.021218  0.450527  ...  1.862673  1.814102  0.511688\n",
              "\n",
              "[210 rows x 8 columns]"
            ]
          },
          "metadata": {
            "tags": []
          },
          "execution_count": 226
        }
      ]
    },
    {
      "cell_type": "code",
      "metadata": {
        "id": "lzWABLjNHFi3",
        "colab_type": "code",
        "colab": {}
      },
      "source": [
        "df = df.drop([\"x1\",\"x2\",\"x3\",\"x4\"],axis=1)"
      ],
      "execution_count": 0,
      "outputs": []
    },
    {
      "cell_type": "code",
      "metadata": {
        "id": "MJXt3OTwHUyU",
        "colab_type": "code",
        "outputId": "b19c6209-b03e-4492-e060-dff94e83834f",
        "colab": {
          "base_uri": "https://localhost:8080/",
          "height": 419
        }
      },
      "source": [
        "df"
      ],
      "execution_count": 228,
      "outputs": [
        {
          "output_type": "execute_result",
          "data": {
            "text/html": [
              "<div>\n",
              "<style scoped>\n",
              "    .dataframe tbody tr th:only-of-type {\n",
              "        vertical-align: middle;\n",
              "    }\n",
              "\n",
              "    .dataframe tbody tr th {\n",
              "        vertical-align: top;\n",
              "    }\n",
              "\n",
              "    .dataframe thead th {\n",
              "        text-align: right;\n",
              "    }\n",
              "</style>\n",
              "<table border=\"1\" class=\"dataframe\">\n",
              "  <thead>\n",
              "    <tr style=\"text-align: right;\">\n",
              "      <th></th>\n",
              "      <th>x1_norm</th>\n",
              "      <th>x2_norm</th>\n",
              "      <th>x3_norm</th>\n",
              "      <th>x4_norm</th>\n",
              "    </tr>\n",
              "  </thead>\n",
              "  <tbody>\n",
              "    <tr>\n",
              "      <th>0</th>\n",
              "      <td>-1.103997</td>\n",
              "      <td>0.499450</td>\n",
              "      <td>-0.456990</td>\n",
              "      <td>1.118775</td>\n",
              "    </tr>\n",
              "    <tr>\n",
              "      <th>1</th>\n",
              "      <td>0.845074</td>\n",
              "      <td>0.651891</td>\n",
              "      <td>1.146847</td>\n",
              "      <td>-0.311887</td>\n",
              "    </tr>\n",
              "    <tr>\n",
              "      <th>2</th>\n",
              "      <td>0.258923</td>\n",
              "      <td>-1.151342</td>\n",
              "      <td>-0.689856</td>\n",
              "      <td>-0.806888</td>\n",
              "    </tr>\n",
              "    <tr>\n",
              "      <th>3</th>\n",
              "      <td>3.353318</td>\n",
              "      <td>1.138569</td>\n",
              "      <td>2.469896</td>\n",
              "      <td>-1.707289</td>\n",
              "    </tr>\n",
              "    <tr>\n",
              "      <th>4</th>\n",
              "      <td>0.379795</td>\n",
              "      <td>4.205533</td>\n",
              "      <td>1.411046</td>\n",
              "      <td>1.836107</td>\n",
              "    </tr>\n",
              "    <tr>\n",
              "      <th>...</th>\n",
              "      <td>...</td>\n",
              "      <td>...</td>\n",
              "      <td>...</td>\n",
              "      <td>...</td>\n",
              "    </tr>\n",
              "    <tr>\n",
              "      <th>205</th>\n",
              "      <td>-1.397234</td>\n",
              "      <td>1.267268</td>\n",
              "      <td>0.905030</td>\n",
              "      <td>1.792919</td>\n",
              "    </tr>\n",
              "    <tr>\n",
              "      <th>206</th>\n",
              "      <td>-2.434398</td>\n",
              "      <td>1.782174</td>\n",
              "      <td>-3.870750</td>\n",
              "      <td>3.057331</td>\n",
              "    </tr>\n",
              "    <tr>\n",
              "      <th>207</th>\n",
              "      <td>-5.063010</td>\n",
              "      <td>1.439081</td>\n",
              "      <td>-9.224126</td>\n",
              "      <td>5.828851</td>\n",
              "    </tr>\n",
              "    <tr>\n",
              "      <th>208</th>\n",
              "      <td>-1.929209</td>\n",
              "      <td>1.388401</td>\n",
              "      <td>-8.477314</td>\n",
              "      <td>2.344805</td>\n",
              "    </tr>\n",
              "    <tr>\n",
              "      <th>209</th>\n",
              "      <td>0.551898</td>\n",
              "      <td>1.862673</td>\n",
              "      <td>1.814102</td>\n",
              "      <td>0.511688</td>\n",
              "    </tr>\n",
              "  </tbody>\n",
              "</table>\n",
              "<p>210 rows × 4 columns</p>\n",
              "</div>"
            ],
            "text/plain": [
              "      x1_norm   x2_norm   x3_norm   x4_norm\n",
              "0   -1.103997  0.499450 -0.456990  1.118775\n",
              "1    0.845074  0.651891  1.146847 -0.311887\n",
              "2    0.258923 -1.151342 -0.689856 -0.806888\n",
              "3    3.353318  1.138569  2.469896 -1.707289\n",
              "4    0.379795  4.205533  1.411046  1.836107\n",
              "..        ...       ...       ...       ...\n",
              "205 -1.397234  1.267268  0.905030  1.792919\n",
              "206 -2.434398  1.782174 -3.870750  3.057331\n",
              "207 -5.063010  1.439081 -9.224126  5.828851\n",
              "208 -1.929209  1.388401 -8.477314  2.344805\n",
              "209  0.551898  1.862673  1.814102  0.511688\n",
              "\n",
              "[210 rows x 4 columns]"
            ]
          },
          "metadata": {
            "tags": []
          },
          "execution_count": 228
        }
      ]
    },
    {
      "cell_type": "code",
      "metadata": {
        "id": "iD15M1QbHVVS",
        "colab_type": "code",
        "colab": {}
      },
      "source": [
        "df = np.expand_dims(df, axis=2)\n",
        "tp = model.predict_classes(df)"
      ],
      "execution_count": 0,
      "outputs": []
    },
    {
      "cell_type": "code",
      "metadata": {
        "id": "BWCd1GdWITkK",
        "colab_type": "code",
        "colab": {}
      },
      "source": [
        "tp = np.array(tp)"
      ],
      "execution_count": 0,
      "outputs": []
    },
    {
      "cell_type": "code",
      "metadata": {
        "id": "cuMmguW1IUNd",
        "colab_type": "code",
        "colab": {}
      },
      "source": [
        "val = []\n",
        "for i in range(len(tp)): val.append(tp[i][0])"
      ],
      "execution_count": 0,
      "outputs": []
    },
    {
      "cell_type": "markdown",
      "metadata": {
        "id": "6WqupK6X4jYt",
        "colab_type": "text"
      },
      "source": [
        "# Output graph"
      ]
    },
    {
      "cell_type": "code",
      "metadata": {
        "id": "aRF-Qw-UIjzW",
        "colab_type": "code",
        "outputId": "14154d0e-9456-40a5-fc7b-baa8ca178212",
        "colab": {
          "base_uri": "https://localhost:8080/",
          "height": 312
        }
      },
      "source": [
        "x = np.arange(0,(len(val)*0.6)-1,0.6)\n",
        "plt.plot(x,val[:len(val)-1])\n",
        "plt.xlabel('time (in seconds)')\n",
        "plt.ylabel('states (state = 1 means the person feels dizzy)')\n",
        "plt.title('label vs time')"
      ],
      "execution_count": 232,
      "outputs": [
        {
          "output_type": "execute_result",
          "data": {
            "text/plain": [
              "Text(0.5, 1.0, 'label vs time')"
            ]
          },
          "metadata": {
            "tags": []
          },
          "execution_count": 232
        },
        {
          "output_type": "display_data",
          "data": {
            "image/png": "[encoded data removed]",
            "text/plain": [
              "<Figure size 432x288 with 1 Axes>"
            ]
          },
          "metadata": {
            "tags": []
          }
        }
      ]
    },
    {
      "cell_type": "code",
      "metadata": {
        "id": "MDdXo4mNi9PZ",
        "colab_type": "code",
        "colab": {}
      },
      "source": [
        "def straighter(arr):\n",
        "  new_val = []\n",
        "  new_val = [arr[0],arr[1]]\n",
        "  for i in range(len(arr)):\n",
        "    b1 = 0\n",
        "    if arr[i-2] == 1: b1=b1+1\n",
        "    if arr[i-1] == 1: b1=b1+1\n",
        "    if arr[i] == 1: b1=b1+1\n",
        "    if b1>1: new_val.append(1)\n",
        "    if b1==0 or b1==1: new_val.append(0)\n",
        "  return new_val"
      ],
      "execution_count": 0,
      "outputs": []
    },
    {
      "cell_type": "code",
      "metadata": {
        "id": "bsXtwvvuoMpZ",
        "colab_type": "code",
        "colab": {}
      },
      "source": [
        "new_val = straighter(val)"
      ],
      "execution_count": 0,
      "outputs": []
    },
    {
      "cell_type": "code",
      "metadata": {
        "id": "CeiBNV6KkyeD",
        "colab_type": "code",
        "colab": {}
      },
      "source": [
        "new_val = straighter(new_val)"
      ],
      "execution_count": 0,
      "outputs": []
    },
    {
      "cell_type": "code",
      "metadata": {
        "id": "hATh-K8znNWb",
        "colab_type": "code",
        "colab": {
          "base_uri": "https://localhost:8080/",
          "height": 312
        },
        "outputId": "af93db6a-ee2a-4f2d-d565-b3854cdc3961"
      },
      "source": [
        "plt.plot(x,new_val[:len(val)-1])\n",
        "plt.xlabel('time (in seconds)')\n",
        "plt.ylabel('states (state = 1 means the person feels dizzy)')\n",
        "plt.title('label vs time')"
      ],
      "execution_count": 235,
      "outputs": [
        {
          "output_type": "execute_result",
          "data": {
            "text/plain": [
              "Text(0.5, 1.0, 'label vs time')"
            ]
          },
          "metadata": {
            "tags": []
          },
          "execution_count": 235
        },
        {
          "output_type": "display_data",
          "data": {
            "image/png": "[encoded data removed]",
            "text/plain": [
              "<Figure size 432x288 with 1 Axes>"
            ]
          },
          "metadata": {
            "tags": []
          }
        }
      ]
    },
    {
      "cell_type": "code",
      "metadata": {
        "id": "K8C8zrb8syre",
        "colab_type": "code",
        "colab": {}
      },
      "source": [
        "def straight1(arr):\n",
        "  temp = []\n",
        "  temp = [arr[0],arr[1]]\n",
        "  for i in range(len(arr)-2):\n",
        "    co=0\n",
        "    co = [arr[i-2],arr[i-1],arr[i],arr[i+1],arr[i+2]].count(1)\n",
        "    if co >2: temp.append(1)\n",
        "    else: temp.append(0)\n",
        "  return temp"
      ],
      "execution_count": 0,
      "outputs": []
    },
    {
      "cell_type": "code",
      "metadata": {
        "id": "prZH4yd1w5Cy",
        "colab_type": "code",
        "colab": {}
      },
      "source": [
        "val1 = straight1(val)"
      ],
      "execution_count": 0,
      "outputs": []
    },
    {
      "cell_type": "code",
      "metadata": {
        "id": "BDqWTGeEvDnP",
        "colab_type": "code",
        "colab": {
          "base_uri": "https://localhost:8080/",
          "height": 312
        },
        "outputId": "2ee49d2f-7a9c-4f72-84b3-0c92ac6f4053"
      },
      "source": [
        "plt.plot(x,val1[:len(val)-1])\n",
        "plt.xlabel('time (in seconds)')\n",
        "plt.ylabel('states (state = 1 means the person feels dizzy)')\n",
        "plt.title('label vs time')"
      ],
      "execution_count": 238,
      "outputs": [
        {
          "output_type": "execute_result",
          "data": {
            "text/plain": [
              "Text(0.5, 1.0, 'label vs time')"
            ]
          },
          "metadata": {
            "tags": []
          },
          "execution_count": 238
        },
        {
          "output_type": "display_data",
          "data": {
            "image/png": "[encoded data removed]",
            "text/plain": [
              "<Figure size 432x288 with 1 Axes>"
            ]
          },
          "metadata": {
            "tags": []
          }
        }
      ]
    },
    {
      "cell_type": "markdown",
      "metadata": {
        "id": "8J9W2KqV4tSJ",
        "colab_type": "text"
      },
      "source": [
        "# Generating JSON file"
      ]
    },
    {
      "cell_type": "code",
      "metadata": {
        "id": "gQPBfXUDpdxa",
        "colab_type": "code",
        "colab": {
          "base_uri": "https://localhost:8080/",
          "height": 34
        },
        "outputId": "e4712e13-e798-4eff-85e7-1d1c6726d749"
      },
      "source": [
        "y_score.shape"
      ],
      "execution_count": 128,
      "outputs": [
        {
          "output_type": "execute_result",
          "data": {
            "text/plain": [
              "(476, 1)"
            ]
          },
          "metadata": {
            "tags": []
          },
          "execution_count": 128
        }
      ]
    },
    {
      "cell_type": "code",
      "metadata": {
        "id": "tuGH_aGKnpp0",
        "colab_type": "code",
        "colab": {}
      },
      "source": [
        "fin=[]\n",
        "for i in range(len(val)):\n",
        "  fin.append([str(i*0.6),str(val[i])])"
      ],
      "execution_count": 0,
      "outputs": []
    },
    {
      "cell_type": "code",
      "metadata": {
        "id": "amBMM2Z0zSK7",
        "colab_type": "code",
        "colab": {}
      },
      "source": [
        "dt = {}\n",
        "dt['dizzy']=fin"
      ],
      "execution_count": 0,
      "outputs": []
    },
    {
      "cell_type": "code",
      "metadata": {
        "id": "5nlWdBo5XnoU",
        "colab_type": "code",
        "colab": {}
      },
      "source": [
        "import json"
      ],
      "execution_count": 0,
      "outputs": []
    },
    {
      "cell_type": "code",
      "metadata": {
        "id": "k9SO7CUny9w5",
        "colab_type": "code",
        "colab": {}
      },
      "source": [
        "with open('test5.json', 'w') as f:\n",
        "    json.dump(dt, f)"
      ],
      "execution_count": 0,
      "outputs": []
    },
    {
      "cell_type": "markdown",
      "metadata": {
        "id": "WDZWm98nY7rZ",
        "colab_type": "text"
      },
      "source": [
        "## Saving model\n",
        "\n"
      ]
    },
    {
      "cell_type": "code",
      "metadata": {
        "id": "5U_KbV5k5dg8",
        "colab_type": "code",
        "colab": {}
      },
      "source": [
        "model.save_weights(\"model_weights.h5\")"
      ],
      "execution_count": 0,
      "outputs": []
    },
    {
      "cell_type": "code",
      "metadata": {
        "id": "oz4rW9XEYoUc",
        "colab_type": "code",
        "colab": {}
      },
      "source": [
        "model.save('my_model.h5')"
      ],
      "execution_count": 0,
      "outputs": []
    },
    {
      "cell_type": "code",
      "metadata": {
        "id": "scf-4zpEZawG",
        "colab_type": "code",
        "colab": {}
      },
      "source": [
        ""
      ],
      "execution_count": 0,
      "outputs": []
    }
  ]
}