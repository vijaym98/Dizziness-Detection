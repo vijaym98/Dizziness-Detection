{
  "nbformat": 4,
  "nbformat_minor": 0,
  "metadata": {
    "colab": {
      "name": "Normalization.ipynb",
      "provenance": [],
      "collapsed_sections": [],
      "toc_visible": true
    },
    "kernelspec": {
      "name": "python3",
      "display_name": "Python 3"
    }
  },
  "cells": [
    {
      "cell_type": "code",
      "metadata": {
        "id": "g0a3eyjDvlB4",
        "colab_type": "code",
        "outputId": "35ade740-a1fd-481e-8d69-fd54126cdf67",
        "colab": {
          "base_uri": "https://localhost:8080/",
          "height": 122
        }
      },
      "source": [
        "from google.colab import drive\n",
        "drive.mount('/content/drive')"
      ],
      "execution_count": 0,
      "outputs": [
        {
          "output_type": "stream",
          "text": [
            "Go to this URL in a browser: https://accounts.google.com/o/oauth2/auth?client_id=947318989803-6bn6qk8qdgf4n4g3pfee6491hc0brc4i.apps.googleusercontent.com&redirect_uri=urn%3aietf%3awg%3aoauth%3a2.0%3aoob&response_type=code&scope=email%20https%3a%2f%2fwww.googleapis.com%2fauth%2fdocs.test%20https%3a%2f%2fwww.googleapis.com%2fauth%2fdrive%20https%3a%2f%2fwww.googleapis.com%2fauth%2fdrive.photos.readonly%20https%3a%2f%2fwww.googleapis.com%2fauth%2fpeopleapi.readonly\n",
            "\n",
            "Enter your authorization code:\n",
            "··········\n",
            "Mounted at /content/drive\n"
          ],
          "name": "stdout"
        }
      ]
    },
    {
      "cell_type": "code",
      "metadata": {
        "id": "FO9z7P2ivpma",
        "colab_type": "code",
        "colab": {}
      },
      "source": [
        "import pandas as pd"
      ],
      "execution_count": 0,
      "outputs": []
    },
    {
      "cell_type": "markdown",
      "metadata": {
        "id": "guGmew6WPs4b",
        "colab_type": "text"
      },
      "source": [
        "Just for checking the dimensions of the files\n"
      ]
    },
    {
      "cell_type": "code",
      "metadata": {
        "id": "JFVPL6HJwFGM",
        "colab_type": "code",
        "colab": {}
      },
      "source": [
        "df0=pd.read_csv('/content/drive/My Drive/Untitled folder/Main_extraction copy/Individual data files/1a/features_1a.csv')\n",
        "df1=pd.read_csv('/content/drive/My Drive/Untitled folder/Main_extraction copy/Individual data files/1a/labels_1a.csv')"
      ],
      "execution_count": 0,
      "outputs": []
    },
    {
      "cell_type": "code",
      "metadata": {
        "id": "b0pLLuZ1xUIZ",
        "colab_type": "code",
        "outputId": "bb2ce741-69b6-4e75-b85f-a08eb460a696",
        "colab": {
          "base_uri": "https://localhost:8080/",
          "height": 34
        }
      },
      "source": [
        "df0.shape"
      ],
      "execution_count": 0,
      "outputs": [
        {
          "output_type": "execute_result",
          "data": {
            "text/plain": [
              "(239, 4)"
            ]
          },
          "metadata": {
            "tags": []
          },
          "execution_count": 5
        }
      ]
    },
    {
      "cell_type": "code",
      "metadata": {
        "id": "YZEzEW25xX6u",
        "colab_type": "code",
        "outputId": "80402d01-2802-463f-9f63-93742bd160b4",
        "colab": {
          "base_uri": "https://localhost:8080/",
          "height": 34
        }
      },
      "source": [
        "df1.shape"
      ],
      "execution_count": 0,
      "outputs": [
        {
          "output_type": "execute_result",
          "data": {
            "text/plain": [
              "(239, 1)"
            ]
          },
          "metadata": {
            "tags": []
          },
          "execution_count": 6
        }
      ]
    },
    {
      "cell_type": "code",
      "metadata": {
        "id": "1XrTcKTFwsL6",
        "colab_type": "code",
        "colab": {}
      },
      "source": [
        "df=pd.concat([df0, df1], axis=1)"
      ],
      "execution_count": 0,
      "outputs": []
    },
    {
      "cell_type": "code",
      "metadata": {
        "id": "gbzjng5Qxask",
        "colab_type": "code",
        "outputId": "65667352-0eeb-45ae-d4e7-1f0979904461",
        "colab": {
          "base_uri": "https://localhost:8080/",
          "height": 34
        }
      },
      "source": [
        "df.shape"
      ],
      "execution_count": 0,
      "outputs": [
        {
          "output_type": "execute_result",
          "data": {
            "text/plain": [
              "(239, 5)"
            ]
          },
          "metadata": {
            "tags": []
          },
          "execution_count": 8
        }
      ]
    },
    {
      "cell_type": "code",
      "metadata": {
        "id": "g_EIqjBNxc5T",
        "colab_type": "code",
        "outputId": "816e9f25-e05c-47fd-85c3-ccd31d1e321f",
        "colab": {
          "base_uri": "https://localhost:8080/",
          "height": 456
        }
      },
      "source": [
        "df"
      ],
      "execution_count": 0,
      "outputs": [
        {
          "output_type": "execute_result",
          "data": {
            "text/html": [
              "<div>\n",
              "<style scoped>\n",
              "    .dataframe tbody tr th:only-of-type {\n",
              "        vertical-align: middle;\n",
              "    }\n",
              "\n",
              "    .dataframe tbody tr th {\n",
              "        vertical-align: top;\n",
              "    }\n",
              "\n",
              "    .dataframe thead th {\n",
              "        text-align: right;\n",
              "    }\n",
              "</style>\n",
              "<table border=\"1\" class=\"dataframe\">\n",
              "  <thead>\n",
              "    <tr style=\"text-align: right;\">\n",
              "      <th></th>\n",
              "      <th>3.091734712004211572e-01</th>\n",
              "      <th>7.078414377807370483e-01</th>\n",
              "      <th>4.669821753668563225e-01</th>\n",
              "      <th>2.289463695033135959e+00</th>\n",
              "      <th>0.000000000000000000e+00</th>\n",
              "    </tr>\n",
              "  </thead>\n",
              "  <tbody>\n",
              "    <tr>\n",
              "      <th>0</th>\n",
              "      <td>0.295455</td>\n",
              "      <td>0.737686</td>\n",
              "      <td>0.427900</td>\n",
              "      <td>2.496784</td>\n",
              "      <td>0.0</td>\n",
              "    </tr>\n",
              "    <tr>\n",
              "      <th>1</th>\n",
              "      <td>0.334646</td>\n",
              "      <td>0.755822</td>\n",
              "      <td>0.448502</td>\n",
              "      <td>2.258570</td>\n",
              "      <td>0.0</td>\n",
              "    </tr>\n",
              "    <tr>\n",
              "      <th>2</th>\n",
              "      <td>0.334646</td>\n",
              "      <td>0.761707</td>\n",
              "      <td>0.451543</td>\n",
              "      <td>2.276157</td>\n",
              "      <td>0.0</td>\n",
              "    </tr>\n",
              "    <tr>\n",
              "      <th>3</th>\n",
              "      <td>0.311494</td>\n",
              "      <td>0.820665</td>\n",
              "      <td>0.461714</td>\n",
              "      <td>2.634607</td>\n",
              "      <td>0.0</td>\n",
              "    </tr>\n",
              "    <tr>\n",
              "      <th>4</th>\n",
              "      <td>0.237826</td>\n",
              "      <td>0.758113</td>\n",
              "      <td>0.364942</td>\n",
              "      <td>3.187681</td>\n",
              "      <td>0.0</td>\n",
              "    </tr>\n",
              "    <tr>\n",
              "      <th>...</th>\n",
              "      <td>...</td>\n",
              "      <td>...</td>\n",
              "      <td>...</td>\n",
              "      <td>...</td>\n",
              "      <td>...</td>\n",
              "    </tr>\n",
              "    <tr>\n",
              "      <th>234</th>\n",
              "      <td>0.369779</td>\n",
              "      <td>0.745783</td>\n",
              "      <td>0.622861</td>\n",
              "      <td>2.016833</td>\n",
              "      <td>0.0</td>\n",
              "    </tr>\n",
              "    <tr>\n",
              "      <th>235</th>\n",
              "      <td>0.376556</td>\n",
              "      <td>0.760569</td>\n",
              "      <td>0.478438</td>\n",
              "      <td>2.019801</td>\n",
              "      <td>0.0</td>\n",
              "    </tr>\n",
              "    <tr>\n",
              "      <th>236</th>\n",
              "      <td>0.317967</td>\n",
              "      <td>0.753033</td>\n",
              "      <td>0.474517</td>\n",
              "      <td>2.368271</td>\n",
              "      <td>0.0</td>\n",
              "    </tr>\n",
              "    <tr>\n",
              "      <th>237</th>\n",
              "      <td>0.325000</td>\n",
              "      <td>0.713958</td>\n",
              "      <td>0.443564</td>\n",
              "      <td>2.196795</td>\n",
              "      <td>0.0</td>\n",
              "    </tr>\n",
              "    <tr>\n",
              "      <th>238</th>\n",
              "      <td>0.335025</td>\n",
              "      <td>0.777668</td>\n",
              "      <td>0.457640</td>\n",
              "      <td>2.321222</td>\n",
              "      <td>0.0</td>\n",
              "    </tr>\n",
              "  </tbody>\n",
              "</table>\n",
              "<p>239 rows × 5 columns</p>\n",
              "</div>"
            ],
            "text/plain": [
              "     3.091734712004211572e-01  ...  0.000000000000000000e+00\n",
              "0                    0.295455  ...                       0.0\n",
              "1                    0.334646  ...                       0.0\n",
              "2                    0.334646  ...                       0.0\n",
              "3                    0.311494  ...                       0.0\n",
              "4                    0.237826  ...                       0.0\n",
              "..                        ...  ...                       ...\n",
              "234                  0.369779  ...                       0.0\n",
              "235                  0.376556  ...                       0.0\n",
              "236                  0.317967  ...                       0.0\n",
              "237                  0.325000  ...                       0.0\n",
              "238                  0.335025  ...                       0.0\n",
              "\n",
              "[239 rows x 5 columns]"
            ]
          },
          "metadata": {
            "tags": []
          },
          "execution_count": 9
        }
      ]
    },
    {
      "cell_type": "code",
      "metadata": {
        "id": "CcdktVSvxd69",
        "colab_type": "code",
        "colab": {}
      },
      "source": [
        "df.columns = ['x1','x2','x3','x4','y']"
      ],
      "execution_count": 0,
      "outputs": []
    },
    {
      "cell_type": "code",
      "metadata": {
        "id": "brhA-pW6xmA7",
        "colab_type": "code",
        "outputId": "41f0f3c4-35ea-49d0-a4f8-e76d4425cc42",
        "colab": {
          "base_uri": "https://localhost:8080/",
          "height": 419
        }
      },
      "source": [
        "df"
      ],
      "execution_count": 0,
      "outputs": [
        {
          "output_type": "execute_result",
          "data": {
            "text/html": [
              "<div>\n",
              "<style scoped>\n",
              "    .dataframe tbody tr th:only-of-type {\n",
              "        vertical-align: middle;\n",
              "    }\n",
              "\n",
              "    .dataframe tbody tr th {\n",
              "        vertical-align: top;\n",
              "    }\n",
              "\n",
              "    .dataframe thead th {\n",
              "        text-align: right;\n",
              "    }\n",
              "</style>\n",
              "<table border=\"1\" class=\"dataframe\">\n",
              "  <thead>\n",
              "    <tr style=\"text-align: right;\">\n",
              "      <th></th>\n",
              "      <th>x1</th>\n",
              "      <th>x2</th>\n",
              "      <th>x3</th>\n",
              "      <th>x4</th>\n",
              "      <th>y</th>\n",
              "    </tr>\n",
              "  </thead>\n",
              "  <tbody>\n",
              "    <tr>\n",
              "      <th>0</th>\n",
              "      <td>0.295455</td>\n",
              "      <td>0.737686</td>\n",
              "      <td>0.427900</td>\n",
              "      <td>2.496784</td>\n",
              "      <td>0.0</td>\n",
              "    </tr>\n",
              "    <tr>\n",
              "      <th>1</th>\n",
              "      <td>0.334646</td>\n",
              "      <td>0.755822</td>\n",
              "      <td>0.448502</td>\n",
              "      <td>2.258570</td>\n",
              "      <td>0.0</td>\n",
              "    </tr>\n",
              "    <tr>\n",
              "      <th>2</th>\n",
              "      <td>0.334646</td>\n",
              "      <td>0.761707</td>\n",
              "      <td>0.451543</td>\n",
              "      <td>2.276157</td>\n",
              "      <td>0.0</td>\n",
              "    </tr>\n",
              "    <tr>\n",
              "      <th>3</th>\n",
              "      <td>0.311494</td>\n",
              "      <td>0.820665</td>\n",
              "      <td>0.461714</td>\n",
              "      <td>2.634607</td>\n",
              "      <td>0.0</td>\n",
              "    </tr>\n",
              "    <tr>\n",
              "      <th>4</th>\n",
              "      <td>0.237826</td>\n",
              "      <td>0.758113</td>\n",
              "      <td>0.364942</td>\n",
              "      <td>3.187681</td>\n",
              "      <td>0.0</td>\n",
              "    </tr>\n",
              "    <tr>\n",
              "      <th>...</th>\n",
              "      <td>...</td>\n",
              "      <td>...</td>\n",
              "      <td>...</td>\n",
              "      <td>...</td>\n",
              "      <td>...</td>\n",
              "    </tr>\n",
              "    <tr>\n",
              "      <th>234</th>\n",
              "      <td>0.369779</td>\n",
              "      <td>0.745783</td>\n",
              "      <td>0.622861</td>\n",
              "      <td>2.016833</td>\n",
              "      <td>0.0</td>\n",
              "    </tr>\n",
              "    <tr>\n",
              "      <th>235</th>\n",
              "      <td>0.376556</td>\n",
              "      <td>0.760569</td>\n",
              "      <td>0.478438</td>\n",
              "      <td>2.019801</td>\n",
              "      <td>0.0</td>\n",
              "    </tr>\n",
              "    <tr>\n",
              "      <th>236</th>\n",
              "      <td>0.317967</td>\n",
              "      <td>0.753033</td>\n",
              "      <td>0.474517</td>\n",
              "      <td>2.368271</td>\n",
              "      <td>0.0</td>\n",
              "    </tr>\n",
              "    <tr>\n",
              "      <th>237</th>\n",
              "      <td>0.325000</td>\n",
              "      <td>0.713958</td>\n",
              "      <td>0.443564</td>\n",
              "      <td>2.196795</td>\n",
              "      <td>0.0</td>\n",
              "    </tr>\n",
              "    <tr>\n",
              "      <th>238</th>\n",
              "      <td>0.335025</td>\n",
              "      <td>0.777668</td>\n",
              "      <td>0.457640</td>\n",
              "      <td>2.321222</td>\n",
              "      <td>0.0</td>\n",
              "    </tr>\n",
              "  </tbody>\n",
              "</table>\n",
              "<p>239 rows × 5 columns</p>\n",
              "</div>"
            ],
            "text/plain": [
              "           x1        x2        x3        x4    y\n",
              "0    0.295455  0.737686  0.427900  2.496784  0.0\n",
              "1    0.334646  0.755822  0.448502  2.258570  0.0\n",
              "2    0.334646  0.761707  0.451543  2.276157  0.0\n",
              "3    0.311494  0.820665  0.461714  2.634607  0.0\n",
              "4    0.237826  0.758113  0.364942  3.187681  0.0\n",
              "..        ...       ...       ...       ...  ...\n",
              "234  0.369779  0.745783  0.622861  2.016833  0.0\n",
              "235  0.376556  0.760569  0.478438  2.019801  0.0\n",
              "236  0.317967  0.753033  0.474517  2.368271  0.0\n",
              "237  0.325000  0.713958  0.443564  2.196795  0.0\n",
              "238  0.335025  0.777668  0.457640  2.321222  0.0\n",
              "\n",
              "[239 rows x 5 columns]"
            ]
          },
          "metadata": {
            "tags": []
          },
          "execution_count": 11
        }
      ]
    },
    {
      "cell_type": "markdown",
      "metadata": {
        "id": "FD4_eswwQHdE",
        "colab_type": "text"
      },
      "source": [
        "Combining features and labels to create a single csv file for 'alert' cases \n",
        "(Files ending with 'a')\n"
      ]
    },
    {
      "cell_type": "code",
      "metadata": {
        "id": "7oJDHSmwzOom",
        "colab_type": "code",
        "colab": {}
      },
      "source": [
        "for i in range(1,13):\n",
        "  df0 = pd.read_csv('/content/drive/My Drive/Untitled folder/Main_extraction copy/Individual data files/'+str(i)+'a/features_'+str(i)+'a.csv')\n",
        "  df1 = pd.read_csv('/content/drive/My Drive/Untitled folder/Main_extraction copy/Individual data files/'+str(i)+'a/labels_'+str(i)+'a.csv')\n",
        "  df=pd.concat([df0, df1], axis=1)\n",
        "  df.columns = ['x1','x2','x3','x4','y']\n",
        "  df.to_csv(str(i)+'a.csv')"
      ],
      "execution_count": 0,
      "outputs": []
    },
    {
      "cell_type": "markdown",
      "metadata": {
        "id": "ywjP_TixQiLc",
        "colab_type": "text"
      },
      "source": [
        "Combining features and labels to create a single csv file for 'dizzy' cases (Files ending with 'c')"
      ]
    },
    {
      "cell_type": "code",
      "metadata": {
        "id": "RmJd3ZdG2_WA",
        "colab_type": "code",
        "colab": {}
      },
      "source": [
        "for i in range(1,13):\n",
        "  df0 = pd.read_csv('/content/drive/My Drive/Untitled folder/Main_extraction copy/Individual data files/'+str(i)+'c/features_'+str(i)+'c.csv')\n",
        "  df1 = pd.read_csv('/content/drive/My Drive/Untitled folder/Main_extraction copy/Individual data files/'+str(i)+'c/labels_'+str(i)+'c.csv')\n",
        "  df=pd.concat([df0, df1], axis=1)\n",
        "  df.columns = ['x1','x2','x3','x4','y']\n",
        "  df.to_csv(str(i)+'c.csv')"
      ],
      "execution_count": 0,
      "outputs": []
    },
    {
      "cell_type": "markdown",
      "metadata": {
        "id": "OZ8ZF2lI7SjS",
        "colab_type": "text"
      },
      "source": [
        "Combining both the alert and drowsy case for each subject without normalization (Full data files are created)"
      ]
    },
    {
      "cell_type": "code",
      "metadata": {
        "id": "AbIc-wNj8tO4",
        "colab_type": "code",
        "colab": {}
      },
      "source": [
        "for i in range(1,13):\n",
        "  df0=pd.read_csv('/content/'+str(i)+'a.csv')\n",
        "  df1=pd.read_csv('/content/'+str(i)+'c.csv')\n",
        "  df= pd.concat([df0, df1], ignore_index=True)\n",
        "  df = df.drop(['Unnamed: 0'],axis=1)\n",
        "  df.to_csv(str(i)+'_fulldata.csv')"
      ],
      "execution_count": 0,
      "outputs": []
    },
    {
      "cell_type": "markdown",
      "metadata": {
        "id": "tMu6ZX9hQ_AW",
        "colab_type": "text"
      },
      "source": [
        "Normalisation of each subject and creating a seperate normalized file for each subject"
      ]
    },
    {
      "cell_type": "code",
      "metadata": {
        "id": "JIe9ZnHSkdWz",
        "colab_type": "code",
        "colab": {}
      },
      "source": [
        "for i in range(1,13):\n",
        "  df = pd.read_csv('/content/'+str(i)+'a.csv')\n",
        "  df_temp = df.iloc[0:3, :]\n",
        "  df_mean = df_temp.mean()\n",
        "  df_std = df_temp.std()\n",
        "  df[\"x1_norm\"]=(df[\"x1\"]-df_mean[\"x1\"])/df_std[\"x1\"]\n",
        "  df[\"x2_norm\"]=(df[\"x2\"]-df_mean[\"x2\"])/df_std[\"x2\"]\n",
        "  df[\"x3_norm\"]=(df[\"x3\"]-df_mean[\"x3\"])/df_std[\"x3\"]\n",
        "  df[\"x4_norm\"]=(df[\"x4\"]-df_mean[\"x4\"])/df_std[\"x4\"]\n",
        "  df = df.drop([\"x1\",\"x2\",\"x3\",\"x4\"],axis=1)\n",
        "  df1 = pd.read_csv('/content/'+str(i)+'c.csv')\n",
        "  #df1_temp = df1.iloc[0:3, :]\n",
        "  #df1_mean = df1_temp.mean()\n",
        "  #df1_std = df1_temp.std()\n",
        "  df1[\"x1_norm\"]=(df1[\"x1\"]-df_mean[\"x1\"])/df_std[\"x1\"]\n",
        "  df1[\"x2_norm\"]=(df1[\"x2\"]-df_mean[\"x2\"])/df_std[\"x2\"]\n",
        "  df1[\"x3_norm\"]=(df1[\"x3\"]-df_mean[\"x3\"])/df_std[\"x3\"]\n",
        "  df1[\"x4_norm\"]=(df1[\"x4\"]-df_mean[\"x4\"])/df_std[\"x4\"]\n",
        "  df1 = df1.drop([\"x1\",\"x2\",\"x3\",\"x4\"],axis=1)\n",
        "  df_final= pd.concat([df, df1], ignore_index=True)\n",
        "  df_final = df_final.drop(['Unnamed: 0'],axis=1)\n",
        "  df_final.to_csv(str(i)+'_fullnormalizeddata1.csv') "
      ],
      "execution_count": 0,
      "outputs": []
    },
    {
      "cell_type": "markdown",
      "metadata": {
        "id": "LSMQPdVhWt4P",
        "colab_type": "text"
      },
      "source": [
        "Combining all to obtain the final dataset"
      ]
    },
    {
      "cell_type": "code",
      "metadata": {
        "id": "zO9xkXoSMTXm",
        "colab_type": "code",
        "colab": {}
      },
      "source": [
        "df = pd.read_csv('/content/1_fullnormalizeddata1.csv')\n",
        "for i in range(2,13):\n",
        "  df_temp =  pd.read_csv('/content/'+str(i)+'_fullnormalizeddata1.csv')\n",
        "  df = pd.concat([df, df_temp], ignore_index=True)"
      ],
      "execution_count": 0,
      "outputs": []
    },
    {
      "cell_type": "code",
      "metadata": {
        "id": "WHL5iTk2TYra",
        "colab_type": "code",
        "colab": {}
      },
      "source": [
        "df = df.drop([\"Unnamed: 0\"],axis=1)\n",
        "df.to_csv('dataset1.csv') "
      ],
      "execution_count": 0,
      "outputs": []
    },
    {
      "cell_type": "code",
      "metadata": {
        "id": "IVYbXYiCVnRk",
        "colab_type": "code",
        "outputId": "12b0c245-b70f-45af-ad65-1391b53e4729",
        "colab": {
          "base_uri": "https://localhost:8080/",
          "height": 255
        }
      },
      "source": [
        "df.describe"
      ],
      "execution_count": 0,
      "outputs": [
        {
          "output_type": "execute_result",
          "data": {
            "text/plain": [
              "<bound method NDFrame.describe of          y   x1_norm   x2_norm   x3_norm   x4_norm\n",
              "0      0.0 -1.154701 -1.122356 -1.146603  1.152164\n",
              "1      0.0  0.577350  0.326150  0.455083 -0.642323\n",
              "2      0.0  0.577350  0.796206  0.691520 -0.509842\n",
              "3      0.0 -0.445832  5.505177  1.482286  2.190396\n",
              "4      0.0 -3.701568  0.509102 -6.041238  6.356754\n",
              "...    ...       ...       ...       ...       ...\n",
              "5711  10.0 -1.858304  9.530967  1.910482  5.817537\n",
              "5712  10.0 -1.786332  4.316762 -0.844454  3.701869\n",
              "5713  10.0 -2.680003  6.239826 -1.276456  5.937475\n",
              "5714  10.0 -0.948243  9.530967  1.275925  4.399905\n",
              "5715  10.0 -1.832815  8.275307 -0.919924  5.292387\n",
              "\n",
              "[5716 rows x 5 columns]>"
            ]
          },
          "metadata": {
            "tags": []
          },
          "execution_count": 22
        }
      ]
    },
    {
      "cell_type": "code",
      "metadata": {
        "id": "ca1ruoAFWokL",
        "colab_type": "code",
        "colab": {}
      },
      "source": [
        ""
      ],
      "execution_count": 0,
      "outputs": []
    }
  ]
}