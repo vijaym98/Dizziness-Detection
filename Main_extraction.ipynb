{
  "nbformat": 4,
  "nbformat_minor": 0,
  "metadata": {
    "colab": {
      "name": "Main_extraction.ipynb",
      "provenance": [],
      "collapsed_sections": [],
      "toc_visible": true
    },
    "kernelspec": {
      "name": "python3",
      "display_name": "Python 3"
    }
  },
  "cells": [
    {
      "cell_type": "code",
      "metadata": {
        "id": "vSxt1wXfGy80",
        "colab_type": "code",
        "colab": {}
      },
      "source": [
        "import numpy as np\n",
        "import math\n",
        "import cv2"
      ],
      "execution_count": 0,
      "outputs": []
    },
    {
      "cell_type": "code",
      "metadata": {
        "id": "aolh_ZD-aFL8",
        "colab_type": "code",
        "colab": {}
      },
      "source": [
        "from scipy.spatial import distance\n",
        "from mlxtend.image import extract_face_landmarks"
      ],
      "execution_count": 0,
      "outputs": []
    },
    {
      "cell_type": "code",
      "metadata": {
        "id": "oH5JJjAUH_sq",
        "colab_type": "code",
        "outputId": "8f54cdc6-69f8-4fcd-95e8-4e7ab462a327",
        "colab": {
          "base_uri": "https://localhost:8080/",
          "height": 122
        }
      },
      "source": [
        "from google.colab import drive\n",
        "drive.mount('/content/drive/')"
      ],
      "execution_count": 0,
      "outputs": [
        {
          "output_type": "stream",
          "text": [
            "Go to this URL in a browser: https://accounts.google.com/o/oauth2/auth?client_id=947318989803-6bn6qk8qdgf4n4g3pfee6491hc0brc4i.apps.googleusercontent.com&redirect_uri=urn%3aietf%3awg%3aoauth%3a2.0%3aoob&response_type=code&scope=email%20https%3a%2f%2fwww.googleapis.com%2fauth%2fdocs.test%20https%3a%2f%2fwww.googleapis.com%2fauth%2fdrive%20https%3a%2f%2fwww.googleapis.com%2fauth%2fdrive.photos.readonly%20https%3a%2f%2fwww.googleapis.com%2fauth%2fpeopleapi.readonly\n",
            "\n",
            "Enter your authorization code:\n",
            "··········\n",
            "Mounted at /content/drive/\n"
          ],
          "name": "stdout"
        }
      ]
    },
    {
      "cell_type": "code",
      "metadata": {
        "id": "_8TqBVJfBn36",
        "colab_type": "code",
        "colab": {}
      },
      "source": [
        "def images(x):\n",
        "    vc.set(cv2.CAP_PROP_POS_MSEC, x)\n",
        "    result,image = vc.read()\n",
        "    return result, image"
      ],
      "execution_count": 0,
      "outputs": []
    },
    {
      "cell_type": "markdown",
      "metadata": {
        "id": "vNVacQs8KvaL",
        "colab_type": "text"
      },
      "source": [
        "Proide details of the video in the below cell"
      ]
    },
    {
      "cell_type": "code",
      "metadata": {
        "id": "k2QiIlkSKr3h",
        "colab_type": "code",
        "colab": {}
      },
      "source": [
        "path = '/content/drive/My Drive/Untitled folder/Video/'\n",
        "filename = '9c.mp4'\n",
        "state = 'dizzy'"
      ],
      "execution_count": 0,
      "outputs": []
    },
    {
      "cell_type": "markdown",
      "metadata": {
        "id": "MQ8q2sF-5JGD",
        "colab_type": "text"
      },
      "source": [
        "Extracting facial landmarks from each frame in the video"
      ]
    },
    {
      "cell_type": "code",
      "metadata": {
        "id": "2P7ZqX_RHSPD",
        "colab_type": "code",
        "outputId": "159485b2-88e5-41a5-b4d7-9fbf834c8984",
        "colab": {
          "base_uri": "https://localhost:8080/",
          "height": 187
        }
      },
      "source": [
        "lm = []\n",
        "frames_max = 100 #number of frames needed per video\n",
        "vc = cv2.VideoCapture(path + filename)\n",
        "tim = 0\n",
        "result, image  = images(tim)\n",
        "count = 0\n",
        "while result and count < frames_max: \n",
        "    landmarks = extract_face_landmarks(image)\n",
        "    if sum(sum(landmarks)) != 0:\n",
        "        lm.append(landmarks)\n",
        "        tim +=1000 \n",
        "        result, image = images(tim)\n",
        "        count += 1\n",
        "        if count%10 == 0: print('Extracted face landmarks from '+str(count)+' frames')\n",
        "    else:  \n",
        "        tim += 1000\n",
        "        result, image = images(tim)\n",
        "        print('Face not detected in this frame, till now extracted from '+str(count)+' frames')\n",
        "lm = np.array(lm)\n",
        "qw = 0\n",
        "if state == 'dizzy': qw =1\n",
        "target = frames_max*[[qw]]"
      ],
      "execution_count": 0,
      "outputs": [
        {
          "output_type": "stream",
          "text": [
            "Extracted face landmarks from 10 frames\n",
            "Extracted face landmarks from 20 frames\n",
            "Extracted face landmarks from 30 frames\n",
            "Extracted face landmarks from 40 frames\n",
            "Extracted face landmarks from 50 frames\n",
            "Extracted face landmarks from 60 frames\n",
            "Extracted face landmarks from 70 frames\n",
            "Extracted face landmarks from 80 frames\n",
            "Extracted face landmarks from 90 frames\n",
            "Extracted face landmarks from 100 frames\n"
          ],
          "name": "stdout"
        }
      ]
    },
    {
      "cell_type": "code",
      "metadata": {
        "id": "b9WZHhgSSE2o",
        "colab_type": "code",
        "outputId": "ea5b4983-85d7-49b6-9ac2-2f25946db03b",
        "colab": {
          "base_uri": "https://localhost:8080/",
          "height": 34
        }
      },
      "source": [
        "lm.shape"
      ],
      "execution_count": 0,
      "outputs": [
        {
          "output_type": "execute_result",
          "data": {
            "text/plain": [
              "(100, 68, 2)"
            ]
          },
          "metadata": {
            "tags": []
          },
          "execution_count": 36
        }
      ]
    },
    {
      "cell_type": "markdown",
      "metadata": {
        "id": "oXCdtAg_5iVv",
        "colab_type": "text"
      },
      "source": [
        "Functions for each features"
      ]
    },
    {
      "cell_type": "code",
      "metadata": {
        "id": "_gD9yktMBb-k",
        "colab_type": "code",
        "colab": {}
      },
      "source": [
        "def EAR(arr):\n",
        "\tx1,x2,x3 = distance.euclidean(arr[1], arr[5]),distance.euclidean(arr[2], arr[4]),distance.euclidean(arr[0], arr[3])\n",
        "\tfrac = (x1+ x2) / (2.0 * x3)\n",
        "\treturn frac\n",
        "\n",
        "def MAR(arr):\n",
        "    x1,x2 = distance.euclidean(arr[14], arr[18]), distance.euclidean(arr[12], arr[16])\n",
        "    frac = x1/x2\n",
        "    return frac\n",
        "\n",
        "def PUC(arr):\n",
        "    r = distance.euclidean(arr[1], arr[4])/2.0\n",
        "    area = math.pi*(r**2)\n",
        "    peri = 0\n",
        "    for i in range(0,5):\n",
        "      peri = peri + distance.euclidean(arr[i], arr[i+1])\n",
        "    peri = peri + distance.euclidean(arr[5], arr[0])\n",
        "    return 4 * math.pi * area /(peri**2)"
      ],
      "execution_count": 0,
      "outputs": []
    },
    {
      "cell_type": "markdown",
      "metadata": {
        "id": "YgEaQeX45vy2",
        "colab_type": "text"
      },
      "source": [
        "Feature ectraction from each frames"
      ]
    },
    {
      "cell_type": "code",
      "metadata": {
        "id": "_p-bys_SHpbJ",
        "colab_type": "code",
        "colab": {}
      },
      "source": [
        "features = []\n",
        "for l in lm:\n",
        "  mainMarks = l[36:68]\n",
        "  x1, x2, x3 = EAR(mainMarks), MAR(mainMarks), PUC(mainMarks)\n",
        "  features.append([x1, x2, x3, x2/x1])\n",
        "features = np.array(features)"
      ],
      "execution_count": 0,
      "outputs": []
    },
    {
      "cell_type": "markdown",
      "metadata": {
        "id": "8QAjUqM851DN",
        "colab_type": "text"
      },
      "source": [
        "Saving features as .csv file"
      ]
    },
    {
      "cell_type": "code",
      "metadata": {
        "id": "pkal9jbPZbzz",
        "colab_type": "code",
        "colab": {}
      },
      "source": [
        "np.savetxt(\"features_6a.csv\", features, delimiter = \",\")\n",
        "np.savetxt(\"target_6a.csv\", target, delimiter = \",\")"
      ],
      "execution_count": 0,
      "outputs": []
    }
  ]
}